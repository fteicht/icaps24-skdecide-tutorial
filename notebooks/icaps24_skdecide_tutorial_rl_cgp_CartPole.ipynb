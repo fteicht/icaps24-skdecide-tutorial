{
  "nbformat": 4,
  "nbformat_minor": 0,
  "metadata": {
    "colab": {
      "provenance": []
    },
    "kernelspec": {
      "name": "python3",
      "display_name": "Python 3"
    },
    "language_info": {
      "name": "python"
    }
  },
  "cells": [
    {
      "cell_type": "markdown",
      "source": [
        "# ICAPS24 SkDecide Tutorial: solving problems (possibly imported from Gym) with Reinforcement Learning and Cartesian Genetic Programming"
      ],
      "metadata": {
        "id": "3_YQHkyeQh2n"
      }
    },
    {
      "cell_type": "markdown",
      "source": [
        "This tutorial shows how to load a domain in scikit-decide and try to solve it with techniques from different communities:\n",
        "\n",
        "*   [Reinforcement Learning](https://en.wikipedia.org/wiki/Reinforcement_learning) (RL)\n",
        "*   [Cartesian Genetic Programming](https://en.wikipedia.org/wiki/Cartesian_genetic_programming) (CGP)"
      ],
      "metadata": {
        "id": "2LxbyOSZheOg"
      }
    },
    {
      "cell_type": "markdown",
      "source": [
        "## Prerequisites"
      ],
      "metadata": {
        "id": "Il_4li4ZC8tz"
      }
    },
    {
      "cell_type": "markdown",
      "source": [
        "Install scikit-decide:"
      ],
      "metadata": {
        "id": "4DOnkCOhDHPq"
      }
    },
    {
      "cell_type": "code",
      "execution_count": null,
      "metadata": {
        "id": "a6_k1-kmQIhF"
      },
      "outputs": [],
      "source": [
        "!pip install \"scikit-decide[all]\""
      ]
    },
    {
      "cell_type": "markdown",
      "source": [
        "Install renderlab to render Gymnasium environments in Google Colab:"
      ],
      "metadata": {
        "id": "_oHW1CTqhGSx"
      }
    },
    {
      "cell_type": "code",
      "source": [
        "!pip install renderlab"
      ],
      "metadata": {
        "id": "ca_TSyMaCVcF"
      },
      "execution_count": null,
      "outputs": []
    },
    {
      "cell_type": "markdown",
      "source": [
        "## Loading a domain"
      ],
      "metadata": {
        "id": "hL--pz9ritE2"
      }
    },
    {
      "cell_type": "markdown",
      "source": [
        "Once a problem is formalized as a scikit-decide domain, it can be tackled by any compatible solver. Domains can be created from scratch or imported from various formats. Here we demonstrate how to import an environment from [Gymnasium](https://gymnasium.farama.org) (the new official fork of OpenAI Gym, a standard API often used in RL communities), like [Cart Pole](https://gymnasium.farama.org/environments/classic_control/cart_pole):"
      ],
      "metadata": {
        "id": "-u9Ix00ly8EP"
      }
    },
    {
      "cell_type": "code",
      "source": [
        "import gymnasium as gym\n",
        "from renderlab import RenderFrame\n",
        "from skdecide.hub.domain.gym import GymDomain\n",
        "\n",
        "# Select a Gymnasium environment\n",
        "ENV_NAME = \"CartPole-v1\"\n",
        "\n",
        "# Create a domain factory, a callable returning a skdecide domain (used by solvers)\n",
        "def domain_factory(record_videos=False):\n",
        "\n",
        "    # Create a Gymnasium environment\n",
        "    env = gym.make(ENV_NAME, render_mode=\"rgb_array\")\n",
        "\n",
        "    # Maybe wrap it with RenderFrame to record/play episode videos (works in Colab)\n",
        "    if record_videos:\n",
        "        env = RenderFrame(env, \"./render\")\n",
        "\n",
        "    # Return a skdecide domain from a Gymnasium environment\n",
        "    return GymDomain(env)\n",
        "\n",
        "# In simple cases, domain_factory can be created in one line:\n",
        "# domain_factory = lambda: GymDomain(gym.make(ENV_NAME))"
      ],
      "metadata": {
        "id": "DFHsAbNyGv5p"
      },
      "execution_count": 1,
      "outputs": []
    },
    {
      "cell_type": "markdown",
      "source": [
        "The rollout utility provides a quick way to run episodes by taking random actions (or a solver policy as shown later) in the domain:"
      ],
      "metadata": {
        "id": "eDVInz_j2Bxd"
      }
    },
    {
      "cell_type": "code",
      "source": [
        "from skdecide.utils import rollout\n",
        "\n",
        "# Instantiate one domain (used for rollouts)\n",
        "domain = domain_factory(record_videos=True)\n",
        "\n",
        "# Do a random rollout of the domain (random actions are taken when no solver is specified)\n",
        "rollout(domain, num_episodes=1, max_steps=1000, verbose=False) # try verbose=True for more printing\n",
        "domain.unwrapped().play() # watch last episode in video by calling play() on the underlying Gymnasium environment (works in Colab)"
      ],
      "metadata": {
        "colab": {
          "base_uri": "https://localhost:8080/",
          "height": 510
        },
        "id": "6ofAfUPYYqie",
        "outputId": "955843c5-3bf1-4b8f-e73a-294877093b67"
      },
      "execution_count": 2,
      "outputs": [
        {
          "output_type": "stream",
          "name": "stdout",
          "text": [
            "Moviepy - Building video temp-{start}.mp4.\n",
            "Moviepy - Writing video temp-{start}.mp4\n",
            "\n"
          ]
        },
        {
          "output_type": "stream",
          "name": "stderr",
          "text": []
        },
        {
          "output_type": "stream",
          "name": "stdout",
          "text": [
            "Moviepy - Done !\n",
            "Moviepy - video ready temp-{start}.mp4\n"
          ]
        },
        {
          "output_type": "display_data",
          "data": {
            "text/plain": [
              "<IPython.core.display.Video object>"
            ],
            "text/html": [
              "<video controls  >\n",
              " <source src=\"data:video/mp4;base64,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\" type=\"video/mp4\">\n",
              " Your browser does not support the video tag.\n",
              " </video>"
            ]
          },
          "metadata": {}
        }
      ]
    },
    {
      "cell_type": "markdown",
      "source": [
        "## Solving the domain"
      ],
      "metadata": {
        "id": "-HX0VGo5i27F"
      }
    },
    {
      "cell_type": "markdown",
      "source": [
        "One of the key benefits of scikit-decide is its ability to connect the same domain definition to many different solvers from various communities. To demonstrate this versatility, we show how to solve the domain loaded above with both Reinforcement Learning and Cartesian Genetic Programming:"
      ],
      "metadata": {
        "id": "-pWbBwYi5ONH"
      }
    },
    {
      "cell_type": "markdown",
      "source": [
        "### With Reinforcement Learning (RL)"
      ],
      "metadata": {
        "id": "-c8cciF3i8U1"
      }
    },
    {
      "cell_type": "markdown",
      "source": [
        "Scikit-decide provides wrappers for several RL solvers, such as [RLlib](https://docs.ray.io/en/latest/rllib/index.html) and [Stable-Baselines3](https://stable-baselines3.readthedocs.io). We use the latter in this example:"
      ],
      "metadata": {
        "id": "WEyGdz586oq_"
      }
    },
    {
      "cell_type": "code",
      "source": [
        "from stable_baselines3 import PPO\n",
        "from skdecide.hub.solver.stable_baselines import StableBaseline\n",
        "\n",
        "# Check domain compatibility with StableBaseline RL solver (good practice)\n",
        "assert StableBaseline.check_domain(domain)\n",
        "\n",
        "# Instantiate solver with parameters of choice (e.g. type of algo/neural net, learning steps...)\n",
        "solver = StableBaseline(\n",
        "    domain_factory,\n",
        "    algo_class=PPO,\n",
        "    baselines_policy=\"MlpPolicy\",\n",
        "    learn_config={\"total_timesteps\": 10000},\n",
        "    verbose=1\n",
        ")\n",
        "\n",
        "# Solve with RL\n",
        "solver.solve()\n",
        "\n",
        "# Save solution\n",
        "solver.save(\"saved_solution\")"
      ],
      "metadata": {
        "colab": {
          "base_uri": "https://localhost:8080/"
        },
        "id": "u3mGONewUzRZ",
        "outputId": "c29da847-df22-4692-dbfc-55947c5f25d6"
      },
      "execution_count": 3,
      "outputs": [
        {
          "output_type": "stream",
          "name": "stderr",
          "text": [
            "WARNING:py.warnings:/usr/local/lib/python3.10/dist-packages/gymnasium/wrappers/compatibility.py:67: DeprecationWarning: \u001b[33mWARN: The `gymnasium.make(..., apply_api_compatibility=...)` parameter is deprecated and will be removed in v0.29. Instead use `gym.make('GymV21Environment-v0', env_name=...)` or `from shimmy import GymV21CompatibilityV0`\u001b[0m\n",
            "  logger.deprecation(\n",
            "\n"
          ]
        },
        {
          "output_type": "stream",
          "name": "stdout",
          "text": [
            "Using cpu device\n",
            "-----------------------------\n",
            "| time/              |      |\n",
            "|    fps             | 891  |\n",
            "|    iterations      | 1    |\n",
            "|    time_elapsed    | 2    |\n",
            "|    total_timesteps | 2048 |\n",
            "-----------------------------\n",
            "------------------------------------------\n",
            "| time/                   |              |\n",
            "|    fps                  | 594          |\n",
            "|    iterations           | 2            |\n",
            "|    time_elapsed         | 6            |\n",
            "|    total_timesteps      | 4096         |\n",
            "| train/                  |              |\n",
            "|    approx_kl            | 0.0073780883 |\n",
            "|    clip_fraction        | 0.0866       |\n",
            "|    clip_range           | 0.2          |\n",
            "|    entropy_loss         | -0.687       |\n",
            "|    explained_variance   | -0.0121      |\n",
            "|    learning_rate        | 0.0003       |\n",
            "|    loss                 | 7.21         |\n",
            "|    n_updates            | 10           |\n",
            "|    policy_gradient_loss | -0.0131      |\n",
            "|    value_loss           | 62.6         |\n",
            "------------------------------------------\n",
            "---------------------------------------\n",
            "| time/                   |           |\n",
            "|    fps                  | 600       |\n",
            "|    iterations           | 3         |\n",
            "|    time_elapsed         | 10        |\n",
            "|    total_timesteps      | 6144      |\n",
            "| train/                  |           |\n",
            "|    approx_kl            | 0.0107297 |\n",
            "|    clip_fraction        | 0.0867    |\n",
            "|    clip_range           | 0.2       |\n",
            "|    entropy_loss         | -0.669    |\n",
            "|    explained_variance   | 0.0917    |\n",
            "|    learning_rate        | 0.0003    |\n",
            "|    loss                 | 15.5      |\n",
            "|    n_updates            | 20        |\n",
            "|    policy_gradient_loss | -0.0214   |\n",
            "|    value_loss           | 37.8      |\n",
            "---------------------------------------\n",
            "-----------------------------------------\n",
            "| time/                   |             |\n",
            "|    fps                  | 603         |\n",
            "|    iterations           | 4           |\n",
            "|    time_elapsed         | 13          |\n",
            "|    total_timesteps      | 8192        |\n",
            "| train/                  |             |\n",
            "|    approx_kl            | 0.008674022 |\n",
            "|    clip_fraction        | 0.0938      |\n",
            "|    clip_range           | 0.2         |\n",
            "|    entropy_loss         | -0.636      |\n",
            "|    explained_variance   | 0.266       |\n",
            "|    learning_rate        | 0.0003      |\n",
            "|    loss                 | 25.7        |\n",
            "|    n_updates            | 30          |\n",
            "|    policy_gradient_loss | -0.0205     |\n",
            "|    value_loss           | 55.4        |\n",
            "-----------------------------------------\n",
            "-----------------------------------------\n",
            "| time/                   |             |\n",
            "|    fps                  | 589         |\n",
            "|    iterations           | 5           |\n",
            "|    time_elapsed         | 17          |\n",
            "|    total_timesteps      | 10240       |\n",
            "| train/                  |             |\n",
            "|    approx_kl            | 0.007361056 |\n",
            "|    clip_fraction        | 0.0664      |\n",
            "|    clip_range           | 0.2         |\n",
            "|    entropy_loss         | -0.603      |\n",
            "|    explained_variance   | 0.23        |\n",
            "|    learning_rate        | 0.0003      |\n",
            "|    loss                 | 24.4        |\n",
            "|    n_updates            | 40          |\n",
            "|    policy_gradient_loss | -0.0157     |\n",
            "|    value_loss           | 67.7        |\n",
            "-----------------------------------------\n"
          ]
        }
      ]
    },
    {
      "cell_type": "markdown",
      "source": [
        "Now we can run episodes with rollout using the latest solver policy:"
      ],
      "metadata": {
        "id": "xO1EjXHb70Bg"
      }
    },
    {
      "cell_type": "code",
      "source": [
        "# Visualize solution (pass solver to rollout to use its policy)\n",
        "rollout(domain, solver, num_episodes=1, max_steps=1000, verbose=False)\n",
        "domain.unwrapped().play()"
      ],
      "metadata": {
        "colab": {
          "base_uri": "https://localhost:8080/",
          "height": 637
        },
        "id": "Axq05z_7tO-T",
        "outputId": "3b0a83ee-1ddc-44a8-ec67-e6dc6e865158"
      },
      "execution_count": 4,
      "outputs": [
        {
          "output_type": "stream",
          "name": "stderr",
          "text": [
            "WARNING:py.warnings:/usr/local/lib/python3.10/dist-packages/ipykernel/ipkernel.py:283: DeprecationWarning: `should_run_async` will not call `transform_cell` automatically in the future. Please pass the result to `transformed_cell` argument and any exception that happen during thetransform in `preprocessing_exc_tuple` in IPython 7.17 and above.\n",
            "  and should_run_async(code)\n",
            "\n"
          ]
        },
        {
          "output_type": "stream",
          "name": "stdout",
          "text": [
            "Moviepy - Building video temp-{start}.mp4.\n",
            "Moviepy - Writing video temp-{start}.mp4\n",
            "\n"
          ]
        },
        {
          "output_type": "stream",
          "name": "stderr",
          "text": [
            "t:  95%|█████████▌| 186/195 [00:00<00:00, 181.09it/s, now=None]WARNING:py.warnings:/usr/local/lib/python3.10/dist-packages/moviepy/video/io/ffmpeg_reader.py:123: UserWarning: Warning: in file ./render/1717076658.8098516.mp4, 720000 bytes wanted but 0 bytes read,at frame 194/195, at time 6.47/6.47 sec. Using the last valid frame instead.\n",
            "  warnings.warn(\"Warning: in file %s, \"%(self.filename)+\n",
            "\n"
          ]
        },
        {
          "output_type": "stream",
          "name": "stdout",
          "text": [
            "Moviepy - Done !\n",
            "Moviepy - video ready temp-{start}.mp4\n"
          ]
        },
        {
          "output_type": "display_data",
          "data": {
            "text/plain": [
              "<IPython.core.display.Video object>"
            ],
            "text/html": [
              "<video controls  >\n",
              " <source src=\"data:video/mp4;base64,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\" type=\"video/mp4\">\n",
              " Your browser does not support the video tag.\n",
              " </video>"
            ]
          },
          "metadata": {}
        }
      ]
    },
    {
      "cell_type": "markdown",
      "source": [
        "It is always possible to reload a saved solution (especially useful in a new Python session) and possibly continue learning from there. By running this cell a couple of times, you should see increasingly better solutions:"
      ],
      "metadata": {
        "id": "XGEIQWlT8TOz"
      }
    },
    {
      "cell_type": "code",
      "source": [
        "# Optional: reload solution (required if reloading in a new Python session)\n",
        "solver.load(\"saved_solution\")\n",
        "\n",
        "# Continue learning\n",
        "solver.solve()\n",
        "\n",
        "# Save updated solution\n",
        "solver.save(\"saved_solution\")\n",
        "\n",
        "# Visualize updated solution\n",
        "rollout(domain, solver, num_episodes=1, max_steps=1000, verbose=False)\n",
        "domain.unwrapped().play()"
      ],
      "metadata": {
        "colab": {
          "base_uri": "https://localhost:8080/",
          "height": 1000
        },
        "id": "kVaHAX5eXe8X",
        "outputId": "67fc1862-f5bf-4996-bf2d-12b07bdbab24"
      },
      "execution_count": 5,
      "outputs": [
        {
          "output_type": "stream",
          "name": "stderr",
          "text": [
            "WARNING:py.warnings:/usr/local/lib/python3.10/dist-packages/gymnasium/wrappers/compatibility.py:67: DeprecationWarning: \u001b[33mWARN: The `gymnasium.make(..., apply_api_compatibility=...)` parameter is deprecated and will be removed in v0.29. Instead use `gym.make('GymV21Environment-v0', env_name=...)` or `from shimmy import GymV21CompatibilityV0`\u001b[0m\n",
            "  logger.deprecation(\n",
            "\n"
          ]
        },
        {
          "output_type": "stream",
          "name": "stdout",
          "text": [
            "-----------------------------\n",
            "| time/              |      |\n",
            "|    fps             | 1058 |\n",
            "|    iterations      | 1    |\n",
            "|    time_elapsed    | 1    |\n",
            "|    total_timesteps | 2048 |\n",
            "-----------------------------\n",
            "-----------------------------------------\n",
            "| time/                   |             |\n",
            "|    fps                  | 805         |\n",
            "|    iterations           | 2           |\n",
            "|    time_elapsed         | 5           |\n",
            "|    total_timesteps      | 4096        |\n",
            "| train/                  |             |\n",
            "|    approx_kl            | 0.008414998 |\n",
            "|    clip_fraction        | 0.0925      |\n",
            "|    clip_range           | 0.2         |\n",
            "|    entropy_loss         | -0.573      |\n",
            "|    explained_variance   | 0.682       |\n",
            "|    learning_rate        | 0.0003      |\n",
            "|    loss                 | 17.5        |\n",
            "|    n_updates            | 60          |\n",
            "|    policy_gradient_loss | -0.0132     |\n",
            "|    value_loss           | 51.8        |\n",
            "-----------------------------------------\n",
            "-----------------------------------------\n",
            "| time/                   |             |\n",
            "|    fps                  | 669         |\n",
            "|    iterations           | 3           |\n",
            "|    time_elapsed         | 9           |\n",
            "|    total_timesteps      | 6144        |\n",
            "| train/                  |             |\n",
            "|    approx_kl            | 0.005221113 |\n",
            "|    clip_fraction        | 0.0502      |\n",
            "|    clip_range           | 0.2         |\n",
            "|    entropy_loss         | -0.58       |\n",
            "|    explained_variance   | 0.723       |\n",
            "|    learning_rate        | 0.0003      |\n",
            "|    loss                 | 14.5        |\n",
            "|    n_updates            | 70          |\n",
            "|    policy_gradient_loss | -0.00825    |\n",
            "|    value_loss           | 39.8        |\n",
            "-----------------------------------------\n",
            "-----------------------------------------\n",
            "| time/                   |             |\n",
            "|    fps                  | 617         |\n",
            "|    iterations           | 4           |\n",
            "|    time_elapsed         | 13          |\n",
            "|    total_timesteps      | 8192        |\n",
            "| train/                  |             |\n",
            "|    approx_kl            | 0.006324863 |\n",
            "|    clip_fraction        | 0.0541      |\n",
            "|    clip_range           | 0.2         |\n",
            "|    entropy_loss         | -0.582      |\n",
            "|    explained_variance   | 0.841       |\n",
            "|    learning_rate        | 0.0003      |\n",
            "|    loss                 | 6.59        |\n",
            "|    n_updates            | 80          |\n",
            "|    policy_gradient_loss | -0.00791    |\n",
            "|    value_loss           | 26.5        |\n",
            "-----------------------------------------\n",
            "-----------------------------------------\n",
            "| time/                   |             |\n",
            "|    fps                  | 619         |\n",
            "|    iterations           | 5           |\n",
            "|    time_elapsed         | 16          |\n",
            "|    total_timesteps      | 10240       |\n",
            "| train/                  |             |\n",
            "|    approx_kl            | 0.004066074 |\n",
            "|    clip_fraction        | 0.0335      |\n",
            "|    clip_range           | 0.2         |\n",
            "|    entropy_loss         | -0.554      |\n",
            "|    explained_variance   | 0.72        |\n",
            "|    learning_rate        | 0.0003      |\n",
            "|    loss                 | 13.5        |\n",
            "|    n_updates            | 90          |\n",
            "|    policy_gradient_loss | -0.00582    |\n",
            "|    value_loss           | 57.1        |\n",
            "-----------------------------------------\n",
            "Moviepy - Building video temp-{start}.mp4.\n",
            "Moviepy - Writing video temp-{start}.mp4\n",
            "\n"
          ]
        },
        {
          "output_type": "stream",
          "name": "stderr",
          "text": []
        },
        {
          "output_type": "stream",
          "name": "stdout",
          "text": [
            "Moviepy - Done !\n",
            "Moviepy - video ready temp-{start}.mp4\n"
          ]
        },
        {
          "output_type": "display_data",
          "data": {
            "text/plain": [
              "<IPython.core.display.Video object>"
            ],
            "text/html": [
              "<video controls  >\n",
              " <source src=\"data:video/mp4;base64,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\" type=\"video/mp4\">\n",
              " Your browser does not support the video tag.\n",
              " </video>"
            ]
          },
          "metadata": {}
        }
      ]
    },
    {
      "cell_type": "markdown",
      "source": [
        "After using a solver, it is good practice to do a cleanup as shown below (not critical here, but sometimes useful for C++ parallel solvers in scikit-decide). Note that this is automatically done if you use the solver within a `with` statement, which will be shown in the CGP sub-section below as an alternative."
      ],
      "metadata": {
        "id": "YvCHVcp49SWA"
      }
    },
    {
      "cell_type": "code",
      "source": [
        "# Clean up solver after use (good practice)\n",
        "solver._cleanup()"
      ],
      "metadata": {
        "id": "vW7wZXqV9HrT"
      },
      "execution_count": 6,
      "outputs": []
    },
    {
      "cell_type": "markdown",
      "source": [
        "### With Cartesian Genetic Programming (CGP)"
      ],
      "metadata": {
        "id": "W9J6C6C-jILe"
      }
    },
    {
      "cell_type": "code",
      "source": [
        "from skdecide.hub.solver.cgp import CGP\n",
        "\n",
        "# Check domain compatibility with CGP solver (good practice)\n",
        "assert CGP.check_domain(domain)\n",
        "\n",
        "# Instantiate solver with parameters of choice (using \"with\" syntax to avoid manual clean up)\n",
        "with CGP(domain_factory, folder_name=\"TEMP_CGP\", n_it=50) as solver:\n",
        "\n",
        "    # Solve with CGP\n",
        "    solver.solve()\n",
        "\n",
        "    # Visualize solution\n",
        "    rollout(domain, solver, num_episodes=1, max_steps=1000, verbose=False)\n",
        "    domain.unwrapped().play()"
      ],
      "metadata": {
        "colab": {
          "base_uri": "https://localhost:8080/",
          "height": 1000
        },
        "id": "a0h6jiSxjKki",
        "outputId": "a013a62a-d0a3-400c-f7b9-eb61ccd2042a"
      },
      "execution_count": 7,
      "outputs": [
        {
          "output_type": "stream",
          "name": "stdout",
          "text": [
            "[Discrete(2)]\n",
            "[Box([-4.8000002e+00 -3.4028235e+38 -4.1887903e-01 -3.4028235e+38], [4.8000002e+00 3.4028235e+38 4.1887903e-01 3.4028235e+38], (4,), float32)]\n",
            "[20  1  2 14  2  1 12  4  1  0  0  6 20  6  3  9  7  2  2  0  2  1 10  2\n",
            "  6  9 10 13  6  0  1  6  2 14 14  5 18 13 14  4  8  1  3  7  5 13  5  1\n",
            "  3 15  7 15  4 18 17 11  9 16  1 22  8  9  4  8 13 11  0 11 14 20  2 14\n",
            "  5 23 27 12 22 18  2 12 12  8 20 16 14 17 15 18  6 17 16 22 18 19 25 16\n",
            " 12 34  8  2 18 31  8  4 21  1  2 20 19 32 30  4 40 38 18 25 26  6 11 14\n",
            " 16  6 36 16 37 13 17 27 33 16 33 41 11 24 37  5  0 39  2 28 21  3 36  4\n",
            "  5  6  6  9  0 17  2  3  5 19 35 25  1  4 35  7 49 55  1 25 52 17 30 57\n",
            "  9 22 50  4 29 13  3 12  6 15 28 32  9 46 54 10  0 54  1 42 31 15 65 18\n",
            "  5 11 40  2  1  5  3 68 61  1 57 45 19 18 37  9 13 25 18 23 47 14 65 40\n",
            " 19 61 67 15 21  8 13 15 27 18 35 49 10 77 71  9 80 49 20 72 12 16 19 39\n",
            " 18 50 20 17 31 38  1  4 26 13 30 18  5 49 11 10 60 66  4 28 65 11 52 81\n",
            " 17 19 87  0 33 71 19 42 48  9  7 30  2 39 58 15 80 86  9 64 64 20 98 72\n",
            "  5 84 49  3 69 95  2 20 46  1 41 57  4]\n",
            "1 \t 10.0 \t True \t [ 9.  8. 10. 10.]\n",
            "====================================================\n",
            "2 \t 50.0 \t True \t [10. 10. 50. 10.]\n",
            "====================================================\n",
            "3 \t 51.0 \t True \t [36. 39.  9. 51.]\n",
            "====================================================\n",
            "4 \t 52.0 \t True \t [38.  9.  9. 52.]\n",
            "====================================================\n",
            "5 \t 52.0 \t False \t [31. 42.  8.  9.]\n",
            "====================================================\n",
            "6 \t 71.0 \t True \t [40. 52. 71. 41.]\n",
            "====================================================\n",
            "7 \t 71.0 \t False \t [ 9. 57. 55.  8.]\n",
            "====================================================\n",
            "8 \t 71.0 \t False \t [ 9. 51. 10. 51.]\n",
            "====================================================\n",
            "9 \t 71.0 \t False \t [24. 45. 38. 26.]\n",
            "====================================================\n",
            "10 \t 71.0 \t False \t [49.  9. 47. 25.]\n",
            "====================================================\n",
            "11 \t 71.0 \t False \t [39. 10. 51. 57.]\n",
            "====================================================\n",
            "12 \t 71.0 \t False \t [ 9. 26. 39. 48.]\n",
            "====================================================\n",
            "13 \t 71.0 \t False \t [51. 32.  9. 25.]\n",
            "====================================================\n",
            "14 \t 71.0 \t False \t [46.  9. 46.  9.]\n",
            "====================================================\n",
            "15 \t 71.0 \t False \t [ 9. 25. 48. 26.]\n",
            "====================================================\n",
            "16 \t 71.0 \t False \t [44. 41. 31. 18.]\n",
            "====================================================\n",
            "17 \t 71.0 \t False \t [45. 42. 56. 46.]\n",
            "====================================================\n",
            "18 \t 71.0 \t False \t [40. 41. 32. 44.]\n",
            "====================================================\n",
            "19 \t 71.0 \t False \t [40. 37.  9. 58.]\n",
            "====================================================\n",
            "20 \t 71.0 \t False \t [ 9.  8. 52. 20.]\n",
            "====================================================\n",
            "21 \t 71.0 \t False \t [ 9. 38. 35.  9.]\n",
            "====================================================\n",
            "22 \t 71.0 \t False \t [ 9. 25. 42.  9.]\n",
            "====================================================\n",
            "23 \t 71.0 \t False \t [68. 40. 35. 11.]\n",
            "====================================================\n",
            "24 \t 71.0 \t False \t [46. 52.  9. 25.]\n",
            "====================================================\n",
            "25 \t 71.0 \t False \t [ 9.  8. 25. 10.]\n",
            "====================================================\n",
            "26 \t 71.0 \t False \t [ 9. 10. 10. 40.]\n",
            "====================================================\n",
            "27 \t 71.0 \t False \t [46.  8. 40. 35.]\n",
            "====================================================\n",
            "28 \t 71.0 \t False \t [12. 40. 32. 39.]\n",
            "====================================================\n",
            "29 \t 71.0 \t False \t [39. 17. 42. 47.]\n",
            "====================================================\n",
            "30 \t 71.0 \t False \t [ 9. 10. 41. 10.]\n",
            "====================================================\n",
            "31 \t 71.0 \t False \t [10. 41. 35.  9.]\n",
            "====================================================\n",
            "32 \t 71.0 \t False \t [39. 42. 35. 48.]\n",
            "====================================================\n",
            "33 \t 71.0 \t False \t [11. 35. 25. 25.]\n",
            "====================================================\n",
            "34 \t 71.0 \t False \t [39. 42. 25. 36.]\n",
            "====================================================\n",
            "35 \t 71.0 \t False \t [ 9.  9. 35.  9.]\n",
            "====================================================\n",
            "36 \t 71.0 \t False \t [39. 10. 34. 48.]\n",
            "====================================================\n",
            "37 \t 71.0 \t False \t [47. 45.  9. 12.]\n",
            "====================================================\n",
            "38 \t 71.0 \t False \t [37.  8. 10. 10.]\n",
            "====================================================\n",
            "39 \t 71.0 \t False \t [51.  9. 10. 40.]\n",
            "====================================================\n",
            "40 \t 71.0 \t False \t [32. 12.  9. 51.]\n",
            "====================================================\n",
            "41 \t 71.0 \t False \t [44. 10. 58. 38.]\n",
            "====================================================\n",
            "42 \t 71.0 \t False \t [46. 52.  9. 38.]\n",
            "====================================================\n",
            "43 \t 71.0 \t False \t [41. 11. 35. 44.]\n",
            "====================================================\n",
            "44 \t 71.0 \t False \t [10. 40. 11. 41.]\n",
            "====================================================\n",
            "45 \t 71.0 \t False \t [ 9. 39.  8. 44.]\n",
            "====================================================\n",
            "46 \t 71.0 \t False \t [ 9.  9. 35. 41.]\n",
            "====================================================\n",
            "47 \t 71.0 \t False \t [53. 39. 47. 39.]\n",
            "====================================================\n",
            "48 \t 71.0 \t False \t [ 9. 10.  9.  9.]\n",
            "====================================================\n",
            "49 \t 71.0 \t False \t [51. 25. 10. 10.]\n",
            "====================================================\n",
            "50 \t 71.0 \t False \t [ 8. 10. 10. 21.]\n",
            "====================================================\n",
            "Moviepy - Building video temp-{start}.mp4.\n",
            "Moviepy - Writing video temp-{start}.mp4\n",
            "\n"
          ]
        },
        {
          "output_type": "stream",
          "name": "stderr",
          "text": [
            "t:  57%|█████▋    | 24/42 [00:00<00:00, 231.28it/s, now=None]WARNING:py.warnings:/usr/local/lib/python3.10/dist-packages/moviepy/video/io/ffmpeg_reader.py:123: UserWarning: Warning: in file ./render/1717077900.3986228.mp4, 720000 bytes wanted but 0 bytes read,at frame 41/42, at time 1.37/1.37 sec. Using the last valid frame instead.\n",
            "  warnings.warn(\"Warning: in file %s, \"%(self.filename)+\n",
            "\n"
          ]
        },
        {
          "output_type": "stream",
          "name": "stdout",
          "text": [
            "Moviepy - Done !\n",
            "Moviepy - video ready temp-{start}.mp4\n"
          ]
        },
        {
          "output_type": "display_data",
          "data": {
            "text/plain": [
              "<IPython.core.display.Video object>"
            ],
            "text/html": [
              "<video controls  >\n",
              " <source src=\"data:video/mp4;base64,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\" type=\"video/mp4\">\n",
              " Your browser does not support the video tag.\n",
              " </video>"
            ]
          },
          "metadata": {}
        }
      ]
    },
    {
      "cell_type": "markdown",
      "source": [
        "In this example, you may find that RL often finds better solutions than CGP (although this depends on the solver parameters and the random seed). Note however that this is highly problem-dependent: try re-running this notebook after setting `ENV_NAME = \"MountainCarContinuous-v0\"` at the beginning and you may find opposite results. That shows the power of having a wide catalog of solvers to find the best solution for each specific problem!"
      ],
      "metadata": {
        "id": "oYIYNN1wEKAX"
      }
    }
  ]
}