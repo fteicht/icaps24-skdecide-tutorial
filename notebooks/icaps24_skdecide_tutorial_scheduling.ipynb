{
 "cells": [
  {
   "cell_type": "markdown",
   "id": "15a7c1f1-edbd-4e02-a06f-5a0b47a63cee",
   "metadata": {
    "editable": true,
    "slideshow": {
     "slide_type": "slide"
    },
    "tags": []
   },
   "source": [
    "# Scheduling in scikit-decide\n",
    "\n",
    "## Icaps Tutorial 2024\n",
    "Florent Teichteil Koenigsbuch, Alexandre Arnold, Guillaume Povéda\n",
    "\n",
    "Credits to [IMACS](https://imacs.polytechnique.fr/) and [Olivier Regnier-Coudert](https://github.com/olivierabz)\n",
    "In this tutorial notebook, you will be introduced to scheduling domains in scikit-decide."
   ]
  },
  {
   "cell_type": "markdown",
   "id": "f648f006",
   "metadata": {
    "editable": true,
    "slideshow": {
     "slide_type": "slide"
    },
    "tags": []
   },
   "source": [
    "### What is scheduling and how it is different from planning or control domains ?\n",
    "\n",
    "\n",
    "Main characteristic of scheduling problems compared to classical planning : \n",
    "- Parallel tasks\n",
    "- Time dimension is preponderant\n",
    "- Complex time dependant constraint ?\n",
    "- For most scheduling problems we know the task to accomplish in advance contrary to planning problems.\n",
    "\n",
    "Solving technologies to solve scheduling problems :\n",
    "- State of the art are more on operational research community : mathematical programming, metaheuristic, discrete optimization in general -> need to extend scikit-decide with such solver technologies ! "
   ]
  },
  {
   "cell_type": "markdown",
   "id": "59fa32b9",
   "metadata": {
    "editable": true,
    "slideshow": {
     "slide_type": "slide"
    },
    "tags": []
   },
   "source": [
    "## Scheduling API in scikit-decide\n",
    "We developped a side API to be able to describe scheduling problems in scikit-decide.\n",
    "\n",
    "<img src=\"images/skdecide_characteristics_1.png\" alt=\"Example Image\" width=\"20%\">"
   ]
  },
  {
   "cell_type": "markdown",
   "id": "523c2e82-df1a-455f-aa27-8ae45c0a1a20",
   "metadata": {
    "editable": true,
    "slideshow": {
     "slide_type": "subslide"
    },
    "tags": []
   },
   "source": [
    "A base scheduling domain is : \n",
    "\n",
    "- SingleAgent : implementation choice, in practice some scheduling problem could be encoded as MA\n",
    "- Sequential : even though task are executed in parallel we implement domain in a way that is compatible with Sequential caracteristic.\n",
    "- Simulation : step function are stateless and can be somulated (sample transition from any state)\n",
    "- DeterministicInitialized : we start from an empty schedule [could be changed]\n",
    "- Actions : only controlled event like starting tasks are considered\n",
    "- FullyObservable : we know the current status of the schedule\n",
    "- Markovian : next state only depends on action and current state\n",
    "- Goals : goal is to accomplish all task"
   ]
  },
  {
   "cell_type": "markdown",
   "id": "289db6f6-91f7-4554-8c4a-ead0b2871b27",
   "metadata": {
    "editable": true,
    "slideshow": {
     "slide_type": "subslide"
    },
    "tags": []
   },
   "source": [
    "### Special features of scheduling problems :\n",
    "A scheduling problem is defined with additional features that are specific to scheduling, most of them being self explanatory. \\\n",
    "Each of the feature is requiring implementation of class methods, that are easy to implement (only giving a description of the scheduling problems using data containers, as you will see in the example).\n",
    "\n",
    "[Reference doc on scheduling features](https://airbus.github.io/scikit-decide/reference/#scheduling)\n",
    "- WithPrecedence/WithoutPrecedence : \n",
    "- MultiMode/SingleMode : multiple or single way of doing a taks\n",
    "- VariableResourceConsumption/ConstantResourceConsumption : task needing variable or constant resource quantity during execution...\n",
    "- WithPreemptivity/WithoutPreemptivity : allow or not preemption of task\n",
    "- WithResourceTypes/WithoutResourceTypes\n",
    "- WithResourceUnits/WithoutResourceUnits\n",
    "- MixedRenewable/RenewableOnly\n",
    "- SimulatedTaskDuration/UncertainMultivariateTaskDuration/UncertainUnivariateTaskDuration/UncertainBoundedTaskDuration/UniformBoundedTaskDuration/EnumerableTaskDuration/DeterministicTaskDuration\n",
    "- CustomTaskProgress/DeterministicTaskProgress\n",
    "- WithResourceSkills/WithoutResourceSkills\n",
    "- WithTimeLag/WithoutTimeLag\n",
    "- WithTimeWindow/WithoutTimeWindow\n",
    "- WithPreallocations/WithoutPreallocations\n",
    "- WihConditionalTasks/WithoutConditionnalTasks\n",
    "- UncertainResourceAvailabilityChanges/DeterministicResourceAvailabilityChanges/WithoutResourceAvailabilityChange\n",
    "- WithModeCosts/WithoutModeCosts\n",
    "- WithResourceCosts/WithoutResourceCosts\n"
   ]
  },
  {
   "cell_type": "markdown",
   "id": "2a733844-4ba3-40ea-85a5-5a9bf2464212",
   "metadata": {
    "editable": true,
    "slideshow": {
     "slide_type": "slide"
    },
    "tags": []
   },
   "source": [
    "### Domain implementation\n",
    "See ref : **An empirical evaluation of permutation-based policies for stochastic RCPSP**, <i>Regnier-Coudert, Olivier and Povéda, Guillaume</i>, GECCO21 for more insights of the domain implementation.\n",
    "\n",
    "Behind the wall, a scikit-decide domain is fully implemented from the pure scheduling features.\n",
    "It implements the simulator from 1 scheduling state to another one, action available functions etc for the scheduling domain. \\\n",
    "Therefore, user don't need to implement get_next_state or other functions needed in scikit-decide. \\\n",
    "States and actions are containing those features :\n",
    "- State :\n",
    "    - set of task done\n",
    "    - set of remaining task\n",
    "    - set of starting time for each task, current progress, and resource allocated to it\n",
    "    - resource available\n",
    "- Actions : \n",
    "    - Start a task and allocate some resource to it\n",
    "    - Stop a task\n",
    "    - Resume a task and allocate some resource to it\n",
    "    - Do nothing (this will have no effect but to advance the simulation time to next time step or next event)"
   ]
  },
  {
   "cell_type": "markdown",
   "id": "19184b46-63b4-4898-ba9d-388899abbf76",
   "metadata": {},
   "source": [
    "##### **Setting up environment and do necessary imports.**"
   ]
  },
  {
   "cell_type": "code",
   "execution_count": 1,
   "id": "e193743c-93c3-4b1b-a502-fdd03e8c0d43",
   "metadata": {},
   "outputs": [],
   "source": [
    "from IPython.display import clear_output"
   ]
  },
  {
   "cell_type": "code",
   "execution_count": 2,
   "id": "3ad0e2fb-3138-45a1-8b3a-6fbb62dd8d8f",
   "metadata": {},
   "outputs": [],
   "source": [
    "!pip install -U discrete-optimization\n",
    "!pip install -U \"scikit-decide[all]\"\n",
    "clear_output()"
   ]
  },
  {
   "cell_type": "code",
   "execution_count": 3,
   "id": "4dbe9bb0-c5b6-4d3d-a103-d5d0ffb43e4d",
   "metadata": {},
   "outputs": [],
   "source": [
    "import os\n",
    "install_minizinc = False # Put to True if you don't have minizinc in your computer, or if you're using colab. [Note] : only working on linux computers, in worst case, don't install minizinc ;)\n",
    "if install_minizinc:\n",
    "  !curl -o minizinc.AppImage -L https://github.com/MiniZinc/MiniZincIDE/releases/download/2.6.3/MiniZincIDE-2.6.3-x86_64.AppImage\n",
    "  !chmod +x minizinc.AppImage\n",
    "  !./minizinc.AppImage --appimage-extract\n",
    "  os.environ[\"PATH\"] = f\"{os.getcwd()}/squashfs-root/usr/bin/:{os.environ['PATH']}\"\n",
    "  os.environ[\"LD_LIBRARY_PATH\"] = (\n",
    "      f\"{os.getcwd()}/squashfs-root/usr/lib/:{os.environ['LD_LIBRARY_PATH']}\"\n",
    "  )\n",
    "  clear_output()"
   ]
  },
  {
   "cell_type": "code",
   "execution_count": 4,
   "id": "fb3d978c",
   "metadata": {
    "editable": true,
    "slideshow": {
     "slide_type": "skip"
    },
    "tags": []
   },
   "outputs": [],
   "source": [
    "# Basic installation of libraries and download of needed files (notably when using colab)\n",
    "!wget https://raw.githubusercontent.com/fteicht/icaps24-skdecide-tutorial/main/notebooks/install_skdecide.py\n",
    "!wget https://raw.githubusercontent.com/fteicht/icaps24-skdecide-tutorial/gpd/rcpsp_rl/notebooks/imports_notebook.py\n",
    "!wget https://raw.githubusercontent.com/fteicht/icaps24-skdecide-tutorial/gpd/rcpsp_rl/notebooks/setup_environment_scheduling.py\n",
    "import os\n",
    "import logging\n",
    "# from install_skdecide import install_skdecide\n",
    "# install_skdecide(using_nightly_version=False, force_reinstall=False)\n",
    "from setup_environment_scheduling import (download_files_needed,\n",
    "                                          install_additional_dependencies)\n",
    "download_files_needed()\n",
    "install_additional_dependencies(force_reinstall=False)\n",
    "logging.basicConfig(level=logging.CRITICAL)\n",
    "clear_output()"
   ]
  },
  {
   "cell_type": "code",
   "execution_count": 5,
   "id": "c66e13fd-08b7-4727-8438-d3c607ea8112",
   "metadata": {},
   "outputs": [],
   "source": [
    "from imports_notebook import *\n",
    "import logging\n",
    "logging.basicConfig(level=logging.CRITICAL)"
   ]
  },
  {
   "cell_type": "markdown",
   "id": "5c4dbd00-ae8b-438d-93a9-ca2bc65744c4",
   "metadata": {
    "editable": true,
    "slideshow": {
     "slide_type": "slide"
    },
    "tags": []
   },
   "source": [
    "## RCPSP template\n",
    "In particular, scheduling domain can represent RCPSP and its many other variants.\n",
    "\n",
    "Resource-constrained project scheduling problem (RCPSP) is made of $M$ activities that have precedence constraints. That means that if activity $j \\in [1,M]$ is a successor of activity $i \\in [1,M]$, then activity $i$ must be completed before activity $j$ can be started.\n",
    "\n",
    "On top of these constraints, each project is assigned a set of K renewable resources where each resource $k$ is available in $R_{k}$ units for the entire duration of the project. Each activity may require one or more of these resources to be completed. -- While scheduling the activities, the daily resource usage for resource $k$ can not exceed $R_{k}$ units.\n",
    "- Each activity $j$ takes $d_{j}$ time units to complete\n",
    "- The overall goal of the problem is usually to minimize the makespan\n",
    "\n",
    "A classic variant of RCPSP is the multimode RCPSP where each task can be executed in several ways (one way=one mode). A typical example is :\n",
    "- Mode n°1 'Fast mode': high resource consumption and fast\n",
    "- Mode n°2 'Slow mode' : low resource consumption but slow"
   ]
  },
  {
   "cell_type": "code",
   "execution_count": 6,
   "id": "5c329472-972c-49f1-883c-2dcfaa0763bb",
   "metadata": {
    "custom_css": "autofit",
    "editable": true,
    "slideshow": {
     "slide_type": "subslide"
    },
    "tags": []
   },
   "outputs": [
    {
     "data": {
      "text/plain": [
       "\u001b[0;31mInit signature:\u001b[0m \u001b[0mSingleModeRCPSP\u001b[0m\u001b[0;34m(\u001b[0m\u001b[0;34m)\u001b[0m\u001b[0;34m\u001b[0m\u001b[0;34m\u001b[0m\u001b[0m\n",
       "\u001b[0;31mSource:\u001b[0m        \n",
       "\u001b[0;32mclass\u001b[0m \u001b[0mSingleModeRCPSP\u001b[0m\u001b[0;34m(\u001b[0m\u001b[0;34m\u001b[0m\n",
       "\u001b[0;34m\u001b[0m    \u001b[0mDeterministicSchedulingDomain\u001b[0m\u001b[0;34m,\u001b[0m\u001b[0;34m\u001b[0m\n",
       "\u001b[0;34m\u001b[0m    \u001b[0mSingleMode\u001b[0m\u001b[0;34m,\u001b[0m\u001b[0;34m\u001b[0m\n",
       "\u001b[0;34m\u001b[0m    \u001b[0mDeterministicTaskDuration\u001b[0m\u001b[0;34m,\u001b[0m\u001b[0;34m\u001b[0m\n",
       "\u001b[0;34m\u001b[0m    \u001b[0mDeterministicTaskProgress\u001b[0m\u001b[0;34m,\u001b[0m\u001b[0;34m\u001b[0m\n",
       "\u001b[0;34m\u001b[0m    \u001b[0mWithoutResourceUnit\u001b[0m\u001b[0;34m,\u001b[0m\u001b[0;34m\u001b[0m\n",
       "\u001b[0;34m\u001b[0m    \u001b[0mWithoutPreallocations\u001b[0m\u001b[0;34m,\u001b[0m\u001b[0;34m\u001b[0m\n",
       "\u001b[0;34m\u001b[0m    \u001b[0mWithoutTimeLag\u001b[0m\u001b[0;34m,\u001b[0m\u001b[0;34m\u001b[0m\n",
       "\u001b[0;34m\u001b[0m    \u001b[0mWithoutTimeWindow\u001b[0m\u001b[0;34m,\u001b[0m\u001b[0;34m\u001b[0m\n",
       "\u001b[0;34m\u001b[0m    \u001b[0mWithoutResourceSkills\u001b[0m\u001b[0;34m,\u001b[0m\u001b[0;34m\u001b[0m\n",
       "\u001b[0;34m\u001b[0m    \u001b[0mWithoutResourceAvailabilityChange\u001b[0m\u001b[0;34m,\u001b[0m\u001b[0;34m\u001b[0m\n",
       "\u001b[0;34m\u001b[0m    \u001b[0mWithoutConditionalTasks\u001b[0m\u001b[0;34m,\u001b[0m\u001b[0;34m\u001b[0m\n",
       "\u001b[0;34m\u001b[0m    \u001b[0mRenewableOnly\u001b[0m\u001b[0;34m,\u001b[0m\u001b[0;34m\u001b[0m\n",
       "\u001b[0;34m\u001b[0m    \u001b[0mConstantResourceConsumption\u001b[0m\u001b[0;34m,\u001b[0m  \u001b[0;31m# problem with unimplemented classes with this\u001b[0m\u001b[0;34m\u001b[0m\n",
       "\u001b[0;34m\u001b[0m    \u001b[0mWithoutPreemptivity\u001b[0m\u001b[0;34m,\u001b[0m  \u001b[0;31m# problem with unimplemented classes with this\u001b[0m\u001b[0;34m\u001b[0m\n",
       "\u001b[0;34m\u001b[0m    \u001b[0mWithoutModeCosts\u001b[0m\u001b[0;34m,\u001b[0m\u001b[0;34m\u001b[0m\n",
       "\u001b[0;34m\u001b[0m    \u001b[0mWithoutResourceCosts\u001b[0m\u001b[0;34m,\u001b[0m\u001b[0;34m\u001b[0m\n",
       "\u001b[0;34m\u001b[0m\u001b[0;34m)\u001b[0m\u001b[0;34m:\u001b[0m\u001b[0;34m\u001b[0m\n",
       "\u001b[0;34m\u001b[0m    \u001b[0;34m\"\"\"\u001b[0m\n",
       "\u001b[0;34m    Single mode (classic) Resource project scheduling problem template.\u001b[0m\n",
       "\u001b[0;34m    It consists in :\u001b[0m\n",
       "\u001b[0;34m    - a deterministic scheduling problem with precedence constraint between task\u001b[0m\n",
       "\u001b[0;34m    - a set of renewable resource with constant availability (capacity)\u001b[0m\n",
       "\u001b[0;34m    - task having deterministic resource consumption\u001b[0m\n",
       "\u001b[0;34m    The goal is to minimize the overall makespan, respecting the cumulative resource consumption constraint\u001b[0m\n",
       "\u001b[0;34m    \"\"\"\u001b[0m\u001b[0;34m\u001b[0m\n",
       "\u001b[0;34m\u001b[0m\u001b[0;34m\u001b[0m\n",
       "\u001b[0;34m\u001b[0m    \u001b[0;32mpass\u001b[0m\u001b[0;34m\u001b[0m\u001b[0;34m\u001b[0m\u001b[0m\n",
       "\u001b[0;31mFile:\u001b[0m           ~/Library/Caches/pypoetry/virtualenvs/scikit-decide-A3wwHfZU-py3.10/lib/python3.10/site-packages/skdecide/builders/domain/scheduling/scheduling_domains.py\n",
       "\u001b[0;31mType:\u001b[0m           type\n",
       "\u001b[0;31mSubclasses:\u001b[0m     "
      ]
     },
     "metadata": {},
     "output_type": "display_data"
    }
   ],
   "source": [
    "# Let's look what defines the classical RCPSP for example in terms of scheduling features.\n",
    "SingleModeRCPSP??"
   ]
  },
  {
   "cell_type": "markdown",
   "id": "0a90d938-0c63-4a04-9bf0-e539d5ebaee6",
   "metadata": {
    "editable": true,
    "slideshow": {
     "slide_type": "subslide"
    },
    "tags": []
   },
   "source": [
    "### Small RCPSP Domain\n",
    "When implementing a ```SingleModeRCPSP```, you are asked to fill a few methods as in this example.\\\n",
    "As we pointed out before, there is no complex code to implement, only description of the scheduling instance respecting the typing convention."
   ]
  },
  {
   "cell_type": "code",
   "execution_count": 7,
   "id": "5f961346",
   "metadata": {
    "custom_css": "autofit",
    "editable": true,
    "slideshow": {
     "slide_type": ""
    },
    "tags": []
   },
   "outputs": [],
   "source": [
    "class VerySimple_RCPSPDomain(SingleModeRCPSP):\n",
    "    def __init__(self):\n",
    "        self.initialize_domain()\n",
    "\n",
    "    # We optimize the makespan\n",
    "    def _get_objectives(self) -> List[SchedulingObjectiveEnum]:\n",
    "        return [SchedulingObjectiveEnum.MAKESPAN]\n",
    "    \n",
    "    # The max horizon is 10\n",
    "    def _get_max_horizon(self) -> int:\n",
    "        return 10\n",
    "    \n",
    "    # For each task returns its successors \n",
    "    def _get_successors(self) -> Dict[int, List[int]]:\n",
    "        return {\n",
    "            1: [2, 4],\n",
    "            2: [3],\n",
    "            3: [5],\n",
    "            4: [5],\n",
    "            5: [],\n",
    "        }\n",
    "    \n",
    "    # Return task ids\n",
    "    def _get_tasks_ids(self) -> Union[Set[int], Dict[int, Any], List[int]]:\n",
    "        return set([*range(1, 6)])\n",
    "\n",
    "    # Details the resource consumption for each task\n",
    "    def _get_tasks_mode(self) -> Dict[int, ModeConsumption]:\n",
    "        return {\n",
    "            1: ConstantModeConsumption({\"r1\": 0}),\n",
    "            2: ConstantModeConsumption({\"r1\": 4}),\n",
    "            3: ConstantModeConsumption({\"r1\": 1}),\n",
    "            4: ConstantModeConsumption({\"r1\": 0}),\n",
    "            5: ConstantModeConsumption({\"r1\": 0}),\n",
    "        }\n",
    "\n",
    "    # Returns all resource types in the problem\n",
    "    def _get_resource_types_names(self) -> List[str]:\n",
    "        return [\"r1\"]\n",
    "\n",
    "    # Task duration by mode, here fully deterministic\n",
    "    def _get_task_duration(\n",
    "        self, task: int, mode: Optional[int] = 1, progress_from: Optional[float] = 0.0\n",
    "    ) -> int:\n",
    "        all_durations = {1: 0, 2: 3, 3: 3, 4: 7, 5: 0}\n",
    "        return all_durations[task]\n",
    "\n",
    "    # Returns resource capacity\n",
    "    def _get_original_quantity_resource(self, resource: str, **kwargs) -> int:\n",
    "        all_resource_quantities = {\"r1\": 7}\n",
    "        return all_resource_quantities[resource]"
   ]
  },
  {
   "cell_type": "markdown",
   "id": "9d89b5e2-4e8b-4806-9012-680d34bf0352",
   "metadata": {},
   "source": [
    "#### Domain instanciation \n",
    "Let's instanciate the domain and see what is inside a state (already implemented in scikit-decide)"
   ]
  },
  {
   "cell_type": "code",
   "execution_count": 8,
   "id": "45a105db-62ff-4dcc-a137-4b71598e8b39",
   "metadata": {
    "editable": true,
    "slideshow": {
     "slide_type": ""
    },
    "tags": []
   },
   "outputs": [
    {
     "name": "stdout",
     "output_type": "stream",
     "text": [
      " The state contains the following field:\n",
      "['copy',\n",
      " 'resource_availability',\n",
      " 'resource_to_task',\n",
      " 'resource_used',\n",
      " 'resource_used_for_task',\n",
      " 't',\n",
      " 'task_ids',\n",
      " 'tasks_complete',\n",
      " 'tasks_complete_details',\n",
      " 'tasks_complete_mode',\n",
      " 'tasks_complete_progress',\n",
      " 'tasks_details',\n",
      " 'tasks_full_details',\n",
      " 'tasks_mode',\n",
      " 'tasks_ongoing',\n",
      " 'tasks_paused',\n",
      " 'tasks_progress',\n",
      " 'tasks_remaining',\n",
      " 'tasks_unsatisfiable']\n"
     ]
    }
   ],
   "source": [
    "domain = VerySimple_RCPSPDomain()\n",
    "domain.set_inplace_environment(False)\n",
    "state = domain.get_initial_state()\n",
    "print(f\" The state contains the following field:\")\n",
    "from pprint import pprint\n",
    "pprint([x for x in dir(state) if not x.startswith(\"_\")])"
   ]
  },
  {
   "cell_type": "markdown",
   "id": "af6eeaac-b5ab-4cb2-aa89-134986c8b7f4",
   "metadata": {},
   "source": [
    "Now let see what are the available actions in the initial state : \n",
    "You should get : \n",
    "- Starting task 1 (which is the \"source\" task in our problem)\n",
    "- Advance in time"
   ]
  },
  {
   "cell_type": "code",
   "execution_count": 9,
   "id": "85a068c4-62da-4ad1-91a8-f97dc0b1decc",
   "metadata": {
    "editable": true,
    "slideshow": {
     "slide_type": ""
    },
    "tags": []
   },
   "outputs": [
    {
     "name": "stdout",
     "output_type": "stream",
     "text": [
      "Action \n",
      "Task : 1\n",
      "Mode : 1\n",
      "Action type START\n",
      "Time progress False\n",
      "Resource : None\n",
      "\n",
      "Action \n",
      "Task : None\n",
      "Mode : None\n",
      "Action type TIME_PR\n",
      "Time progress True\n",
      "Resource : None\n"
     ]
    }
   ],
   "source": [
    "print(\n",
    "    \"\\n\\n\".join([str(a) for a in domain.get_applicable_actions(state).get_elements()])\n",
    ")"
   ]
  },
  {
   "cell_type": "markdown",
   "id": "0a70de97-c143-447a-b01a-ec4603d8bf23",
   "metadata": {
    "editable": true,
    "slideshow": {
     "slide_type": "slide"
    },
    "tags": []
   },
   "source": [
    "#### Solving RCPSP domains\n",
    "\n",
    "We will study 3 different ways of solving scheduling problem\n",
    "- Classical graph search algorithm (A*) on (very small) instances\n",
    "- Combinatorial optimization and heuristics\n",
    "- Reinforcement learning"
   ]
  },
  {
   "cell_type": "markdown",
   "id": "d00216b8-56fa-4356-a0d5-c522643db0c4",
   "metadata": {
    "editable": true,
    "jp-MarkdownHeadingCollapsed": true,
    "slideshow": {
     "slide_type": "subslide"
    },
    "tags": []
   },
   "source": [
    "#### Solving with A*"
   ]
  },
  {
   "cell_type": "markdown",
   "id": "9e9add91-b742-4e9e-b6d7-6a238b7fa694",
   "metadata": {},
   "source": [
    "Scheduling domain can be solved with compatible solver in the library scikit-decide. In the case of RCPSP, deterministic planning solver such as A* can be tried. This solver will only work with tiny scheduling problem."
   ]
  },
  {
   "cell_type": "code",
   "execution_count": 10,
   "id": "6cbe3d8f-f4fe-466c-a5d8-085c4ec36a78",
   "metadata": {
    "editable": true,
    "slideshow": {
     "slide_type": ""
    },
    "tags": []
   },
   "outputs": [
    {
     "name": "stderr",
     "output_type": "stream",
     "text": [
      "2024-05-29 18:00:43,163 | skdecide.utils | INFO | The goal was reached in episode 1.\n"
     ]
    }
   ],
   "source": [
    "from skdecide.hub.solver.lazy_astar import LazyAstar\n",
    "solver = LazyAstar(domain_factory=lambda: domain, heuristic=None)\n",
    "solver.solve(from_memory=state)\n",
    "# Rollout from scikit-decide main library ! \n",
    "episode = rollout(\n",
    "    domain=domain, solver=solver, verbose=False, return_episodes=True, num_episodes=1\n",
    ")[0]"
   ]
  },
  {
   "cell_type": "code",
   "execution_count": 11,
   "id": "f3407b6c-0910-49b8-8afb-f9956dcd0c2a",
   "metadata": {
    "editable": true,
    "slideshow": {
     "slide_type": "subslide"
    },
    "tags": []
   },
   "outputs": [
    {
     "data": {
      "image/png": "[encoded data removed]",
      "text/plain": [
       "<Figure size 1000x1000 with 1 Axes>"
      ]
     },
     "metadata": {},
     "output_type": "display_data"
    },
    {
     "data": {
      "image/png": "[encoded data removed]",
      "text/plain": [
       "<Figure size 1000x500 with 1 Axes>"
      ]
     },
     "metadata": {},
     "output_type": "display_data"
    }
   ],
   "source": [
    "# Ploting solution\n",
    "states = episode[0]\n",
    "do_sol = from_last_state_to_solution(states[-1], domain)\n",
    "# Each line of the plot is a task\n",
    "fig_gantt = plot_task_gantt(do_sol.problem, do_sol)\n",
    "# Plot resource consumption plot\n",
    "fig_resource = plot_ressource_view(do_sol.problem, do_sol)"
   ]
  },
  {
   "cell_type": "markdown",
   "id": "5be627ef-0e78-4047-a4e3-703046b26a57",
   "metadata": {
    "editable": true,
    "slideshow": {
     "slide_type": "slide"
    },
    "tags": []
   },
   "source": [
    "## Solving with combinatorial optimization \n",
    "Naïve graph search won't be efficient on classical sized instance. We developed a range of solvers based on operational research/discrete optimization methods to solve scheduling problems in skdecide.\n",
    "[Discrete Optimization](https://github.com/airbus/discrete-optimization) library is the scheduling engine to solve scikit-decide scheduling domains. It implements an extensive API similar to scikit-decide for combinatorial optimization problems.\n",
    "\n",
    "Besides scheduling it implements a wide range of domain (optimisation problems):\n",
    "- knapsack, coloring, tsp, vrp, maximum independent set, facility location, rcpsp and variants.\n",
    "\n",
    "All problems have a complete set of solving solvers available : \n",
    "- Mathematical programming methods (Milp with open source solver and Gurobi, CP with Ortools, minizinc models..)\n",
    "- Local search and genetic algorithms\n",
    "- Custom heuristics (queue scheduling etc)\n",
    "API is flexible to combine different solver together, do (semi) automatic hyperparameter optimisation."
   ]
  },
  {
   "cell_type": "code",
   "execution_count": 12,
   "id": "5494db2e-8118-4cdd-930a-55cbbbf34543",
   "metadata": {
    "editable": true,
    "slideshow": {
     "slide_type": "skip"
    },
    "tags": []
   },
   "outputs": [],
   "source": [
    "if len(get_data_available()) == 0:\n",
    "    fetch_data_from_psplib()\n",
    "file = [f for f in get_data_available() if \"j1201_1.sm\" in f][0]\n",
    "rcpsp_domain = load_domain(file)\n",
    "rcpsp_domain.set_inplace_environment(False)"
   ]
  },
  {
   "cell_type": "markdown",
   "id": "1b0eeb7d-12e4-45fa-b15f-d87f09205e2a",
   "metadata": {},
   "source": [
    "### Solving with constraint programming solver\n",
    "Current SoTa for scheduling is to use specific CP solver, sometimes using lazy clause generation (like ortools cpsat or chuffed among the open source solutions). \\\n",
    "```DOSolver``` is a scikit-decide Solver but uses in backend the CP model and solver present in discrete-optimization library."
   ]
  },
  {
   "cell_type": "code",
   "execution_count": 14,
   "id": "e48ee21b-5b2b-4441-9c75-30107b99ecfb",
   "metadata": {
    "editable": true,
    "slideshow": {
     "slide_type": "subslide"
    },
    "tags": []
   },
   "outputs": [],
   "source": [
    "# Solving with Constraint programming solver (Chuffed solver by default)\n",
    "from discrete_optimization.rcpsp.solver.cpsat_solver import CPSatRCPSPSolver\n",
    "minizinc_available = False\n",
    "p = ParametersCP.default_cpsat()\n",
    "p.time_limit = 5\n",
    "solver = DOSolver(\n",
    "        domain_factory=lambda: rcpsp_domain,\n",
    "        method=SolvingMethod.CP if minizinc_available else None,\n",
    "        do_solver_type=CPSatRCPSPSolver if not minizinc_available else None,\n",
    "        policy_method_params=PolicyMethodParams(\n",
    "            base_policy_method=BasePolicyMethod.FOLLOW_GANTT\n",
    "        ),\n",
    "        dict_params={\"parameters_cp\": p},\n",
    "    )    \n",
    "solver.solve()"
   ]
  },
  {
   "cell_type": "code",
   "execution_count": 15,
   "id": "8eb9533f-7eb6-4a56-8a61-28171aa0c327",
   "metadata": {
    "editable": true,
    "slideshow": {
     "slide_type": ""
    },
    "tags": []
   },
   "outputs": [
    {
     "name": "stderr",
     "output_type": "stream",
     "text": [
      "2024-05-29 18:00:49,683 | skdecide.utils | INFO | The goal was reached in episode 1.\n"
     ]
    },
    {
     "name": "stdout",
     "output_type": "stream",
     "text": [
      "{'makespan': 107.0, 'mean_resource_reserve': 0.0, 'constraint_penalty': 0.0}\n"
     ]
    }
   ],
   "source": [
    "episode = rollout(\n",
    "    domain=rcpsp_domain,\n",
    "    solver=solver,\n",
    "    verbose=False,\n",
    "    return_episodes=True,\n",
    "    num_episodes=1,\n",
    ")[0]\n",
    "states = episode[0]\n",
    "do_sol = from_last_state_to_solution(states[-1], rcpsp_domain)\n",
    "print(do_sol.problem.evaluate(do_sol))"
   ]
  },
  {
   "cell_type": "code",
   "execution_count": 16,
   "id": "58ba457e-d03f-4d80-abae-d7cb128ed008",
   "metadata": {
    "editable": true,
    "slideshow": {
     "slide_type": "skip"
    },
    "tags": []
   },
   "outputs": [
    {
     "data": {
      "image/png": "[encoded data removed]",
      "text/plain": [
       "<Figure size 640x480 with 1 Axes>"
      ]
     },
     "metadata": {},
     "output_type": "display_data"
    }
   ],
   "source": [
    "# Nice animated schedule ! \n",
    "from matplotlib.animation import FuncAnimation, PillowWriter\n",
    "from matplotlib.patches import Rectangle\n",
    "\n",
    "\n",
    "def plot_schedule(ax, state):\n",
    "    ax.clear()\n",
    "    ax.set_title(f\"Schedule at Time {state.t}\")\n",
    "    ax.set_xlabel(\"Time\")\n",
    "    ax.set_ylabel(\"Task ID\")\n",
    "    # Define colors for tasks\n",
    "    colors = plt.cm.tab10.colors\n",
    "    # Collect task IDs that are scheduled\n",
    "    scheduled_tasks = [\n",
    "        task_id\n",
    "        for task_id, task in state.tasks_full_details.items()\n",
    "        if task.start is not None\n",
    "    ]\n",
    "    # Plot each task as a rectangle\n",
    "    for idx, (task_id, task) in enumerate(state.tasks_full_details.items()):\n",
    "        if task.start is not None and task.end is not None:\n",
    "            rect = Rectangle(\n",
    "                (task.start, task_id - 0.4),\n",
    "                task.end - task.start,\n",
    "                0.8,\n",
    "                color=colors[idx % 10],\n",
    "                alpha=0.6,\n",
    "            )\n",
    "            ax.add_patch(rect)\n",
    "            ax.text(\n",
    "                (task.start + task.end) / 2,\n",
    "                task_id,\n",
    "                f\"T{task_id}\",\n",
    "                ha=\"center\",\n",
    "                va=\"center\",\n",
    "                color=\"black\",\n",
    "                fontsize=8,\n",
    "            )\n",
    "        if task.start is not None and task.end is None:\n",
    "            rect = Rectangle(\n",
    "                (task.start, task_id - 0.4),\n",
    "                state.t - task.start,\n",
    "                0.8,\n",
    "                color=colors[idx % 10],\n",
    "                alpha=0.6,\n",
    "                linestyle=\"dashed\",\n",
    "            )\n",
    "            ax.add_patch(rect)\n",
    "            ax.text(\n",
    "                (task.start + state.t) / 2,\n",
    "                task_id,\n",
    "                f\"T{task_id}\",\n",
    "                ha=\"center\",\n",
    "                va=\"center\",\n",
    "                color=\"black\",\n",
    "                fontsize=8,\n",
    "            )\n",
    "\n",
    "    # Plot the current time line\n",
    "    ax.axvline(state.t, color=\"r\", linestyle=\"--\", label=\"Current Time\")\n",
    "    ax.legend()\n",
    "    ax.grid(True)\n",
    "    ax.set_xlim(0, max(state.t + 1, 10))\n",
    "    if scheduled_tasks:\n",
    "        ax.set_ylim(min(scheduled_tasks) - 1.5, max(scheduled_tasks) + 1.5)\n",
    "\n",
    "\n",
    "# Function to animate the plot\n",
    "def animate(i):\n",
    "    plot_schedule(ax, episode[0][i])\n",
    "\n",
    "\n",
    "# Create the animation\n",
    "fig, ax = plt.subplots()\n",
    "ani = FuncAnimation(fig, animate, frames=len(episode[0]), repeat=False)\n",
    "image_folder = os.path.join(os.getcwd(), \"images/\")\n",
    "if not os.path.exists(image_folder):\n",
    "  os.makedirs(image_folder)\n",
    "gif_path = os.path.join(image_folder, \"schedule_animation.gif\")\n",
    "ani.save(gif_path, writer=PillowWriter(fps=3))\n",
    "# plt.show()"
   ]
  },
  {
   "cell_type": "markdown",
   "id": "46fae488-498e-461c-a4dc-9360c3125c2b",
   "metadata": {
    "editable": true,
    "slideshow": {
     "slide_type": "subslide"
    },
    "tags": []
   },
   "source": [
    "![Schedule Animation](images/schedule_animation.gif)"
   ]
  },
  {
   "cell_type": "markdown",
   "id": "05673d64-054b-428b-8735-a157db645366",
   "metadata": {
    "editable": true,
    "slideshow": {
     "slide_type": "subslide"
    },
    "tags": []
   },
   "source": [
    "### Hyperparameter optimisation\n",
    "Discrete Optimization solvers come with hyperparameters API opening the possibility to do hyperparam optimisation using the optuna library which is easily integrated to it.\n",
    "Hyperparams of solver can be for examples : \n",
    "- temperature, cooling factor for metaheuristics such as Simulated annealing\n",
    "- population size, mutation and crossover operators for genetic algorithms\n",
    "- solver backend or model variants for CP approaches etc."
   ]
  },
  {
   "cell_type": "code",
   "execution_count": 17,
   "id": "9c378197-af62-47c4-be2e-6ae5ee34fd15",
   "metadata": {
    "editable": true,
    "slideshow": {
     "slide_type": ""
    },
    "tags": []
   },
   "outputs": [
    {
     "name": "stdout",
     "output_type": "stream",
     "text": [
      "CP Solver hyperparams [EnumHyperparameter(name='cp_solver_name', default=<CPSolverName.CHUFFED: 0>, choices=[<CPSolverName.CHUFFED: 0>, <CPSolverName.GECODE: 1>, <CPSolverName.CPLEX: 2>, <CPSolverName.CPOPT: 3>, <CPSolverName.GUROBI: 4>, <CPSolverName.ORTOOLS: 5>, <CPSolverName.HIGHS: 6>])] \n",
      "\n",
      "LNS hyperparams :  [EnumHyperparameter(name='cp_solver_name', default=<CPSolverName.CHUFFED: 0>, choices=[<CPSolverName.CHUFFED: 0>, <CPSolverName.GECODE: 1>, <CPSolverName.CPLEX: 2>, <CPSolverName.CPOPT: 3>, <CPSolverName.GUROBI: 4>, <CPSolverName.ORTOOLS: 5>, <CPSolverName.HIGHS: 6>]), CategoricalHyperparameter(name='do_ls', default=False, choices=[True, False]), EnumHyperparameter(name='constraint_handler_type', default=<ConstraintHandlerType.MIX_SUBPROBLEMS: 0>, choices=[<ConstraintHandlerType.MIX_SUBPROBLEMS: 0>, <ConstraintHandlerType.SOLUTION_REPAIR: 1>]), FloatHyperparameter(name='fraction_subproblem', default=0.05, low=0.0, high=1.0), IntegerHyperparameter(name='nb_cut_part', default=10, low=0, high=100), CategoricalHyperparameter(name='use_makespan_of_subtasks', default=False, choices=[True, False]), SubBrickHyperparameter(name='params_0_cls', default=<class 'discrete_optimization.generic_rcpsp_tools.neighbor_tools_rcpsp.ParamsConstraintBuilder'>, choices=[<class 'discrete_optimization.generic_rcpsp_tools.neighbor_tools_rcpsp.ParamsConstraintBuilder'>]), SubBrickKwargsHyperparameter(name='params_0_kwargs', default=None), SubBrickHyperparameter(name='params_1_cls', default=<class 'discrete_optimization.generic_rcpsp_tools.neighbor_tools_rcpsp.ParamsConstraintBuilder'>, choices=[<class 'discrete_optimization.generic_rcpsp_tools.neighbor_tools_rcpsp.ParamsConstraintBuilder'>]), SubBrickKwargsHyperparameter(name='params_1_kwargs', default=None)] \n",
      "\n",
      "Local search hyperparams :  [CategoricalHyperparameter(name='init_solution_process', default=False, choices=[True, False]), EnumHyperparameter(name='ls_solver', default=<LS_SOLVER.SA: 0>, choices=[<LS_SOLVER.SA: 0>, <LS_SOLVER.HC: 1>]), FloatHyperparameter(name='temperature', default=3, low=0.01, high=10), IntegerHyperparameter(name='nb_iteration_no_improvement', default=200, low=10, high=2000)] \n",
      "\n",
      "Genetic algorithms hyperparams :  [EnumHyperparameter(name='crossover', default=None, choices=[<DeapCrossover.CX_UNIFORM: 0>, <DeapCrossover.CX_UNIFORM_PARTIALY_MATCHED: 1>, <DeapCrossover.CX_ORDERED: 2>, <DeapCrossover.CX_ONE_POINT: 3>, <DeapCrossover.CX_TWO_POINT: 4>, <DeapCrossover.CX_PARTIALY_MATCHED: 5>]), EnumHyperparameter(name='selection', default=<DeapSelection.SEL_TOURNAMENT: 0>, choices=[<DeapSelection.SEL_TOURNAMENT: 0>, <DeapSelection.SEL_RANDOM: 1>, <DeapSelection.SEL_BEST: 2>, <DeapSelection.SEL_ROULETTE: 4>, <DeapSelection.SEL_WORST: 5>, <DeapSelection.SEL_STOCHASTIC_UNIVERSAL_SAMPLING: 6>]), IntegerHyperparameter(name='pop_size', default=100, low=1, high=1000), FloatHyperparameter(name='mut_rate', default=0.1, low=0, high=0.9), FloatHyperparameter(name='crossover_rate', default=0.9, low=0, high=1), FloatHyperparameter(name='tournament_size', default=0.2, low=0, high=1)] \n",
      "\n"
     ]
    }
   ],
   "source": [
    "from discrete_optimization.generic_rcpsp_tools.large_neighborhood_search_scheduling import \\\n",
    "    LargeNeighborhoodSearchScheduling\n",
    "from discrete_optimization.generic_rcpsp_tools.ls_solver import LS_RCPSP_Solver\n",
    "from discrete_optimization.rcpsp.solver.cp_solvers import CP_RCPSP_MZN\n",
    "from discrete_optimization.rcpsp.solver.rcpsp_ga_solver import GA_RCPSP_Solver\n",
    "\n",
    "print(\"CP Solver hyperparams\", CP_RCPSP_MZN.hyperparameters, \"\\n\")\n",
    "print(\"LNS hyperparams : \", LargeNeighborhoodSearchScheduling.hyperparameters, \"\\n\")\n",
    "print(\"Local search hyperparams : \", LS_RCPSP_Solver.hyperparameters, \"\\n\")\n",
    "print(\"Genetic algorithms hyperparams : \", GA_RCPSP_Solver.hyperparameters, \"\\n\")"
   ]
  },
  {
   "cell_type": "code",
   "execution_count": 18,
   "id": "9e77be39-e0ed-47db-9862-e759a32e1b94",
   "metadata": {
    "editable": true,
    "slideshow": {
     "slide_type": "skip"
    },
    "tags": []
   },
   "outputs": [],
   "source": [
    "# Script implementing the optuna study.\n",
    "from rcpsp_domains.multi_solve_optuna import run_optuna_multisolve"
   ]
  },
  {
   "cell_type": "code",
   "execution_count": 19,
   "id": "a3fb31de-ab23-444c-9841-55c462879eb3",
   "metadata": {
    "editable": true,
    "scrolled": true,
    "slideshow": {
     "slide_type": ""
    },
    "tags": []
   },
   "outputs": [],
   "source": [
    "#This takes several minutes.\n",
    "do_hyperparams = False\n",
    "if do_hyperparams:\n",
    "    run_optuna_multisolve(rcpsp_domain)\n",
    "clear_output()"
   ]
  },
  {
   "cell_type": "code",
   "execution_count": 20,
   "id": "fc4a2171-eb59-4d73-a71e-bb7fab0e43c1",
   "metadata": {
    "editable": true,
    "slideshow": {
     "slide_type": "subslide"
    },
    "tags": []
   },
   "outputs": [],
   "source": [
    "import subprocess\n",
    "import threading\n",
    "\n",
    "from dash import Dash, html\n",
    "\n",
    "\n",
    "# Function to run the Optuna dashboard\n",
    "def run_dashboard():\n",
    "    subprocess.run([\"optuna-dashboard\", \"--port\", \"8081\", \"rcpsp_domains/optuna_journal_offline.log\" if not do_hyperparams else \"optuna-journal.log\"])\n",
    "\n",
    "\n",
    "# Start the dashboard server in a separate thread\n",
    "thread = threading.Thread(target=run_dashboard)\n",
    "thread.start()"
   ]
  },
  {
   "cell_type": "code",
   "execution_count": 21,
   "id": "e1fe656d-c986-434e-baea-983138288c01",
   "metadata": {},
   "outputs": [
    {
     "data": {
      "text/html": [
       "\n",
       "        <iframe\n",
       "            width=\"100%\"\n",
       "            height=\"650\"\n",
       "            src=\"http://127.0.0.1:8050/\"\n",
       "            frameborder=\"0\"\n",
       "            allowfullscreen\n",
       "            \n",
       "        ></iframe>\n",
       "        "
      ],
      "text/plain": [
       "<IPython.lib.display.IFrame at 0x2c4fd7c10>"
      ]
     },
     "metadata": {},
     "output_type": "display_data"
    }
   ],
   "source": [
    "# This cell should be ran a few seconds or tried a few times after running the previous cell in order for the dashboard to be displayed ! \n",
    "app = Dash(__name__)\n",
    "# Define the layout of the app with an iframe to the Optuna dashboard\n",
    "app.layout = html.Div(\n",
    "    [\n",
    "        html.Iframe(\n",
    "            src=\"http://localhost:8081\", style={\"width\": \"100%\", \"height\": \"800px\"}\n",
    "        )\n",
    "    ]\n",
    ")\n",
    "# Function to run the Dash app in the notebook\n",
    "def run_app():\n",
    "    app.run_server(mode=\"notebook\")\n",
    "\n",
    "\n",
    "# Run the app in the notebook\n",
    "run_app()"
   ]
  },
  {
   "cell_type": "markdown",
   "id": "0e4709c2-97b0-4335-9018-304c99cc92b0",
   "metadata": {
    "editable": true,
    "jp-MarkdownHeadingCollapsed": true,
    "slideshow": {
     "slide_type": "slide"
    },
    "tags": []
   },
   "source": [
    "## Reinforcement learning\n",
    "As additional (ongoing) works, we introduce new domains for specific scheduling problems, more adapted for reinforcement learning solvers to be run on.\n",
    "Those implementation are scheduling-variant specific, the one we will look is the RCPSP domain again. The environment is vectorized contrary to the generic scheduling domain of scikit-decide.\n",
    "\n",
    "- states are ($nb_{task}$, 2) shape array, where for each task we store in states[i, 0] the binary value corresponding if the task has been scheduled or not, and in states[i,1] the starting time\n",
    "- action are index of task to schedule next."
   ]
  },
  {
   "cell_type": "code",
   "execution_count": 22,
   "id": "b18df130-030c-4a2a-bd19-514c84033737",
   "metadata": {
    "editable": true,
    "slideshow": {
     "slide_type": "subslide"
    },
    "tags": []
   },
   "outputs": [],
   "source": [
    "from discrete_optimization.rcpsp.rcpsp_parser import (get_data_available,\n",
    "                                                      parse_file)\n",
    "from rcpsp_domains.rcpsp_sk_domain import (ParamsDomainEncoding, RCPSPModel,\n",
    "                                           RCPSPSGSDomain)\n",
    "\n",
    "file = [f for f in get_data_available() if \"j301_1.sm\" in f][0]\n",
    "model: RCPSPModel = parse_file(file)\n",
    "domain_sk = RCPSPSGSDomain(\n",
    "    model,\n",
    "    params_domain_encoding=ParamsDomainEncoding(\n",
    "        return_times_in_state=True,\n",
    "        return_scheduled_in_state=True,\n",
    "        use_cpm_for_cost=False,\n",
    "        terminate_when_already_schedule=False,\n",
    "        dummy_cost_when_already_schedule=30,\n",
    "        use_additive_makespan_for_cost=True,\n",
    "        nb_min_task_inserted=8,\n",
    "        nb_max_task_inserted=25,\n",
    "        filter_tasks=True,\n",
    "        only_available_tasks=False,\n",
    "    ),\n",
    ")"
   ]
  },
  {
   "cell_type": "code",
   "execution_count": 23,
   "id": "c68d80fb-bbf7-4343-a332-6fbae6b5367d",
   "metadata": {
    "editable": true,
    "slideshow": {
     "slide_type": "skip"
    },
    "tags": []
   },
   "outputs": [],
   "source": [
    "# Some utils functions\n",
    "def run_rollout(domain, solver=None, nb_rollout=100):\n",
    "    makespans = []\n",
    "    for i in range(1000):\n",
    "        episodes = rollout(\n",
    "            domain=domain,\n",
    "            solver=solver,\n",
    "            verbose=False,\n",
    "            num_episodes=1,\n",
    "            return_episodes=True,\n",
    "        )\n",
    "        if domain.state[-1, 0]:\n",
    "            solution_rcpsp = RCPSPSolution(\n",
    "                problem=model,\n",
    "                rcpsp_schedule={\n",
    "                    t: {\n",
    "                        \"start_time\": domain.state[domain.task_to_index[t], 1],\n",
    "                        \"end_time\": domain.state[domain.task_to_index[t], 1]\n",
    "                        + domain.dur[domain.task_to_index[t]],\n",
    "                    }\n",
    "                    for t in model.tasks_list\n",
    "                },\n",
    "            )\n",
    "            # print(model.evaluate(solution_rcpsp), model.satisfy(solution_rcpsp))\n",
    "            makespans.append(domain_sk.state[-1, 1])\n",
    "    return makespans\n",
    "\n",
    "\n",
    "def compute_statistics(arr):\n",
    "    if not isinstance(arr, np.ndarray):\n",
    "        raise ValueError(\"Input must be a numpy array\")\n",
    "    statistics = {\n",
    "        \"mean\": np.mean(arr),\n",
    "        \"median\": np.median(arr),\n",
    "        \"min\": np.min(arr),\n",
    "        \"max\": np.max(arr),\n",
    "        \"25th percentile\": np.percentile(arr, 25),\n",
    "        \"50th percentile\": np.percentile(arr, 50),\n",
    "        \"75th percentile\": np.percentile(arr, 75),\n",
    "    }\n",
    "    return statistics"
   ]
  },
  {
   "cell_type": "markdown",
   "id": "7c1ca97a-8e3a-4ad5-aadd-f7e65f91e567",
   "metadata": {
    "editable": true,
    "slideshow": {
     "slide_type": "subslide"
    },
    "tags": []
   },
   "source": [
    "### Random rollouts\n",
    "Let's run random rollout on this domain."
   ]
  },
  {
   "cell_type": "code",
   "execution_count": 24,
   "id": "8c1b61ed-c547-4149-aec9-a2a9e67f00f3",
   "metadata": {
    "editable": true,
    "slideshow": {
     "slide_type": ""
    },
    "tags": []
   },
   "outputs": [],
   "source": [
    "makespans_random = run_rollout(domain_sk, solver=None, nb_rollout=100)\n",
    "clear_output()"
   ]
  },
  {
   "cell_type": "code",
   "execution_count": 25,
   "id": "5ddb96a8-491a-45c2-ac5f-fde84846bdd0",
   "metadata": {
    "editable": true,
    "slideshow": {
     "slide_type": ""
    },
    "tags": []
   },
   "outputs": [
    {
     "name": "stdout",
     "output_type": "stream",
     "text": [
      "Stats with random policy  {'mean': 53.912, 'median': 53.0, 'min': 47, 'max': 64, '25th percentile': 51.0, '50th percentile': 53.0, '75th percentile': 56.0}\n"
     ]
    },
    {
     "data": {
      "text/plain": [
       "<seaborn.axisgrid.FacetGrid at 0x2bc92f0d0>"
      ]
     },
     "execution_count": 25,
     "metadata": {},
     "output_type": "execute_result"
    },
    {
     "data": {
      "image/png": "[encoded data removed]",
      "text/plain": [
       "<Figure size 500x500 with 1 Axes>"
      ]
     },
     "metadata": {},
     "output_type": "display_data"
    }
   ],
   "source": [
    "stats = compute_statistics(np.array(makespans_random))\n",
    "print(\"Stats with random policy \", stats)\n",
    "sns.displot(makespans_random, bins=20)"
   ]
  },
  {
   "cell_type": "markdown",
   "id": "fc10f622-6e81-4886-b69a-b15d086d1edf",
   "metadata": {
    "editable": true,
    "slideshow": {
     "slide_type": "slide"
    },
    "tags": []
   },
   "source": [
    "### Few words on RL solvers\n",
    "In the next section we will test mainly 3 RL solvers, briefly explained here :\n",
    "\n",
    "#### Proximal Policy Optimization (PPO)\n",
    "- **Type**: Policy-based method.\n",
    "- **Mechanism**: Utilizes a clipped surrogate objective to update policies, balancing exploration and exploitation.\n",
    "- **Advantages**: \n",
    "  - More stable and reliable training compared to earlier policy gradient methods.\n",
    "  - Suitable for both discrete and continuous action spaces.\n",
    "- **Usage**: Popular in many reinforcement learning applications, including robotics and games.\n",
    "\n",
    "#### Advantage Actor-Critic (A2C)\n",
    "- **Type**: Actor-Critic method.\n",
    "- **Mechanism**: Combines value-based and policy-based methods, using an actor to decide actions and a critic to evaluate them.\n",
    "- **Advantages**: \n",
    "  - Efficient and relatively easy to implement.\n",
    "  - Good balance between bias and variance, leading to more stable learning.\n",
    "- **Usage**: Effective for various control problems and environments with continuous action spaces.\n",
    "\n",
    "#### Deep Q-Network (DQN)\n",
    "- **Type**: Value-based method.\n",
    "- **Mechanism**: Uses deep neural networks to approximate the Q-value function, enabling handling of high-dimensional state spaces.\n",
    "- **Advantages**: \n",
    "  - Demonstrated success in complex environments like Atari games.\n",
    "  - Employs techniques like experience replay and target networks for stable training.\n",
    "- **Usage**: Ideal for problems with discrete action spaces and where the state-action space can be effectively represented with deep learning."
   ]
  },
  {
   "cell_type": "markdown",
   "id": "f8d7b4bb-a350-4aef-8005-4adae2f79ca9",
   "metadata": {
    "editable": true,
    "slideshow": {
     "slide_type": "subslide"
    },
    "tags": []
   },
   "source": [
    "### Solving the domain using stable baselines"
   ]
  },
  {
   "cell_type": "code",
   "execution_count": 26,
   "id": "e6ab96c6-d051-4277-8e0f-f1c5bd5419b1",
   "metadata": {
    "editable": true,
    "scrolled": true,
    "slideshow": {
     "slide_type": ""
    },
    "tags": []
   },
   "outputs": [],
   "source": [
    "from rcpsp_domains.rcpsp_sk_domain import RCPSPSGSDomain, records\n",
    "from stable_baselines3 import A2C, DQN, PPO\n",
    "# Here you can play with the core algorithm to be used. Empirically A2C works the best !\n",
    "algo = A2C\n",
    "\n",
    "records.clear()\n",
    "domain_sk = RCPSPSGSDomain(\n",
    "    model,\n",
    "    params_domain_encoding=ParamsDomainEncoding(\n",
    "        return_times_in_state=True,\n",
    "        return_scheduled_in_state=True,\n",
    "        use_cpm_for_cost=True,\n",
    "        terminate_when_already_schedule=False,\n",
    "        dummy_cost_when_already_schedule=1,\n",
    "        use_additive_makespan_for_cost=False,\n",
    "        nb_min_task_inserted=1,\n",
    "        nb_max_task_inserted=None,\n",
    "        filter_tasks=False,\n",
    "        only_available_tasks=False,\n",
    "    ),\n",
    ")\n",
    "\n",
    "solver_args = {\n",
    "    \"baselines_policy\": \"MlpPolicy\",\n",
    "    \"learn_config\": {\"total_timesteps\": 30000},\n",
    "    \"verbose\": 0,\n",
    "    \"n_steps\": 300,\n",
    "    # \"batch_size\": 100\n",
    "}\n",
    "solver_args.update(\n",
    "    {\n",
    "        \"policy_kwargs\": dict(\n",
    "            net_arch=[dict(pi=[256, 256, 128, 128], vf=[256, 256, 128, 128])]\n",
    "        )\n",
    "    }\n",
    ")\n",
    "solver_args[\"algo_class\"] = algo\n",
    "solver = StableBaseline(domain_factory=lambda: domain_sk, **solver_args)\n",
    "solver.solve()\n",
    "makespans_sb = run_rollout(domain_sk, solver=solver, nb_rollout=100)\n",
    "clear_output()"
   ]
  },
  {
   "cell_type": "code",
   "execution_count": 27,
   "id": "8a503c4e-16c1-44a6-a572-ae1d45579322",
   "metadata": {
    "editable": true,
    "slideshow": {
     "slide_type": "subslide"
    },
    "tags": []
   },
   "outputs": [
    {
     "name": "stdout",
     "output_type": "stream",
     "text": [
      "Stats with A2C {'mean': 45.004, 'median': 45.0, 'min': 45, 'max': 47, '25th percentile': 45.0, '50th percentile': 45.0, '75th percentile': 45.0}\n"
     ]
    },
    {
     "data": {
      "image/png": "[encoded data removed]",
      "text/plain": [
       "<Figure size 640x480 with 1 Axes>"
      ]
     },
     "metadata": {},
     "output_type": "display_data"
    },
    {
     "data": {
      "image/png": "[encoded data removed]",
      "text/plain": [
       "<Figure size 500x500 with 1 Axes>"
      ]
     },
     "metadata": {},
     "output_type": "display_data"
    }
   ],
   "source": [
    "fig, ax = plt.subplots(1)\n",
    "records_sb = np.array(records)\n",
    "ax.plot(np.convolve(records_sb, np.ones(30) / 30, mode=\"valid\"))\n",
    "ax.set_title(f\"quality of rollout through time, {algo.__name__}\")\n",
    "sns.displot(makespans_sb, bins=20)\n",
    "print(f\"Stats with {algo.__name__}\", compute_statistics(np.array(makespans_sb)))\n",
    "plt.show()"
   ]
  },
  {
   "cell_type": "markdown",
   "id": "f96b1c35-7350-42b7-a790-6574a29677fc",
   "metadata": {
    "editable": true,
    "slideshow": {
     "slide_type": ""
    },
    "tags": []
   },
   "source": [
    "### DQN With RLLIB\n",
    "Wrappers of RLLib implemented in scikit-decide hub can have the advantage of taking into account **filtered actions**, that is a usual pain point in Reinforcement learning. \\\n",
    "Using this solver will use the fact that available actions at a given state should only be task that are not yet scheduled. \\\n",
    "[Note : To the contrary, other solvers we tested were discarding these filtered action, therefore the implementation was handling useless action by putting some penalty cost on the transition]\n",
    "\n"
   ]
  },
  {
   "cell_type": "code",
   "execution_count": 28,
   "id": "2438f20f-085b-45cb-9ba0-60777eb019fe",
   "metadata": {
    "editable": true,
    "slideshow": {
     "slide_type": ""
    },
    "tags": []
   },
   "outputs": [],
   "source": [
    "from ray.rllib.algorithms.dqn import DQN\n",
    "from ray.rllib.algorithms.ppo import PPO\n",
    "from rcpsp_domains.rcpsp_sk_domain import RCPSPSGSDomain, records\n",
    "records.clear()\n",
    "from skdecide.hub.solver.ray_rllib import RayRLlib\n",
    "algo = DQN\n",
    "domain_sk = RCPSPSGSDomain(\n",
    "        model,\n",
    "        params_domain_encoding=ParamsDomainEncoding(\n",
    "            return_times_in_state=False,\n",
    "            return_scheduled_in_state=True,\n",
    "            use_cpm_for_cost=True,\n",
    "            terminate_when_already_schedule=False,\n",
    "            dummy_cost_when_already_schedule=30,\n",
    "            use_additive_makespan_for_cost=False,\n",
    "            nb_min_task_inserted=None,\n",
    "            nb_max_task_inserted=25,\n",
    "            filter_tasks=True,\n",
    "            only_available_tasks=False,\n",
    "        ),\n",
    "    )\n",
    "ac = algo.get_default_config()\n",
    "ac.lr = 5e-3\n",
    "solver = RayRLlib(domain_factory=lambda: domain_sk.shallow_copy(), \n",
    "                  algo_class=algo,\n",
    "                  config=ac,\n",
    "                  train_iterations=10)\n",
    "assert RayRLlib.check_domain(domain_sk)\n",
    "solver.solve()\n",
    "makespan_rllib = run_rollout(domain_sk, solver=solver, nb_rollout=100)\n",
    "records_rllib = np.array(records)\n",
    "clear_output()"
   ]
  },
  {
   "cell_type": "code",
   "execution_count": 29,
   "id": "62ce2de4-25ce-44a2-ae08-a6dde6cb652c",
   "metadata": {},
   "outputs": [
    {
     "name": "stdout",
     "output_type": "stream",
     "text": [
      "Stats with DQN {'mean': 52.789, 'median': 53.0, 'min': 43, 'max': 62, '25th percentile': 53.0, '50th percentile': 53.0, '75th percentile': 53.0}\n"
     ]
    },
    {
     "data": {
      "image/png": "[encoded data removed]",
      "text/plain": [
       "<Figure size 640x480 with 1 Axes>"
      ]
     },
     "metadata": {},
     "output_type": "display_data"
    },
    {
     "data": {
      "image/png": "[encoded data removed]",
      "text/plain": [
       "<Figure size 500x500 with 1 Axes>"
      ]
     },
     "metadata": {},
     "output_type": "display_data"
    }
   ],
   "source": [
    "fig, ax = plt.subplots(1)\n",
    "records_rllib = np.array(records)\n",
    "ax.plot(np.convolve(records_rllib, np.ones(30) / 30, mode=\"valid\"))\n",
    "ax.set_title(f\"quality of rollout through time, Rllib {algo.__name__}\")\n",
    "sns.displot(makespan_rllib, bins=20)\n",
    "print(f\"Stats with {algo.__name__}\", compute_statistics(np.array(makespan_rllib)))\n",
    "plt.show()"
   ]
  },
  {
   "cell_type": "markdown",
   "id": "1b441df6-4de0-49e6-937e-74257593fbe1",
   "metadata": {
    "editable": true,
    "slideshow": {
     "slide_type": "slide"
    },
    "tags": []
   },
   "source": [
    "### Bonus words on RL\n",
    "\n",
    "#### Stochastic RCPSP : \n",
    "RL is particularly suited for stochastic domains, ```StochasticRCPSPSGSDomain``` is a stochastic domain where duration are sampled from a distribution. \\\n",
    "The state space is : \n",
    "-an array of shape ($nb_{tasks}$, 3), where we store the fact that a task is scheduled, along with start and sampled end times. \\\n",
    "RL algorithms can be experimented on this domain (implemented in ```rcpsp_domains.stochastic_rcpsp_sk_domain``` module)\n",
    "\n",
    "#### Local search domain for RCPSP : \n",
    "An alternative domain implementation for RCPSP is to consider local moves/mutation of the schedules as the available actions for a RL domain. \\\n",
    "In our playground implementation, actions are local moves consisting in reverting a subpart of the permutation of tasks representing the solution. This is similar to the [2-opt](https://en.wikipedia.org/wiki/2-opt) mutation for traveling salesman problem.\\\n",
    "Implemented in ```rcpsp_domains.rcpsp_sk_domain_local_search```.\n",
    "\n",
    "#### Direct permutation optimisation :\n",
    "We can also use RL to optimize directly the full permutation, the actions here are a $nb_{tasks}$ floating or integer array. [We use np.argsort to compute a permutation of task that is then used to build an rcpsp solution]\\\n",
    "Implemented in ```rcpsp_domains.rcpsp_sk_domain_local_search```.\n",
    "\n",
    "Example of uses are available in the more [complete version of this notebook](Scheduling%20tutorial.ipynb)"
   ]
  },
  {
   "cell_type": "markdown",
   "id": "9623aeb0-9511-49c7-9abd-682fcb466d2a",
   "metadata": {},
   "source": [
    "## Conclusion\n",
    "\n",
    "In this tutorial you've been introduced to : \n",
    "- the scheduling API of scikit-decide\n",
    "- its automatic implementation of scheduling domain from simple data definition of scheduling problem\n",
    "- use of scikit-decide solver (planning, discrete optimization, RL) to solve scheduling problems\n",
    "- discrete optimization library easing the implementation of mathematical programming, metaheuristic solver and hyperparameter optimisation.\n",
    "\n",
    "The RL works is notably open to more research with inclusion of GNN like [wheatley](https://github.com/jolibrain/wheatley) or more efficient RL formulation [Jumanji](https://github.com/instadeepai/jumanji)"
   ]
  }
 ],
 "metadata": {
  "celltoolbar": "Slideshow",
  "kernelspec": {
   "display_name": "Python 3 (ipykernel)",
   "language": "python",
   "name": "python3"
  },
  "language_info": {
   "codemirror_mode": {
    "name": "ipython",
    "version": 3
   },
   "file_extension": ".py",
   "mimetype": "text/x-python",
   "name": "python",
   "nbconvert_exporter": "python",
   "pygments_lexer": "ipython3",
   "version": "3.10.13"
  }
 },
 "nbformat": 4,
 "nbformat_minor": 5
}
