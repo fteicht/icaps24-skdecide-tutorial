{
  "nbformat": 4,
  "nbformat_minor": 0,
  "metadata": {
    "colab": {
      "provenance": []
    },
    "kernelspec": {
      "name": "python3",
      "display_name": "Python 3"
    },
    "language_info": {
      "name": "python"
    }
  },
  "cells": [
    {
      "cell_type": "markdown",
      "source": [
        "# ICAPS24 SkDecide Tutorial: solving problems (possibly imported from Gym) with Reinforcement Learning and Cartesian Genetic Programming"
      ],
      "metadata": {
        "id": "3_YQHkyeQh2n"
      }
    },
    {
      "cell_type": "markdown",
      "source": [
        "This tutorial shows how to load a domain in scikit-decide and try to solve it with techniques from different communities:\n",
        "\n",
        "*   [Reinforcement Learning](https://en.wikipedia.org/wiki/Reinforcement_learning) (RL)\n",
        "*   [Cartesian Genetic Programming](https://en.wikipedia.org/wiki/Cartesian_genetic_programming) (CGP)"
      ],
      "metadata": {
        "id": "2LxbyOSZheOg"
      }
    },
    {
      "cell_type": "markdown",
      "source": [
        "## Prerequisites"
      ],
      "metadata": {
        "id": "Il_4li4ZC8tz"
      }
    },
    {
      "cell_type": "markdown",
      "source": [
        "Install scikit-decide:"
      ],
      "metadata": {
        "id": "4DOnkCOhDHPq"
      }
    },
    {
      "cell_type": "code",
      "execution_count": null,
      "metadata": {
        "id": "a6_k1-kmQIhF"
      },
      "outputs": [],
      "source": [
        "!pip install \"scikit-decide[all]\""
      ]
    },
    {
      "cell_type": "markdown",
      "source": [
        "Install renderlab to render Gymnasium environments in Google Colab:"
      ],
      "metadata": {
        "id": "_oHW1CTqhGSx"
      }
    },
    {
      "cell_type": "code",
      "source": [
        "!pip install renderlab"
      ],
      "metadata": {
        "id": "ca_TSyMaCVcF"
      },
      "execution_count": null,
      "outputs": []
    },
    {
      "cell_type": "markdown",
      "source": [
        "## Loading a domain"
      ],
      "metadata": {
        "id": "hL--pz9ritE2"
      }
    },
    {
      "cell_type": "markdown",
      "source": [
        "Once a problem is formalized as a scikit-decide domain, it can be tackled by any compatible solver. Domains can be created from scratch or imported from various formats. Here we demonstrate how to import an environment from [Gymnasium](https://gymnasium.farama.org) (the new official fork of OpenAI Gym, a standard API often used in RL communities), like [Cart Pole](https://gymnasium.farama.org/environments/classic_control/cart_pole):"
      ],
      "metadata": {
        "id": "-u9Ix00ly8EP"
      }
    },
    {
      "cell_type": "code",
      "source": [
        "import gymnasium as gym\n",
        "from renderlab import RenderFrame\n",
        "from skdecide.hub.domain.gym import GymDomain\n",
        "\n",
        "# Select a Gymnasium environment\n",
        "ENV_NAME = \"CartPole-v1\"\n",
        "\n",
        "# Create a domain factory, a callable returning a skdecide domain (used by solvers)\n",
        "def domain_factory():\n",
        "\n",
        "    # Create a Gymnasium environment\n",
        "    env = gym.make(ENV_NAME, render_mode = \"rgb_array\")\n",
        "\n",
        "    # Wrap it with RenderFrame to record/play episode videos (works in Colab)\n",
        "    env = RenderFrame(env, \"./render\")\n",
        "\n",
        "    # Return a skdecide domain from a Gymnasium environment\n",
        "    return GymDomain(env)\n",
        "\n",
        "# In simple cases, domain_factory can be created in one line:\n",
        "# domain_factory = lambda: GymDomain(gym.make(ENV_NAME))"
      ],
      "metadata": {
        "id": "DFHsAbNyGv5p"
      },
      "execution_count": 1,
      "outputs": []
    },
    {
      "cell_type": "markdown",
      "source": [
        "The rollout utility provides a quick way to run episodes by taking random actions (or a solver policy as shown later) in the domain:"
      ],
      "metadata": {
        "id": "eDVInz_j2Bxd"
      }
    },
    {
      "cell_type": "code",
      "source": [
        "from skdecide.utils import rollout\n",
        "\n",
        "# Instantiate one domain (used for rollouts)\n",
        "domain = domain_factory()\n",
        "\n",
        "# Do a random rollout of the domain (random actions are taken when no solver is specified)\n",
        "rollout(domain, num_episodes=1, max_steps=1000) # try adding outcome_formatter=None or verbose=False for less/no printing\n",
        "domain.unwrapped().play() # watch last episode in video by calling play() on the underlying Gymnasium environment (works in Colab)"
      ],
      "metadata": {
        "colab": {
          "base_uri": "https://localhost:8080/",
          "height": 1000
        },
        "id": "6ofAfUPYYqie",
        "outputId": "9ca770a8-6e05-4af9-a448-48f305baed06"
      },
      "execution_count": 2,
      "outputs": [
        {
          "output_type": "stream",
          "name": "stderr",
          "text": [
            "2024-05-30 09:21:55,838 | skdecide.utils | DEBUG | Logger is in verbose mode: all debug messages will be there for you to enjoy （〜^∇^ )〜\n",
            "2024-05-30 09:21:55,864 | skdecide.utils | DEBUG | Episode 1 started with following observation:\n",
            "2024-05-30 09:21:55,867 | skdecide.utils | DEBUG | [ 0.01505552 -0.0485096   0.01376329  0.03647679]\n",
            "2024-05-30 09:21:55,877 | skdecide.utils | DEBUG | Action: 0\n",
            "2024-05-30 09:21:55,887 | skdecide.utils | DEBUG | Result: EnvironmentOutcome(observation=array([ 0.01408533, -0.24382618,  0.01449282,  0.3334702 ], dtype=float32), value=Value(reward=1.0, cost=-1.0), termination=False, info={})\n",
            "2024-05-30 09:21:55,896 | skdecide.utils | DEBUG | Action: 1\n",
            "2024-05-30 09:21:55,907 | skdecide.utils | DEBUG | Result: EnvironmentOutcome(observation=array([ 0.00920881, -0.04891348,  0.02116222,  0.04539258], dtype=float32), value=Value(reward=1.0, cost=-1.0), termination=False, info={})\n",
            "2024-05-30 09:21:55,916 | skdecide.utils | DEBUG | Action: 0\n",
            "2024-05-30 09:21:55,926 | skdecide.utils | DEBUG | Result: EnvironmentOutcome(observation=array([ 0.00823054, -0.24433239,  0.02207008,  0.34467655], dtype=float32), value=Value(reward=1.0, cost=-1.0), termination=False, info={})\n",
            "2024-05-30 09:21:55,934 | skdecide.utils | DEBUG | Action: 1\n",
            "2024-05-30 09:21:55,943 | skdecide.utils | DEBUG | Result: EnvironmentOutcome(observation=array([ 0.00334389, -0.04953124,  0.02896361,  0.05903405], dtype=float32), value=Value(reward=1.0, cost=-1.0), termination=False, info={})\n",
            "2024-05-30 09:21:55,952 | skdecide.utils | DEBUG | Action: 0\n",
            "2024-05-30 09:21:55,965 | skdecide.utils | DEBUG | Result: EnvironmentOutcome(observation=array([ 0.00235326, -0.24505624,  0.03014429,  0.36071265], dtype=float32), value=Value(reward=1.0, cost=-1.0), termination=False, info={})\n",
            "2024-05-30 09:21:55,974 | skdecide.utils | DEBUG | Action: 0\n",
            "2024-05-30 09:21:55,984 | skdecide.utils | DEBUG | Result: EnvironmentOutcome(observation=array([-0.00254786, -0.44059342,  0.03735854,  0.66274625], dtype=float32), value=Value(reward=1.0, cost=-1.0), termination=False, info={})\n",
            "2024-05-30 09:21:55,992 | skdecide.utils | DEBUG | Action: 1\n",
            "2024-05-30 09:21:56,002 | skdecide.utils | DEBUG | Result: EnvironmentOutcome(observation=array([-0.01135973, -0.2460106 ,  0.05061347,  0.38205653], dtype=float32), value=Value(reward=1.0, cost=-1.0), termination=False, info={})\n",
            "2024-05-30 09:21:56,010 | skdecide.utils | DEBUG | Action: 0\n",
            "2024-05-30 09:21:56,020 | skdecide.utils | DEBUG | Result: EnvironmentOutcome(observation=array([-0.01627994, -0.44181332,  0.0582546 ,  0.6902585 ], dtype=float32), value=Value(reward=1.0, cost=-1.0), termination=False, info={})\n",
            "2024-05-30 09:21:56,028 | skdecide.utils | DEBUG | Action: 1\n",
            "2024-05-30 09:21:56,038 | skdecide.utils | DEBUG | Result: EnvironmentOutcome(observation=array([-0.02511621, -0.24754605,  0.07205977,  0.41646907], dtype=float32), value=Value(reward=1.0, cost=-1.0), termination=False, info={})\n",
            "2024-05-30 09:21:56,047 | skdecide.utils | DEBUG | Action: 1\n",
            "2024-05-30 09:21:56,057 | skdecide.utils | DEBUG | Result: EnvironmentOutcome(observation=array([-0.03006713, -0.05351538,  0.08038915,  0.14734563], dtype=float32), value=Value(reward=1.0, cost=-1.0), termination=False, info={})\n",
            "2024-05-30 09:21:56,065 | skdecide.utils | DEBUG | Action: 1\n",
            "2024-05-30 09:21:56,090 | skdecide.utils | DEBUG | Result: EnvironmentOutcome(observation=array([-0.03113744,  0.14036885,  0.08333606, -0.11893255], dtype=float32), value=Value(reward=1.0, cost=-1.0), termination=False, info={})\n",
            "2024-05-30 09:21:56,099 | skdecide.utils | DEBUG | Action: 0\n",
            "2024-05-30 09:21:56,124 | skdecide.utils | DEBUG | Result: EnvironmentOutcome(observation=array([-0.02833006, -0.05584211,  0.08095741,  0.19883494], dtype=float32), value=Value(reward=1.0, cost=-1.0), termination=False, info={})\n",
            "2024-05-30 09:21:56,140 | skdecide.utils | DEBUG | Action: 1\n",
            "2024-05-30 09:21:56,163 | skdecide.utils | DEBUG | Result: EnvironmentOutcome(observation=array([-0.0294469 ,  0.13803421,  0.08493411, -0.06725155], dtype=float32), value=Value(reward=1.0, cost=-1.0), termination=False, info={})\n",
            "2024-05-30 09:21:56,180 | skdecide.utils | DEBUG | Action: 0\n",
            "2024-05-30 09:21:56,201 | skdecide.utils | DEBUG | Result: EnvironmentOutcome(observation=array([-0.02668622, -0.05819627,  0.08358908,  0.25097376], dtype=float32), value=Value(reward=1.0, cost=-1.0), termination=False, info={})\n",
            "2024-05-30 09:21:56,218 | skdecide.utils | DEBUG | Action: 1\n",
            "2024-05-30 09:21:56,248 | skdecide.utils | DEBUG | Result: EnvironmentOutcome(observation=array([-0.02785014,  0.13563873,  0.08860856, -0.014217  ], dtype=float32), value=Value(reward=1.0, cost=-1.0), termination=False, info={})\n",
            "2024-05-30 09:21:56,268 | skdecide.utils | DEBUG | Action: 0\n",
            "2024-05-30 09:21:56,289 | skdecide.utils | DEBUG | Result: EnvironmentOutcome(observation=array([-0.02513737, -0.06063487,  0.08832421,  0.30505523], dtype=float32), value=Value(reward=1.0, cost=-1.0), termination=False, info={})\n",
            "2024-05-30 09:21:56,308 | skdecide.utils | DEBUG | Action: 1\n",
            "2024-05-30 09:21:56,327 | skdecide.utils | DEBUG | Result: EnvironmentOutcome(observation=array([-0.02635006,  0.13312465,  0.09442532,  0.04148243], dtype=float32), value=Value(reward=1.0, cost=-1.0), termination=False, info={})\n",
            "2024-05-30 09:21:56,341 | skdecide.utils | DEBUG | Action: 0\n",
            "2024-05-30 09:21:56,373 | skdecide.utils | DEBUG | Result: EnvironmentOutcome(observation=array([-0.02368757, -0.06321559,  0.09525497,  0.36240062], dtype=float32), value=Value(reward=1.0, cost=-1.0), termination=False, info={})\n",
            "2024-05-30 09:21:56,386 | skdecide.utils | DEBUG | Action: 1\n",
            "2024-05-30 09:21:56,401 | skdecide.utils | DEBUG | Result: EnvironmentOutcome(observation=array([-0.02495188,  0.13043252,  0.10250298,  0.1012079 ], dtype=float32), value=Value(reward=1.0, cost=-1.0), termination=False, info={})\n",
            "2024-05-30 09:21:56,410 | skdecide.utils | DEBUG | Action: 0\n",
            "2024-05-30 09:21:56,424 | skdecide.utils | DEBUG | Result: EnvironmentOutcome(observation=array([-0.02234323, -0.06599769,  0.10452714,  0.4243898 ], dtype=float32), value=Value(reward=1.0, cost=-1.0), termination=False, info={})\n",
            "2024-05-30 09:21:56,434 | skdecide.utils | DEBUG | Action: 1\n",
            "2024-05-30 09:21:56,447 | skdecide.utils | DEBUG | Result: EnvironmentOutcome(observation=array([-0.02366319,  0.1275003 ,  0.11301494,  0.16640204], dtype=float32), value=Value(reward=1.0, cost=-1.0), termination=False, info={})\n",
            "2024-05-30 09:21:56,464 | skdecide.utils | DEBUG | Action: 0\n",
            "2024-05-30 09:21:56,479 | skdecide.utils | DEBUG | Result: EnvironmentOutcome(observation=array([-0.02111318, -0.06904275,  0.11634298,  0.49249157], dtype=float32), value=Value(reward=1.0, cost=-1.0), termination=False, info={})\n",
            "2024-05-30 09:21:56,491 | skdecide.utils | DEBUG | Action: 0\n",
            "2024-05-30 09:21:56,504 | skdecide.utils | DEBUG | Result: EnvironmentOutcome(observation=array([-0.02249404, -0.26559696,  0.12619281,  0.8194575 ], dtype=float32), value=Value(reward=1.0, cost=-1.0), termination=False, info={})\n",
            "2024-05-30 09:21:56,518 | skdecide.utils | DEBUG | Action: 0\n",
            "2024-05-30 09:21:56,533 | skdecide.utils | DEBUG | Result: EnvironmentOutcome(observation=array([-0.02780597, -0.4621992 ,  0.14258195,  1.1490182 ], dtype=float32), value=Value(reward=1.0, cost=-1.0), termination=False, info={})\n",
            "2024-05-30 09:21:56,543 | skdecide.utils | DEBUG | Action: 0\n",
            "2024-05-30 09:21:56,555 | skdecide.utils | DEBUG | Result: EnvironmentOutcome(observation=array([-0.03704996, -0.6588648 ,  0.16556232,  1.4828002 ], dtype=float32), value=Value(reward=1.0, cost=-1.0), termination=False, info={})\n",
            "2024-05-30 09:21:56,563 | skdecide.utils | DEBUG | Action: 1\n",
            "2024-05-30 09:21:56,589 | skdecide.utils | DEBUG | Result: EnvironmentOutcome(observation=array([-0.05022725, -0.46610367,  0.19521832,  1.2460656 ], dtype=float32), value=Value(reward=1.0, cost=-1.0), termination=False, info={})\n",
            "2024-05-30 09:21:56,598 | skdecide.utils | DEBUG | Action: 0\n",
            "2024-05-30 09:21:56,609 | skdecide.utils | DEBUG | Result: EnvironmentOutcome(observation=array([-0.05954933, -0.6631185 ,  0.22013964,  1.5930047 ], dtype=float32), value=Value(reward=1.0, cost=-1.0), termination=True, info={})\n",
            "2024-05-30 09:21:56,611 | skdecide.utils | DEBUG | Episode 1 terminated after 28 steps.\n"
          ]
        },
        {
          "output_type": "stream",
          "name": "stdout",
          "text": [
            "Moviepy - Building video temp-{start}.mp4.\n",
            "Moviepy - Writing video temp-{start}.mp4\n",
            "\n"
          ]
        },
        {
          "output_type": "stream",
          "name": "stderr",
          "text": []
        },
        {
          "output_type": "stream",
          "name": "stdout",
          "text": [
            "Moviepy - Done !\n",
            "Moviepy - video ready temp-{start}.mp4\n"
          ]
        },
        {
          "output_type": "display_data",
          "data": {
            "text/plain": [
              "<IPython.core.display.Video object>"
            ],
            "text/html": [
              "<video controls  >\n",
              " <source src=\"data:video/mp4;base64,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\" type=\"video/mp4\">\n",
              " Your browser does not support the video tag.\n",
              " </video>"
            ]
          },
          "metadata": {}
        }
      ]
    },
    {
      "cell_type": "markdown",
      "source": [
        "## Solving the domain"
      ],
      "metadata": {
        "id": "-HX0VGo5i27F"
      }
    },
    {
      "cell_type": "markdown",
      "source": [
        "One of the key benefits of scikit-decide is its ability to connect the same domain definition to many different solvers from various communities. To demonstrate this versatility, we show how to solve the domain loaded above with both Reinforcement Learning and Cartesian Genetic Programming:"
      ],
      "metadata": {
        "id": "-pWbBwYi5ONH"
      }
    },
    {
      "cell_type": "markdown",
      "source": [
        "### With Reinforcement Learning (RL)"
      ],
      "metadata": {
        "id": "-c8cciF3i8U1"
      }
    },
    {
      "cell_type": "markdown",
      "source": [
        "Scikit-decide provides wrappers for several RL solvers, such as [RLlib](https://docs.ray.io/en/latest/rllib/index.html) and [Stable-Baselines3](https://stable-baselines3.readthedocs.io). We use the latter in this example:"
      ],
      "metadata": {
        "id": "WEyGdz586oq_"
      }
    },
    {
      "cell_type": "code",
      "source": [
        "from stable_baselines3 import PPO\n",
        "from skdecide.hub.solver.stable_baselines import StableBaseline\n",
        "\n",
        "# Check domain compatibility with StableBaseline RL solver (good practice)\n",
        "assert StableBaseline.check_domain(domain)\n",
        "\n",
        "# Instantiate solver with parameters of choice (e.g. type of algo/neural net, learning steps...)\n",
        "solver = StableBaseline(\n",
        "    domain_factory,\n",
        "    algo_class=PPO,\n",
        "    baselines_policy=\"MlpPolicy\",\n",
        "    learn_config={\"total_timesteps\": 10000},\n",
        "    verbose=1\n",
        ")\n",
        "\n",
        "# Solve with RL\n",
        "solver.solve()\n",
        "\n",
        "# Save solution\n",
        "solver.save(\"saved_solution\")"
      ],
      "metadata": {
        "colab": {
          "base_uri": "https://localhost:8080/"
        },
        "id": "u3mGONewUzRZ",
        "outputId": "baa82a68-012d-4290-fbfa-c752470c669a"
      },
      "execution_count": 3,
      "outputs": [
        {
          "output_type": "stream",
          "name": "stderr",
          "text": [
            "WARNING:py.warnings:/usr/local/lib/python3.10/dist-packages/gymnasium/wrappers/compatibility.py:67: DeprecationWarning: \u001b[33mWARN: The `gymnasium.make(..., apply_api_compatibility=...)` parameter is deprecated and will be removed in v0.29. Instead use `gym.make('GymV21Environment-v0', env_name=...)` or `from shimmy import GymV21CompatibilityV0`\u001b[0m\n",
            "  logger.deprecation(\n",
            "\n"
          ]
        },
        {
          "output_type": "stream",
          "name": "stdout",
          "text": [
            "Using cpu device\n",
            "-----------------------------\n",
            "| time/              |      |\n",
            "|    fps             | 121  |\n",
            "|    iterations      | 1    |\n",
            "|    time_elapsed    | 16   |\n",
            "|    total_timesteps | 2048 |\n",
            "-----------------------------\n",
            "-----------------------------------------\n",
            "| time/                   |             |\n",
            "|    fps                  | 120         |\n",
            "|    iterations           | 2           |\n",
            "|    time_elapsed         | 33          |\n",
            "|    total_timesteps      | 4096        |\n",
            "| train/                  |             |\n",
            "|    approx_kl            | 0.008190245 |\n",
            "|    clip_fraction        | 0.0952      |\n",
            "|    clip_range           | 0.2         |\n",
            "|    entropy_loss         | -0.686      |\n",
            "|    explained_variance   | -0.0112     |\n",
            "|    learning_rate        | 0.0003      |\n",
            "|    loss                 | 5.32        |\n",
            "|    n_updates            | 10          |\n",
            "|    policy_gradient_loss | -0.0148     |\n",
            "|    value_loss           | 51          |\n",
            "-----------------------------------------\n",
            "-----------------------------------------\n",
            "| time/                   |             |\n",
            "|    fps                  | 120         |\n",
            "|    iterations           | 3           |\n",
            "|    time_elapsed         | 51          |\n",
            "|    total_timesteps      | 6144        |\n",
            "| train/                  |             |\n",
            "|    approx_kl            | 0.011020623 |\n",
            "|    clip_fraction        | 0.0779      |\n",
            "|    clip_range           | 0.2         |\n",
            "|    entropy_loss         | -0.664      |\n",
            "|    explained_variance   | 0.104       |\n",
            "|    learning_rate        | 0.0003      |\n",
            "|    loss                 | 15.5        |\n",
            "|    n_updates            | 20          |\n",
            "|    policy_gradient_loss | -0.0205     |\n",
            "|    value_loss           | 32.4        |\n",
            "-----------------------------------------\n",
            "------------------------------------------\n",
            "| time/                   |              |\n",
            "|    fps                  | 120          |\n",
            "|    iterations           | 4            |\n",
            "|    time_elapsed         | 68           |\n",
            "|    total_timesteps      | 8192         |\n",
            "| train/                  |              |\n",
            "|    approx_kl            | 0.0072083273 |\n",
            "|    clip_fraction        | 0.0758       |\n",
            "|    clip_range           | 0.2          |\n",
            "|    entropy_loss         | -0.632       |\n",
            "|    explained_variance   | 0.206        |\n",
            "|    learning_rate        | 0.0003       |\n",
            "|    loss                 | 21.5         |\n",
            "|    n_updates            | 30           |\n",
            "|    policy_gradient_loss | -0.0184      |\n",
            "|    value_loss           | 53.4         |\n",
            "------------------------------------------\n",
            "----------------------------------------\n",
            "| time/                   |            |\n",
            "|    fps                  | 117        |\n",
            "|    iterations           | 5          |\n",
            "|    time_elapsed         | 87         |\n",
            "|    total_timesteps      | 10240      |\n",
            "| train/                  |            |\n",
            "|    approx_kl            | 0.00851589 |\n",
            "|    clip_fraction        | 0.0729     |\n",
            "|    clip_range           | 0.2        |\n",
            "|    entropy_loss         | -0.607     |\n",
            "|    explained_variance   | 0.331      |\n",
            "|    learning_rate        | 0.0003     |\n",
            "|    loss                 | 21.3       |\n",
            "|    n_updates            | 40         |\n",
            "|    policy_gradient_loss | -0.017     |\n",
            "|    value_loss           | 59.5       |\n",
            "----------------------------------------\n"
          ]
        }
      ]
    },
    {
      "cell_type": "markdown",
      "source": [
        "Now we can run episodes with rollout using the latest solver policy:"
      ],
      "metadata": {
        "id": "xO1EjXHb70Bg"
      }
    },
    {
      "cell_type": "code",
      "source": [
        "# Visualize solution (pass solver to rollout to use its policy)\n",
        "rollout(domain, solver, num_episodes=1, max_steps=1000, verbose=False)\n",
        "domain.unwrapped().play()"
      ],
      "metadata": {
        "colab": {
          "base_uri": "https://localhost:8080/",
          "height": 584
        },
        "id": "Axq05z_7tO-T",
        "outputId": "57a69121-6ea1-4002-8655-3c348170e0f3"
      },
      "execution_count": 4,
      "outputs": [
        {
          "output_type": "stream",
          "name": "stdout",
          "text": [
            "Moviepy - Building video temp-{start}.mp4.\n",
            "Moviepy - Writing video temp-{start}.mp4\n",
            "\n"
          ]
        },
        {
          "output_type": "stream",
          "name": "stderr",
          "text": [
            "t:  86%|████████▋ | 83/96 [00:00<00:00, 212.64it/s, now=None]WARNING:py.warnings:/usr/local/lib/python3.10/dist-packages/moviepy/video/io/ffmpeg_reader.py:123: UserWarning: Warning: in file ./render/1717061038.634458.mp4, 720000 bytes wanted but 0 bytes read,at frame 95/96, at time 3.17/3.17 sec. Using the last valid frame instead.\n",
            "  warnings.warn(\"Warning: in file %s, \"%(self.filename)+\n",
            "\n",
            "                                                             "
          ]
        },
        {
          "output_type": "stream",
          "name": "stdout",
          "text": [
            "Moviepy - Done !\n",
            "Moviepy - video ready temp-{start}.mp4\n"
          ]
        },
        {
          "output_type": "stream",
          "name": "stderr",
          "text": [
            "\r"
          ]
        },
        {
          "output_type": "display_data",
          "data": {
            "text/plain": [
              "<IPython.core.display.Video object>"
            ],
            "text/html": [
              "<video controls  >\n",
              " <source src=\"data:video/mp4;base64,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\" type=\"video/mp4\">\n",
              " Your browser does not support the video tag.\n",
              " </video>"
            ]
          },
          "metadata": {}
        }
      ]
    },
    {
      "cell_type": "markdown",
      "source": [
        "It is always possible to reload a saved solution (especially useful in a new Python session) and possibly continue learning from there. By running this cell a couple of times, you should see increasingly better solutions:"
      ],
      "metadata": {
        "id": "XGEIQWlT8TOz"
      }
    },
    {
      "cell_type": "code",
      "source": [
        "# Optional: reload solution (required if reloading in a new Python session)\n",
        "solver.load(\"saved_solution\")\n",
        "\n",
        "# Continue learning\n",
        "solver.solve()\n",
        "\n",
        "# Save updated solution\n",
        "solver.save(\"saved_solution\")\n",
        "\n",
        "# Visualize updated solution\n",
        "rollout(domain, solver, num_episodes=1, max_steps=1000, verbose=False)\n",
        "domain.unwrapped().play()"
      ],
      "metadata": {
        "colab": {
          "base_uri": "https://localhost:8080/",
          "height": 1000
        },
        "id": "kVaHAX5eXe8X",
        "outputId": "9c4705d4-37ad-4631-d92a-ec561a937bb7"
      },
      "execution_count": 5,
      "outputs": [
        {
          "output_type": "stream",
          "name": "stderr",
          "text": [
            "WARNING:py.warnings:/usr/local/lib/python3.10/dist-packages/gymnasium/wrappers/compatibility.py:67: DeprecationWarning: \u001b[33mWARN: The `gymnasium.make(..., apply_api_compatibility=...)` parameter is deprecated and will be removed in v0.29. Instead use `gym.make('GymV21Environment-v0', env_name=...)` or `from shimmy import GymV21CompatibilityV0`\u001b[0m\n",
            "  logger.deprecation(\n",
            "\n"
          ]
        },
        {
          "output_type": "stream",
          "name": "stdout",
          "text": [
            "-----------------------------\n",
            "| time/              |      |\n",
            "|    fps             | 137  |\n",
            "|    iterations      | 1    |\n",
            "|    time_elapsed    | 14   |\n",
            "|    total_timesteps | 2048 |\n",
            "-----------------------------\n",
            "----------------------------------------\n",
            "| time/                   |            |\n",
            "|    fps                  | 130        |\n",
            "|    iterations           | 2          |\n",
            "|    time_elapsed         | 31         |\n",
            "|    total_timesteps      | 4096       |\n",
            "| train/                  |            |\n",
            "|    approx_kl            | 0.00618995 |\n",
            "|    clip_fraction        | 0.026      |\n",
            "|    clip_range           | 0.2        |\n",
            "|    entropy_loss         | -0.594     |\n",
            "|    explained_variance   | 0.667      |\n",
            "|    learning_rate        | 0.0003     |\n",
            "|    loss                 | 8.99       |\n",
            "|    n_updates            | 60         |\n",
            "|    policy_gradient_loss | -0.00621   |\n",
            "|    value_loss           | 44.8       |\n",
            "----------------------------------------\n",
            "------------------------------------------\n",
            "| time/                   |              |\n",
            "|    fps                  | 129          |\n",
            "|    iterations           | 3            |\n",
            "|    time_elapsed         | 47           |\n",
            "|    total_timesteps      | 6144         |\n",
            "| train/                  |              |\n",
            "|    approx_kl            | 0.0044216337 |\n",
            "|    clip_fraction        | 0.0193       |\n",
            "|    clip_range           | 0.2          |\n",
            "|    entropy_loss         | -0.578       |\n",
            "|    explained_variance   | 0.631        |\n",
            "|    learning_rate        | 0.0003       |\n",
            "|    loss                 | 18.4         |\n",
            "|    n_updates            | 70           |\n",
            "|    policy_gradient_loss | -0.00456     |\n",
            "|    value_loss           | 45.4         |\n",
            "------------------------------------------\n",
            "-----------------------------------------\n",
            "| time/                   |             |\n",
            "|    fps                  | 125         |\n",
            "|    iterations           | 4           |\n",
            "|    time_elapsed         | 65          |\n",
            "|    total_timesteps      | 8192        |\n",
            "| train/                  |             |\n",
            "|    approx_kl            | 0.007012082 |\n",
            "|    clip_fraction        | 0.0817      |\n",
            "|    clip_range           | 0.2         |\n",
            "|    entropy_loss         | -0.579      |\n",
            "|    explained_variance   | 0.935       |\n",
            "|    learning_rate        | 0.0003      |\n",
            "|    loss                 | 1.28        |\n",
            "|    n_updates            | 80          |\n",
            "|    policy_gradient_loss | -0.00818    |\n",
            "|    value_loss           | 18.6        |\n",
            "-----------------------------------------\n",
            "----------------------------------------\n",
            "| time/                   |            |\n",
            "|    fps                  | 125        |\n",
            "|    iterations           | 5          |\n",
            "|    time_elapsed         | 81         |\n",
            "|    total_timesteps      | 10240      |\n",
            "| train/                  |            |\n",
            "|    approx_kl            | 0.01010944 |\n",
            "|    clip_fraction        | 0.089      |\n",
            "|    clip_range           | 0.2        |\n",
            "|    entropy_loss         | -0.559     |\n",
            "|    explained_variance   | 0.699      |\n",
            "|    learning_rate        | 0.0003     |\n",
            "|    loss                 | 19.6       |\n",
            "|    n_updates            | 90         |\n",
            "|    policy_gradient_loss | -0.0107    |\n",
            "|    value_loss           | 53         |\n",
            "----------------------------------------\n",
            "Moviepy - Building video temp-{start}.mp4.\n",
            "Moviepy - Writing video temp-{start}.mp4\n",
            "\n"
          ]
        },
        {
          "output_type": "stream",
          "name": "stderr",
          "text": []
        },
        {
          "output_type": "stream",
          "name": "stdout",
          "text": [
            "Moviepy - Done !\n",
            "Moviepy - video ready temp-{start}.mp4\n"
          ]
        },
        {
          "output_type": "display_data",
          "data": {
            "text/plain": [
              "<IPython.core.display.Video object>"
            ],
            "text/html": [
              "<video controls  >\n",
              " <source src=\"data:video/mp4;base64,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\" type=\"video/mp4\">\n",
              " Your browser does not support the video tag.\n",
              " </video>"
            ]
          },
          "metadata": {}
        }
      ]
    },
    {
      "cell_type": "markdown",
      "source": [
        "After using a solver, it is good practice to do a cleanup as shown below (not critical here, but sometimes useful for C++ parallel solvers in scikit-decide). Note that this is automatically done if you use the solver within a `with` statement, which will be shown in the CGP sub-section below as an alternative."
      ],
      "metadata": {
        "id": "YvCHVcp49SWA"
      }
    },
    {
      "cell_type": "code",
      "source": [
        "# Clean up solver after use (good practice)\n",
        "solver._cleanup()"
      ],
      "metadata": {
        "id": "vW7wZXqV9HrT"
      },
      "execution_count": 6,
      "outputs": []
    },
    {
      "cell_type": "markdown",
      "source": [
        "### With Cartesian Genetic Programming (CGP)"
      ],
      "metadata": {
        "id": "W9J6C6C-jILe"
      }
    },
    {
      "cell_type": "code",
      "source": [
        "from skdecide.hub.solver.cgp import CGP\n",
        "\n",
        "# Check domain compatibility with CGP solver (good practice)\n",
        "assert CGP.check_domain(domain)\n",
        "\n",
        "# Instantiate solver with parameters of choice (using \"with\" syntax to avoid manual clean up)\n",
        "with CGP(domain_factory, folder_name=\"TEMP_CGP\", n_it=100) as solver:\n",
        "\n",
        "    # Solve with CGP\n",
        "    solver.solve()\n",
        "\n",
        "    # Visualize solution\n",
        "    rollout(domain, solver, num_episodes=1, max_steps=1000, verbose=False)\n",
        "    domain.unwrapped().play()"
      ],
      "metadata": {
        "colab": {
          "base_uri": "https://localhost:8080/",
          "height": 1000
        },
        "id": "a0h6jiSxjKki",
        "outputId": "a287e3a2-cf82-40d8-faa9-3b484509df09"
      },
      "execution_count": 7,
      "outputs": [
        {
          "output_type": "stream",
          "name": "stderr",
          "text": [
            "WARNING:py.warnings:/usr/local/lib/python3.10/dist-packages/skdecide/hub/solver/cgp/cgp.py:76: RuntimeWarning: overflow encountered in scalar subtract\n",
            "  x = (x - inmin) / (inmax - inmin)\n",
            "\n",
            "WARNING:py.warnings:/usr/lib/python3.10/random.py:370: DeprecationWarning: non-integer arguments to randrange() have been deprecated since Python 3.10 and will be removed in a subsequent version\n",
            "  return self.randrange(a, b+1)\n",
            "\n"
          ]
        },
        {
          "output_type": "stream",
          "name": "stdout",
          "text": [
            "[Discrete(2)]\n",
            "[Box([-4.8000002e+00 -3.4028235e+38 -4.1887903e-01 -3.4028235e+38], [4.8000002e+00 3.4028235e+38 4.1887903e-01 3.4028235e+38], (4,), float32)]\n",
            "[  6   1   1   9   1   3   9   0   2   1   4   4   1   3   4   8   3   8\n",
            "  19   6   4  18   0   7   7   0   7  19   3   2  11   1   4   1   7  11\n",
            "   9  12  13  12  10   0  18   2  10   8   4   5  17   3   5  16   0  14\n",
            "  16  16  16   6   7   2  12   6  11  14  17  18  14   8  16  10   8  11\n",
            "  19  13   1  20   7  13   4  14   8  12  14   1  12   0   7  18  20  12\n",
            "   8  32   8   4  16  19   8   3   9  20   2   8  10  28  19  16  37  15\n",
            "   9   7  21  11   3   4  10  22  35  16  28  37  11  41  37   2  22  20\n",
            "  15  42  43  18  28  45  12  36  38   1  31  29  20  25  47  13  16  37\n",
            "   8  19  14   5   1   6  11  23  27  13  27  47  20  11  21  18  12   9\n",
            "  17  14  14  17   1  50   5  10  26   7  43  50  17  54  37   7  24  39\n",
            "   0  13  34   1  12  61   2  28  54  16  24  48  14  19   3   0  14  56\n",
            "  17  11  24   1  51  57   3  38  48   3  37  37  13  73  43  12  36  47\n",
            "  10  19   2  12  23  14  12  45  25  11  56  17  12  53  65  15  15  47\n",
            "  17  43  47  20  53  57   2  66  59   8  10  49  14   6  48  11  13  49\n",
            "  10  11  79   1  25  76  11  74  13  12  64  38   1  34  64  17  77  26\n",
            "  19   7  22  15   3  27  18  82  29   6   6  91   9   5  15   2  10  76\n",
            "   0  19   1   2  78  52  19   2 100  12  57   9  70]\n",
            "1 \t 11.0 \t True \t [10.  9. 10. 11.]\n",
            "====================================================\n",
            "2 \t 11.0 \t False \t [ 9.  9. 10. 10.]\n",
            "====================================================\n",
            "3 \t 15.0 \t True \t [10. 10. 15.  9.]\n",
            "====================================================\n",
            "4 \t 15.0 \t True \t [13. 12. 13. 15.]\n",
            "====================================================\n",
            "5 \t 20.0 \t True \t [ 9.  8. 13. 20.]\n",
            "====================================================\n",
            "6 \t 20.0 \t False \t [ 8. 11. 10.  9.]\n",
            "====================================================\n",
            "7 \t 20.0 \t False \t [10.  9.  9. 12.]\n",
            "====================================================\n",
            "8 \t 20.0 \t False \t [10. 10. 10.  9.]\n",
            "====================================================\n",
            "9 \t 20.0 \t False \t [ 9. 19.  9.  9.]\n",
            "====================================================\n",
            "10 \t 20.0 \t False \t [11.  8.  9. 10.]\n",
            "====================================================\n",
            "11 \t 22.0 \t True \t [19.  9. 22. 22.]\n",
            "====================================================\n",
            "12 \t 22.0 \t True \t [22. 10. 10.  9.]\n",
            "====================================================\n",
            "13 \t 22.0 \t True \t [21.  9. 22.  8.]\n",
            "====================================================\n",
            "14 \t 22.0 \t False \t [ 8. 19. 13.  9.]\n",
            "====================================================\n",
            "15 \t 22.0 \t False \t [11. 10. 12.  9.]\n",
            "====================================================\n",
            "16 \t 22.0 \t False \t [10. 21. 20. 10.]\n",
            "====================================================\n",
            "17 \t 22.0 \t False \t [11. 10. 13.  9.]\n",
            "====================================================\n",
            "18 \t 22.0 \t False \t [ 9.  9. 10. 20.]\n",
            "====================================================\n",
            "19 \t 22.0 \t False \t [20.  9. 10. 20.]\n",
            "====================================================\n",
            "20 \t 22.0 \t False \t [10. 19.  9. 20.]\n",
            "====================================================\n",
            "21 \t 22.0 \t True \t [20. 10. 22. 10.]\n",
            "====================================================\n",
            "22 \t 22.0 \t False \t [10. 12. 10. 10.]\n",
            "====================================================\n",
            "23 \t 22.0 \t False \t [19. 21. 20. 13.]\n",
            "====================================================\n",
            "24 \t 22.0 \t False \t [10.  8. 10. 10.]\n",
            "====================================================\n",
            "25 \t 22.0 \t False \t [20. 20.  8. 10.]\n",
            "====================================================\n",
            "26 \t 52.0 \t True \t [10. 11. 52.  9.]\n",
            "====================================================\n",
            "27 \t 52.0 \t False \t [45.  8. 50. 10.]\n",
            "====================================================\n",
            "28 \t 52.0 \t False \t [10. 11. 38. 35.]\n",
            "====================================================\n",
            "29 \t 52.0 \t False \t [45. 48. 48. 11.]\n",
            "====================================================\n",
            "30 \t 52.0 \t False \t [26. 11. 34.  8.]\n",
            "====================================================\n",
            "31 \t 52.0 \t False \t [10.  8. 47.  9.]\n",
            "====================================================\n",
            "32 \t 52.0 \t False \t [25. 11. 10. 37.]\n",
            "====================================================\n",
            "33 \t 52.0 \t False \t [11. 13. 39. 42.]\n",
            "====================================================\n",
            "34 \t 52.0 \t False \t [14. 10.  9.  9.]\n",
            "====================================================\n",
            "35 \t 52.0 \t False \t [36. 37. 10. 40.]\n",
            "====================================================\n",
            "36 \t 52.0 \t False \t [ 9. 37.  9. 41.]\n",
            "====================================================\n",
            "37 \t 52.0 \t False \t [38. 42. 45. 50.]\n",
            "====================================================\n",
            "38 \t 52.0 \t False \t [10. 39. 34. 37.]\n",
            "====================================================\n",
            "39 \t 52.0 \t False \t [40.  9. 41. 49.]\n",
            "====================================================\n",
            "40 \t 52.0 \t False \t [12. 10. 10. 10.]\n",
            "====================================================\n",
            "41 \t 52.0 \t False \t [51. 37.  9. 30.]\n",
            "====================================================\n",
            "42 \t 52.0 \t False \t [ 9.  8. 10. 38.]\n",
            "====================================================\n",
            "43 \t 52.0 \t False \t [12. 41. 10.  9.]\n",
            "====================================================\n",
            "44 \t 56.0 \t True \t [10. 56. 55. 41.]\n",
            "====================================================\n",
            "45 \t 56.0 \t False \t [10.  8. 10. 10.]\n",
            "====================================================\n",
            "46 \t 56.0 \t False \t [30. 38.  9. 40.]\n",
            "====================================================\n",
            "47 \t 56.0 \t False \t [36. 13. 39. 55.]\n",
            "====================================================\n",
            "48 \t 56.0 \t False \t [55. 47. 25. 10.]\n",
            "====================================================\n",
            "49 \t 56.0 \t False \t [47. 37. 46. 10.]\n",
            "====================================================\n",
            "50 \t 56.0 \t True \t [38. 56. 39.  9.]\n",
            "====================================================\n",
            "51 \t 56.0 \t False \t [52.  9. 40. 37.]\n",
            "====================================================\n",
            "52 \t 107.0 \t True \t [  9.  31.  43. 107.]\n",
            "====================================================\n",
            "53 \t 107.0 \t False \t [37.  9. 10. 11.]\n",
            "====================================================\n",
            "54 \t 119.0 \t True \t [119. 119.  11. 113.]\n",
            "====================================================\n",
            "55 \t 119.0 \t False \t [ 13.  40. 114.  10.]\n",
            "====================================================\n",
            "56 \t 150.0 \t True \t [ 10. 150.   9.  10.]\n",
            "====================================================\n",
            "57 \t 150.0 \t False \t [103.   9.  10.  10.]\n",
            "====================================================\n",
            "58 \t 150.0 \t False \t [ 10. 119.  46.  62.]\n",
            "====================================================\n",
            "59 \t 150.0 \t False \t [89. 11. 10. 52.]\n",
            "====================================================\n",
            "60 \t 150.0 \t False \t [ 17.  10. 109.  78.]\n",
            "====================================================\n",
            "61 \t 150.0 \t False \t [ 63. 103. 109.  11.]\n",
            "====================================================\n",
            "62 \t 150.0 \t False \t [  9. 109.   9.  84.]\n",
            "====================================================\n",
            "63 \t 150.0 \t False \t [106.  69.  10. 131.]\n",
            "====================================================\n",
            "64 \t 150.0 \t False \t [ 8.  9.  8. 47.]\n",
            "====================================================\n",
            "65 \t 150.0 \t False \t [66. 10.  8. 87.]\n",
            "====================================================\n",
            "66 \t 150.0 \t False \t [ 10.  16.  10. 127.]\n",
            "====================================================\n",
            "67 \t 153.0 \t True \t [104.  25. 153. 122.]\n",
            "====================================================\n",
            "68 \t 153.0 \t False \t [ 9.  9. 10.  9.]\n",
            "====================================================\n",
            "69 \t 200.0 \t True \t [200. 135. 138. 133.]\n",
            "====================================================\n",
            "70 \t 200.0 \t False \t [13.  9. 10. 72.]\n",
            "====================================================\n",
            "71 \t 200.0 \t False \t [ 69. 143. 159.   8.]\n",
            "====================================================\n",
            "72 \t 200.0 \t False \t [ 13.  10.   9. 140.]\n",
            "====================================================\n",
            "73 \t 200.0 \t False \t [31. 11. 10. 40.]\n",
            "====================================================\n",
            "74 \t 200.0 \t False \t [ 10.  10.   9. 154.]\n",
            "====================================================\n",
            "75 \t 200.0 \t False \t [ 10. 133.  10. 133.]\n",
            "====================================================\n",
            "76 \t 200.0 \t False \t [  9.  25. 168.   9.]\n",
            "====================================================\n",
            "77 \t 200.0 \t False \t [119.   9. 165. 157.]\n",
            "====================================================\n",
            "78 \t 200.0 \t False \t [10.  9.  9.  8.]\n",
            "====================================================\n",
            "79 \t 200.0 \t False \t [ 10.  10.  73. 142.]\n",
            "====================================================\n",
            "80 \t 200.0 \t False \t [104.  10. 127.  72.]\n",
            "====================================================\n",
            "81 \t 200.0 \t False \t [134. 127.  12.  26.]\n",
            "====================================================\n",
            "82 \t 200.0 \t False \t [  9. 130. 157.  47.]\n",
            "====================================================\n",
            "83 \t 200.0 \t False \t [11. 35. 10.  9.]\n",
            "====================================================\n",
            "84 \t 200.0 \t False \t [107. 140. 187.  10.]\n",
            "====================================================\n",
            "85 \t 200.0 \t False \t [  9.  10. 186. 150.]\n",
            "====================================================\n",
            "86 \t 200.0 \t False \t [  9. 101.  10.  87.]\n",
            "====================================================\n",
            "87 \t 200.0 \t False \t [ 10.  10.  26. 174.]\n",
            "====================================================\n",
            "88 \t 200.0 \t False \t [ 51. 155.   9.   9.]\n",
            "====================================================\n",
            "89 \t 200.0 \t False \t [ 12. 134. 150. 159.]\n",
            "====================================================\n",
            "90 \t 200.0 \t False \t [  9.   9.  10. 118.]\n",
            "====================================================\n",
            "91 \t 200.0 \t False \t [119. 120. 131. 144.]\n",
            "====================================================\n",
            "92 \t 200.0 \t False \t [ 11.  10.  10. 135.]\n",
            "====================================================\n",
            "93 \t 200.0 \t False \t [ 9. 10. 34. 10.]\n",
            "====================================================\n",
            "94 \t 200.0 \t False \t [154.   9.   9. 158.]\n",
            "====================================================\n",
            "95 \t 200.0 \t False \t [154.  10. 196. 141.]\n",
            "====================================================\n",
            "96 \t 200.0 \t False \t [ 17. 143. 159.  11.]\n",
            "====================================================\n",
            "97 \t 200.0 \t False \t [10. 55.  9. 61.]\n",
            "====================================================\n",
            "98 \t 200.0 \t False \t [ 61. 171.   9.  10.]\n",
            "====================================================\n",
            "99 \t 200.0 \t False \t [144. 166.   9.  10.]\n",
            "====================================================\n",
            "100 \t 200.0 \t False \t [ 14.  53.  80. 143.]\n",
            "====================================================\n",
            "Moviepy - Building video temp-{start}.mp4.\n",
            "Moviepy - Writing video temp-{start}.mp4\n",
            "\n"
          ]
        },
        {
          "output_type": "stream",
          "name": "stderr",
          "text": []
        },
        {
          "output_type": "stream",
          "name": "stdout",
          "text": [
            "Moviepy - Done !\n",
            "Moviepy - video ready temp-{start}.mp4\n"
          ]
        },
        {
          "output_type": "display_data",
          "data": {
            "text/plain": [
              "<IPython.core.display.Video object>"
            ],
            "text/html": [
              "<video controls  >\n",
              " <source src=\"data:video/mp4;base64,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\" type=\"video/mp4\">\n",
              " Your browser does not support the video tag.\n",
              " </video>"
            ]
          },
          "metadata": {}
        }
      ]
    },
    {
      "cell_type": "markdown",
      "source": [
        "In this example, you may find that RL often finds better solutions than CGP (although this depends on the solver parameters and the random seed). Note however that this is highly problem-dependent: try re-running this notebook after setting `ENV_NAME = \"MountainCarContinuous-v0\"` at the beginning and you may find opposite results. That shows the power of having a wide catalog of solvers to find the best solution for each specific problem!"
      ],
      "metadata": {
        "id": "oYIYNN1wEKAX"
      }
    }
  ]
}