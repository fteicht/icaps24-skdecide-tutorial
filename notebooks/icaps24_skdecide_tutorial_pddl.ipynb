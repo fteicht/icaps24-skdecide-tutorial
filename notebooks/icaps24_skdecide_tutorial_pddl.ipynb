{
 "cells": [
  {
   "cell_type": "markdown",
   "metadata": {
    "editable": true,
    "slideshow": {
     "slide_type": ""
    },
    "tags": []
   },
   "source": [
    "# ICAPS24 SkDecide Tutorial: solving PDDL problems with classical planning, and reinforcement learning solvers"
   ]
  },
  {
   "cell_type": "code",
   "execution_count": null,
   "metadata": {},
   "outputs": [],
   "source": [
    "!wget https://raw.githubusercontent.com/fteicht/icaps24-skdecide-tutorial/main/notebooks/install_skdecide.py\n",
    "\n",
    "from install_skdecide import install_skdecide\n",
    "install_skdecide(using_nightly_version=False, force_reinstall=False)"
   ]
  },
  {
   "cell_type": "markdown",
   "metadata": {},
   "source": [
    "![Solver code generator](pictures/skdecide_solver_generator.png)"
   ]
  },
  {
   "cell_type": "code",
   "execution_count": null,
   "metadata": {},
   "outputs": [],
   "source": [
    "from typing import Any\n",
    "\n",
    "from skdecide.core import TransitionOutcome, Value, Space\n",
    "from skdecide.domains import RLDomain\n",
    "from skdecide.builders.domain import UnrestrictedActions, FullyObservable, Renderable\n",
    "from skdecide.hub.space.gym import DictSpace, GymSpace, MultiDiscreteSpace\n",
    "from skdecide.utils import rollout\n",
    "\n",
    "import pyRDDLGym\n",
    "from pyRDDLGym_rl.core.env import SimplifiedActionRDDLEnv\n",
    "\n",
    "from IPython.display import clear_output\n",
    "import matplotlib.pyplot as plt\n",
    "%matplotlib inline\n",
    "\n",
    "class D(RLDomain, UnrestrictedActions, FullyObservable, Renderable):\n",
    "    T_state = DictSpace  # Type of states\n",
    "    T_observation = T_state  # Type of observations\n",
    "    T_event = MultiDiscreteSpace  # Type of events\n",
    "    T_value = float  # Type of transition values (rewards or costs)\n",
    "    T_info = None  # Type of additional information in environment outcome\n",
    "\n",
    "\n",
    "class RDDLDomainUnrestrictedActions(D):\n",
    "\n",
    "    def __init__(self, rddl_domain: str, rddl_instance: str):\n",
    "        self.rddl_gym_env = pyRDDLGym.make(rddl_domain, rddl_instance, base_class=SimplifiedActionRDDLEnv, enforce_action_constraints=True)\n",
    "\n",
    "        plt.ioff()\n",
    "        self.fig, self.ax = plt.subplots(1)\n",
    "        self.ax.axis(\"off\")\n",
    "        plt.ion()\n",
    "        self.img = None\n",
    "\n",
    "    def _state_step(\n",
    "        self, action: D.T_event\n",
    "    ) -> TransitionOutcome[D.T_state, Value[D.T_value], D.T_predicate, D.T_info]:\n",
    "        next_state, reward, terminated, truncated, _ = self.rddl_gym_env.step(action)\n",
    "        return TransitionOutcome(\n",
    "            state=next_state, value=Value(reward=reward), termination=terminated or truncated\n",
    "        )\n",
    "\n",
    "    def _get_action_space_(self) -> Space[D.T_event]:\n",
    "        return GymSpace(self.rddl_gym_env.action_space)\n",
    "\n",
    "    def _state_reset(self) -> D.T_state:\n",
    "        # SkDecide only needs the state, not the info\n",
    "        return self.rddl_gym_env.reset()[0]\n",
    "\n",
    "    def _get_observation_space_(self) -> Space[D.T_observation]:\n",
    "        return GymSpace(self.rddl_gym_env.observation_space)\n",
    "\n",
    "    def _render_from(self, memory: D.T_state = None, **kwargs: Any) -> Any:\n",
    "        # We do not want the image to be displayed in a pygame window, but rather in this notebook\n",
    "        rddl_gym_img = self.rddl_gym_env.render(to_display=False)\n",
    "        if self.img is None:\n",
    "            self.img = self.ax.imshow(rddl_gym_img)\n",
    "        else:\n",
    "            self.img.set_data(rddl_gym_img)\n",
    "        self.fig.canvas.draw()\n",
    "        clear_output(wait=True)\n",
    "        display(self.fig)\n",
    "\n",
    "    def close(self):\n",
    "        plt.close(self.fig)"
   ]
  },
  {
   "cell_type": "code",
   "execution_count": null,
   "metadata": {},
   "outputs": [],
   "source": []
  }
 ],
 "metadata": {
  "kernelspec": {
   "display_name": "Python 3 (ipykernel)",
   "language": "python",
   "name": "python3"
  },
  "language_info": {
   "codemirror_mode": {
    "name": "ipython",
    "version": 3
   },
   "file_extension": ".py",
   "mimetype": "text/x-python",
   "name": "python",
   "nbconvert_exporter": "python",
   "pygments_lexer": "ipython3",
   "version": "3.10.14"
  }
 },
 "nbformat": 4,
 "nbformat_minor": 4
}
