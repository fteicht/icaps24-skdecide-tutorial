{
 "cells": [
  {
   "cell_type": "markdown",
   "id": "a93fe5e9-4f91-46aa-b7e2-751c1dce9966",
   "metadata": {
    "editable": true,
    "slideshow": {
     "slide_type": "skip"
    },
    "tags": []
   },
   "source": [
    "<style>\n",
    ".autofit .code_cell .input_area pre {\n",
    "    font-size: 1vw;  /* Adjust this value as needed */\n",
    "    line-height: 1.2;\n",
    "}\n",
    "</style>"
   ]
  },
  {
   "cell_type": "markdown",
   "id": "15a7c1f1-edbd-4e02-a06f-5a0b47a63cee",
   "metadata": {
    "editable": true,
    "slideshow": {
     "slide_type": "slide"
    },
    "tags": []
   },
   "source": [
    "# Scheduling in scikit-decide\n",
    "\n",
    "## Icaps Tutorial 2024\n",
    "Florent Teichteil Koenigsbuch, Alexandre Arnold, Guillaume Povéda\n",
    "\n",
    "Credits to IMACS and Olivier Regnier-Coudert\n",
    "In this tutorial notebook, you will be introduced to scheduling domains in scikit-decide."
   ]
  },
  {
   "cell_type": "code",
   "execution_count": 1,
   "id": "fb3d978c",
   "metadata": {
    "editable": true,
    "slideshow": {
     "slide_type": "skip"
    },
    "tags": []
   },
   "outputs": [
    {
     "name": "stdout",
     "output_type": "stream",
     "text": [
      "--2024-05-28 11:43:26--  https://raw.githubusercontent.com/fteicht/icaps24-skdecide-tutorial/main/notebooks/install_skdecide.py\n",
      "Resolving raw.githubusercontent.com (raw.githubusercontent.com)... 185.199.111.133, 185.199.108.133, 185.199.109.133, ...\n",
      "Connecting to raw.githubusercontent.com (raw.githubusercontent.com)|185.199.111.133|:443... connected.\n",
      "HTTP request sent, awaiting response... 200 OK\n",
      "Length: 2539 (2,5K) [text/plain]\n",
      "Saving to: ‘install_skdecide.py.3’\n",
      "\n",
      "install_skdecide.py 100%[===================>]   2,48K  --.-KB/s    in 0s      \n",
      "\n",
      "2024-05-28 11:43:26 (59,1 MB/s) - ‘install_skdecide.py.3’ saved [2539/2539]\n",
      "\n",
      "--2024-05-28 11:43:26--  https://raw.githubusercontent.com/fteicht/icaps24-skdecide-tutorial/gpd/rcpsp_rl/notebooks/imports_notebook.py\n",
      "Resolving raw.githubusercontent.com (raw.githubusercontent.com)... 185.199.111.133, 185.199.108.133, 185.199.109.133, ...\n",
      "Connecting to raw.githubusercontent.com (raw.githubusercontent.com)|185.199.111.133|:443... connected.\n",
      "HTTP request sent, awaiting response... 200 OK\n",
      "Length: 1662 (1,6K) [text/plain]\n",
      "Saving to: ‘imports_notebook.py.1’\n",
      "\n",
      "imports_notebook.py 100%[===================>]   1,62K  --.-KB/s    in 0s      \n",
      "\n",
      "2024-05-28 11:43:26 (52,8 MB/s) - ‘imports_notebook.py.1’ saved [1662/1662]\n",
      "\n",
      "--2024-05-28 11:43:27--  https://raw.githubusercontent.com/fteicht/icaps24-skdecide-tutorial/gpd/rcpsp_rl/notebooks/setup_environment_scheduling.py\n",
      "Resolving raw.githubusercontent.com (raw.githubusercontent.com)... 185.199.111.133, 185.199.108.133, 185.199.109.133, ...\n",
      "Connecting to raw.githubusercontent.com (raw.githubusercontent.com)|185.199.111.133|:443... connected.\n",
      "HTTP request sent, awaiting response... 200 OK\n",
      "Length: 1773 (1,7K) [text/plain]\n",
      "Saving to: ‘setup_environment_scheduling.py.14’\n",
      "\n",
      "setup_environment_s 100%[===================>]   1,73K  --.-KB/s    in 0s      \n",
      "\n",
      "2024-05-28 11:43:27 (35,2 MB/s) - ‘setup_environment_scheduling.py.14’ saved [1773/1773]\n",
      "\n",
      "Scikit-decide is already installed and we are asked not to forcibly reinstall it\n"
     ]
    },
    {
     "name": "stderr",
     "output_type": "stream",
     "text": [
      "--2024-05-28 11:43:32--  https://raw.githubusercontent.com/fteicht/icaps24-skdecide-tutorial/gpd/rcpsp_rl/notebooks/rcpsp_domains/rcpsp_sk_domain.py\n",
      "Resolving raw.githubusercontent.com (raw.githubusercontent.com)... 185.199.111.133, 185.199.108.133, 185.199.109.133, ...\n",
      "Connecting to raw.githubusercontent.com (raw.githubusercontent.com)|185.199.111.133|:443... connected.\n",
      "HTTP request sent, awaiting response... 200 OK\n",
      "Length: 12787 (12K) [text/plain]\n",
      "Saving to: ‘/Users/poveda_g/Documents/git_repos/pub_repo/icaps24-skdecide-tutorial/notebooks/rcpsp_domains/rcpsp_sk_domain.py’\n",
      "\n",
      "     0K .......... ..                                         100%  434K=0,03s\n",
      "\n",
      "2024-05-28 11:43:32 (434 KB/s) - ‘/Users/poveda_g/Documents/git_repos/pub_repo/icaps24-skdecide-tutorial/notebooks/rcpsp_domains/rcpsp_sk_domain.py’ saved [12787/12787]\n",
      "\n",
      "--2024-05-28 11:43:32--  https://raw.githubusercontent.com/fteicht/icaps24-skdecide-tutorial/gpd/rcpsp_rl/notebooks/rcpsp_domains/rcpsp_sk_domain_local_search.py\n",
      "Resolving raw.githubusercontent.com (raw.githubusercontent.com)... 185.199.111.133, 185.199.108.133, 185.199.109.133, ...\n",
      "Connecting to raw.githubusercontent.com (raw.githubusercontent.com)|185.199.111.133|:443... connected.\n",
      "HTTP request sent, awaiting response... 200 OK\n",
      "Length: 14904 (15K) [text/plain]\n",
      "Saving to: ‘/Users/poveda_g/Documents/git_repos/pub_repo/icaps24-skdecide-tutorial/notebooks/rcpsp_domains/rcpsp_sk_domain_local_search.py’\n",
      "\n",
      "     0K .......... ....                                       100%  542K=0,03s\n",
      "\n",
      "2024-05-28 11:43:33 (542 KB/s) - ‘/Users/poveda_g/Documents/git_repos/pub_repo/icaps24-skdecide-tutorial/notebooks/rcpsp_domains/rcpsp_sk_domain_local_search.py’ saved [14904/14904]\n",
      "\n",
      "--2024-05-28 11:43:33--  https://raw.githubusercontent.com/fteicht/icaps24-skdecide-tutorial/gpd/rcpsp_rl/notebooks/rcpsp_domains/stochastic_rcpsp_sk_domain.py\n",
      "Resolving raw.githubusercontent.com (raw.githubusercontent.com)... 185.199.111.133, 185.199.108.133, 185.199.109.133, ...\n",
      "Connecting to raw.githubusercontent.com (raw.githubusercontent.com)|185.199.111.133|:443... connected.\n",
      "HTTP request sent, awaiting response... 200 OK\n",
      "Length: 11307 (11K) [text/plain]\n",
      "Saving to: ‘/Users/poveda_g/Documents/git_repos/pub_repo/icaps24-skdecide-tutorial/notebooks/rcpsp_domains/stochastic_rcpsp_sk_domain.py’\n",
      "\n",
      "     0K .......... .                                          100%  368K=0,03s\n",
      "\n",
      "2024-05-28 11:43:33 (368 KB/s) - ‘/Users/poveda_g/Documents/git_repos/pub_repo/icaps24-skdecide-tutorial/notebooks/rcpsp_domains/stochastic_rcpsp_sk_domain.py’ saved [11307/11307]\n",
      "\n",
      "--2024-05-28 11:43:33--  https://raw.githubusercontent.com/fteicht/icaps24-skdecide-tutorial/gpd/rcpsp_rl/notebooks/rcpsp_domains/multi_solve_optuna.py\n",
      "Resolving raw.githubusercontent.com (raw.githubusercontent.com)... 185.199.111.133, 185.199.108.133, 185.199.109.133, ...\n",
      "Connecting to raw.githubusercontent.com (raw.githubusercontent.com)|185.199.111.133|:443... connected.\n",
      "HTTP request sent, awaiting response... 200 OK\n",
      "Length: 9298 (9,1K) [text/plain]\n",
      "Saving to: ‘/Users/poveda_g/Documents/git_repos/pub_repo/icaps24-skdecide-tutorial/notebooks/rcpsp_domains/multi_solve_optuna.py’\n",
      "\n",
      "     0K .........                                             100% 3,90M=0,002s\n",
      "\n",
      "2024-05-28 11:43:33 (3,90 MB/s) - ‘/Users/poveda_g/Documents/git_repos/pub_repo/icaps24-skdecide-tutorial/notebooks/rcpsp_domains/multi_solve_optuna.py’ saved [9298/9298]\n",
      "\n"
     ]
    },
    {
     "name": "stdout",
     "output_type": "stream",
     "text": [
      "Optuna is already installed and we are asked not to forcibly reinstall it\n",
      "Optuna-Dashboard is already installed and we are asked not to forcibly reinstall it\n",
      "Dash is already installed and we are asked not to forcibly reinstall it\n"
     ]
    }
   ],
   "source": [
    "# Basic installation of libraries and download of needed files (notably when using colab)\n",
    "!wget https://raw.githubusercontent.com/fteicht/icaps24-skdecide-tutorial/main/notebooks/install_skdecide.py\n",
    "!wget https://raw.githubusercontent.com/fteicht/icaps24-skdecide-tutorial/gpd/rcpsp_rl/notebooks/imports_notebook.py\n",
    "!wget https://raw.githubusercontent.com/fteicht/icaps24-skdecide-tutorial/gpd/rcpsp_rl/notebooks/setup_environment_scheduling.py\n",
    "import os\n",
    "import logging\n",
    "from install_skdecide import install_skdecide\n",
    "install_skdecide(using_nightly_version=False, force_reinstall=False)\n",
    "from imports_notebook import *\n",
    "from setup_environment_scheduling import (download_files_needed,\n",
    "                                          install_additional_dependencies)\n",
    "#download_files_needed()\n",
    "install_additional_dependencies(force_reinstall=False)\n",
    "logging.basicConfig(level=logging.CRITICAL)"
   ]
  },
  {
   "cell_type": "markdown",
   "id": "f648f006",
   "metadata": {
    "editable": true,
    "slideshow": {
     "slide_type": "slide"
    },
    "tags": []
   },
   "source": [
    "### What is scheduling and how it is different from planning or control domains ?\n",
    "\n",
    "\n",
    "Main characteristic of scheduling problems compared to classical planning : \n",
    "- Parallel tasks\n",
    "- Time dimension is preponderant\n",
    "- Complex time dependant constraint ?\n",
    "- For most scheduling problems we know the task to accomplish in advance contrary to planning problems.\n",
    "\n",
    "Solving technologies to solve scheduling problems :\n",
    "- State of the art are more on operational research community : mathematical programming, metaheuristic, discrete optimization in general -> need to extend scikit-decide with such solver technologies ! "
   ]
  },
  {
   "cell_type": "markdown",
   "id": "59fa32b9",
   "metadata": {
    "editable": true,
    "slideshow": {
     "slide_type": "slide"
    },
    "tags": []
   },
   "source": [
    "## Scheduling API in scikit-decide\n",
    "We developped a side API to be able to describe scheduling problems in scikit-decide.\n",
    "\n",
    "<img src=\"images/skdecide_characteristics_1.png\" alt=\"Example Image\" width=\"40%\">"
   ]
  },
  {
   "cell_type": "markdown",
   "id": "523c2e82-df1a-455f-aa27-8ae45c0a1a20",
   "metadata": {
    "editable": true,
    "slideshow": {
     "slide_type": "subslide"
    },
    "tags": []
   },
   "source": [
    "Our base scheduling domain is : \n",
    "\n",
    "- SingleAgent : implementation choice, in practice some scheduling problem could be encoded as MA\n",
    "- Sequential : even though task are executed in parallel we implement domain in a way that is compatible with Sequential caracteristic.\n",
    "- Simulation : step function are stateless and can be somulated (sample transition from any state)\n",
    "- DeterministicInitialized : we start from an empty schedule [could be changed]\n",
    "- Actions : only controlled event like starting tasks are considered\n",
    "- FullyObservable : we know the current status of the schedule\n",
    "- Markovian : next state only depends on action and current state\n",
    "- Goals : goal is to accomplish all task"
   ]
  },
  {
   "cell_type": "markdown",
   "id": "289db6f6-91f7-4554-8c4a-ead0b2871b27",
   "metadata": {
    "editable": true,
    "slideshow": {
     "slide_type": "subslide"
    },
    "tags": []
   },
   "source": [
    "### Additional features of scheduling problems : \n",
    "- WithPrecedence/WithoutPrecedence\n",
    "- MultiMode/SingleMode\n",
    "- VariableResourceConsumption/ConstantResourceConsumption\n",
    "- WithPreemptivity/WithoutPreemptivity\n",
    "- WithResourceTypes/WithoutResourceTypes\n",
    "- WithResourceUnits/WithoutResourceUnits\n",
    "- MixedRenewable/RenewableOnly\n",
    "- SimulatedTaskDuration/UncertainMultivariateTaskDuration/UncertainUnivariateTaskDuration/UncertainBoundedTaskDuration/UniformBoundedTaskDuration/EnumerableTaskDuration/DeterministicTaskDuration\n",
    "- CustomTaskProgress/DeterministicTaskProgress\n",
    "- WithResourceSkills/WithoutResourceSkills\n",
    "- WithTimeLag/WithoutTimeLag\n",
    "- WithTimeWindow/WithoutTimeWindow\n",
    "- WithPreallocations/WithoutPreallocations\n",
    "- WihConditionalTasks/WithoutConditionnalTasks\n",
    "- UncertainResourceAvilabilityChanges/DeterministicResourceAvailabilityChanges/WithoutResourceAvailabilityChange\n",
    "- WithModeCosts/WithoutModeCosts\n",
    "- WithResourceCosts/WithoutResourceCosts\n"
   ]
  },
  {
   "cell_type": "markdown",
   "id": "2a733844-4ba3-40ea-85a5-5a9bf2464212",
   "metadata": {
    "editable": true,
    "slideshow": {
     "slide_type": "slide"
    },
    "tags": []
   },
   "source": [
    "### Domain implementation\n",
    "#<Cite GPHH paper>\n",
    "    \n",
    "- State :\n",
    "    - set of task done\n",
    "    - set of remaining task\n",
    "    - set of starting time for each task, current progress, and resource allocated to it\n",
    "    - resource available\n",
    "- Actions : \n",
    "    - Start a task and allocate some resource to it\n",
    "    - Stop a task\n",
    "    - Resume a task and allocate some resource to it\n",
    "    - Do nothing (this will have no effect but to advance the simulation time to next time step or next event)"
   ]
  },
  {
   "cell_type": "markdown",
   "id": "5c4dbd00-ae8b-438d-93a9-ca2bc65744c4",
   "metadata": {
    "editable": true,
    "slideshow": {
     "slide_type": "slide"
    },
    "tags": []
   },
   "source": [
    "## RCPSP\n",
    "Scikit-decide contains implementation of RCPSP and many other variants.\n",
    "Resource-constrained\n",
    "\n",
    "The problem is made of $M$ activities that have precedence constraints. That means that if activity $j \\in [1,M]$ is a successor of activity $i \\in [1,M]$, then activity $i$ must be completed before activity $j$ can be started/\n",
    "\n",
    "On top of these constraints, each project is assigned a set of K renewable resources where each resource $k$ is available in $R_{k}$ units for the entire duration of the project. Each activity may require one or more of these resources to be completed. -- While scheduling the activities, the daily resource usage for resource $k$ can not exceed $R_{k}$ units.\n",
    "- Each activity $j$ takes $d_{j}$ time units to complete\n",
    "- The overall goal of the problem is usually to minimize the makespan\n",
    "\n",
    "A classic variant of RCPSP is the multimode RCPSP where each task can be executed in several ways (one way=one mode). A typical example is :\n",
    "- Mode n°1 'Fast mode': high resource consumption and fast\n",
    "- Mode n°2 'Slow mode' : low resource consumption but slow"
   ]
  },
  {
   "cell_type": "code",
   "execution_count": 2,
   "id": "5c329472-972c-49f1-883c-2dcfaa0763bb",
   "metadata": {
    "custom_css": "autofit",
    "editable": true,
    "slideshow": {
     "slide_type": "subslide"
    },
    "tags": []
   },
   "outputs": [
    {
     "data": {
      "text/plain": [
       "\u001b[0;31mInit signature:\u001b[0m \u001b[0mSingleModeRCPSP\u001b[0m\u001b[0;34m(\u001b[0m\u001b[0;34m)\u001b[0m\u001b[0;34m\u001b[0m\u001b[0;34m\u001b[0m\u001b[0m\n",
       "\u001b[0;31mSource:\u001b[0m        \n",
       "\u001b[0;32mclass\u001b[0m \u001b[0mSingleModeRCPSP\u001b[0m\u001b[0;34m(\u001b[0m\u001b[0;34m\u001b[0m\n",
       "\u001b[0;34m\u001b[0m    \u001b[0mDeterministicSchedulingDomain\u001b[0m\u001b[0;34m,\u001b[0m\u001b[0;34m\u001b[0m\n",
       "\u001b[0;34m\u001b[0m    \u001b[0mSingleMode\u001b[0m\u001b[0;34m,\u001b[0m\u001b[0;34m\u001b[0m\n",
       "\u001b[0;34m\u001b[0m    \u001b[0mDeterministicTaskDuration\u001b[0m\u001b[0;34m,\u001b[0m\u001b[0;34m\u001b[0m\n",
       "\u001b[0;34m\u001b[0m    \u001b[0mDeterministicTaskProgress\u001b[0m\u001b[0;34m,\u001b[0m\u001b[0;34m\u001b[0m\n",
       "\u001b[0;34m\u001b[0m    \u001b[0mWithoutResourceUnit\u001b[0m\u001b[0;34m,\u001b[0m\u001b[0;34m\u001b[0m\n",
       "\u001b[0;34m\u001b[0m    \u001b[0mWithoutPreallocations\u001b[0m\u001b[0;34m,\u001b[0m\u001b[0;34m\u001b[0m\n",
       "\u001b[0;34m\u001b[0m    \u001b[0mWithoutTimeLag\u001b[0m\u001b[0;34m,\u001b[0m\u001b[0;34m\u001b[0m\n",
       "\u001b[0;34m\u001b[0m    \u001b[0mWithoutTimeWindow\u001b[0m\u001b[0;34m,\u001b[0m\u001b[0;34m\u001b[0m\n",
       "\u001b[0;34m\u001b[0m    \u001b[0mWithoutResourceSkills\u001b[0m\u001b[0;34m,\u001b[0m\u001b[0;34m\u001b[0m\n",
       "\u001b[0;34m\u001b[0m    \u001b[0mWithoutResourceAvailabilityChange\u001b[0m\u001b[0;34m,\u001b[0m\u001b[0;34m\u001b[0m\n",
       "\u001b[0;34m\u001b[0m    \u001b[0mWithoutConditionalTasks\u001b[0m\u001b[0;34m,\u001b[0m\u001b[0;34m\u001b[0m\n",
       "\u001b[0;34m\u001b[0m    \u001b[0mRenewableOnly\u001b[0m\u001b[0;34m,\u001b[0m\u001b[0;34m\u001b[0m\n",
       "\u001b[0;34m\u001b[0m    \u001b[0mConstantResourceConsumption\u001b[0m\u001b[0;34m,\u001b[0m  \u001b[0;31m# problem with unimplemented classes with this\u001b[0m\u001b[0;34m\u001b[0m\n",
       "\u001b[0;34m\u001b[0m    \u001b[0mWithoutPreemptivity\u001b[0m\u001b[0;34m,\u001b[0m  \u001b[0;31m# problem with unimplemented classes with this\u001b[0m\u001b[0;34m\u001b[0m\n",
       "\u001b[0;34m\u001b[0m    \u001b[0mWithoutModeCosts\u001b[0m\u001b[0;34m,\u001b[0m\u001b[0;34m\u001b[0m\n",
       "\u001b[0;34m\u001b[0m    \u001b[0mWithoutResourceCosts\u001b[0m\u001b[0;34m,\u001b[0m\u001b[0;34m\u001b[0m\n",
       "\u001b[0;34m\u001b[0m\u001b[0;34m)\u001b[0m\u001b[0;34m:\u001b[0m\u001b[0;34m\u001b[0m\n",
       "\u001b[0;34m\u001b[0m    \u001b[0;34m\"\"\"\u001b[0m\n",
       "\u001b[0;34m    Single mode (classic) Resource project scheduling problem template.\u001b[0m\n",
       "\u001b[0;34m    It consists in :\u001b[0m\n",
       "\u001b[0;34m    - a deterministic scheduling problem with precedence constraint between task\u001b[0m\n",
       "\u001b[0;34m    - a set of renewable resource with constant availability (capacity)\u001b[0m\n",
       "\u001b[0;34m    - task having deterministic resource consumption\u001b[0m\n",
       "\u001b[0;34m    The goal is to minimize the overall makespan, respecting the cumulative resource consumption constraint\u001b[0m\n",
       "\u001b[0;34m    \"\"\"\u001b[0m\u001b[0;34m\u001b[0m\n",
       "\u001b[0;34m\u001b[0m\u001b[0;34m\u001b[0m\n",
       "\u001b[0;34m\u001b[0m    \u001b[0;32mpass\u001b[0m\u001b[0;34m\u001b[0m\u001b[0;34m\u001b[0m\u001b[0m\n",
       "\u001b[0;31mFile:\u001b[0m           ~/Documents/git_repos/pub_repo/scikit-decide/skdecide/builders/domain/scheduling/scheduling_domains.py\n",
       "\u001b[0;31mType:\u001b[0m           type\n",
       "\u001b[0;31mSubclasses:\u001b[0m     "
      ]
     },
     "metadata": {},
     "output_type": "display_data"
    }
   ],
   "source": [
    "# Let's look what defines the classical RCPSP for example\n",
    "SingleModeRCPSP??"
   ]
  },
  {
   "cell_type": "markdown",
   "id": "0a90d938-0c63-4a04-9bf0-e539d5ebaee6",
   "metadata": {
    "editable": true,
    "slideshow": {
     "slide_type": "subslide"
    },
    "tags": []
   },
   "source": [
    "### Small RCPSP Domain"
   ]
  },
  {
   "cell_type": "code",
   "execution_count": 3,
   "id": "5f961346",
   "metadata": {
    "custom_css": "autofit",
    "editable": true,
    "slideshow": {
     "slide_type": ""
    },
    "tags": []
   },
   "outputs": [],
   "source": [
    "class VerySimple_RCPSPDomain(SingleModeRCPSP):\n",
    "    def __init__(self):\n",
    "        self.initialize_domain()\n",
    "\n",
    "    def _get_objectives(self) -> List[SchedulingObjectiveEnum]:\n",
    "        return [SchedulingObjectiveEnum.MAKESPAN]\n",
    "\n",
    "    def _get_max_horizon(self) -> int:\n",
    "        return 10\n",
    "\n",
    "    def _get_successors(self) -> Dict[int, List[int]]:\n",
    "        return {\n",
    "            1: [2, 4],\n",
    "            2: [3],\n",
    "            3: [5],\n",
    "            4: [5],\n",
    "            5: [],\n",
    "        }\n",
    "\n",
    "    def _get_tasks_ids(self) -> Union[Set[int], Dict[int, Any], List[int]]:\n",
    "        return set([*range(1, 6)])\n",
    "\n",
    "    def _get_tasks_mode(self) -> Dict[int, ModeConsumption]:\n",
    "        return {\n",
    "            1: ConstantModeConsumption({\"r1\": 0}),\n",
    "            2: ConstantModeConsumption({\"r1\": 4}),\n",
    "            3: ConstantModeConsumption({\"r1\": 1}),\n",
    "            4: ConstantModeConsumption({\"r1\": 0}),\n",
    "            5: ConstantModeConsumption({\"r1\": 0}),\n",
    "        }\n",
    "\n",
    "    def _get_resource_types_names(self) -> List[str]:\n",
    "        return [\"r1\"]\n",
    "\n",
    "    def _get_task_duration(\n",
    "        self, task: int, mode: Optional[int] = 1, progress_from: Optional[float] = 0.0\n",
    "    ) -> int:\n",
    "        all_durations = {1: 0, 2: 3, 3: 3, 4: 7, 5: 0}\n",
    "        return all_durations[task]\n",
    "\n",
    "    def _get_original_quantity_resource(self, resource: str, **kwargs) -> int:\n",
    "        all_resource_quantities = {\"r1\": 7}\n",
    "        return all_resource_quantities[resource]"
   ]
  },
  {
   "cell_type": "code",
   "execution_count": 4,
   "id": "499fca4c",
   "metadata": {
    "editable": true,
    "slideshow": {
     "slide_type": ""
    },
    "tags": []
   },
   "outputs": [
    {
     "name": "stdout",
     "output_type": "stream",
     "text": [
      " The state contains the following field:\n",
      "['copy',\n",
      " 'resource_availability',\n",
      " 'resource_to_task',\n",
      " 'resource_used',\n",
      " 'resource_used_for_task',\n",
      " 't',\n",
      " 'task_ids',\n",
      " 'tasks_complete',\n",
      " 'tasks_complete_details',\n",
      " 'tasks_complete_mode',\n",
      " 'tasks_complete_progress',\n",
      " 'tasks_details',\n",
      " 'tasks_full_details',\n",
      " 'tasks_mode',\n",
      " 'tasks_ongoing',\n",
      " 'tasks_paused',\n",
      " 'tasks_progress',\n",
      " 'tasks_remaining',\n",
      " 'tasks_unsatisfiable']\n"
     ]
    }
   ],
   "source": [
    "domain = VerySimple_RCPSPDomain()\n",
    "domain.set_inplace_environment(False)\n",
    "state = domain.get_initial_state()\n",
    "print(f\" The state contains the following field:\")\n",
    "from pprint import pprint\n",
    "\n",
    "pprint([x for x in dir(state) if not x.startswith(\"_\")])"
   ]
  },
  {
   "cell_type": "code",
   "execution_count": 5,
   "id": "85a068c4-62da-4ad1-91a8-f97dc0b1decc",
   "metadata": {
    "editable": true,
    "slideshow": {
     "slide_type": ""
    },
    "tags": []
   },
   "outputs": [
    {
     "name": "stdout",
     "output_type": "stream",
     "text": [
      "Action \n",
      "Task : 1\n",
      "Mode : 1\n",
      "Action type START\n",
      "Time progress False\n",
      "Resource : None\n",
      "\n",
      "Action \n",
      "Task : None\n",
      "Mode : None\n",
      "Action type TIME_PR\n",
      "Time progress True\n",
      "Resource : None\n"
     ]
    }
   ],
   "source": [
    "print(\n",
    "    \"\\n\\n\".join([str(a) for a in domain.get_applicable_actions(state).get_elements()])\n",
    ")"
   ]
  },
  {
   "cell_type": "markdown",
   "id": "0a70de97-c143-447a-b01a-ec4603d8bf23",
   "metadata": {
    "editable": true,
    "slideshow": {
     "slide_type": "slide"
    },
    "tags": []
   },
   "source": [
    "#### Solving RCPSP domains\n",
    "\n",
    "We will study 3 different ways of solving scheduling problem\n",
    "- Classical graph search algorithm (A*) on (very small) instances\n",
    "- Combinatorial optimization and heuristics\n",
    "- Reinforcement learning"
   ]
  },
  {
   "cell_type": "markdown",
   "id": "d00216b8-56fa-4356-a0d5-c522643db0c4",
   "metadata": {
    "editable": true,
    "slideshow": {
     "slide_type": "subslide"
    },
    "tags": []
   },
   "source": [
    "#### Solving with A*"
   ]
  },
  {
   "cell_type": "markdown",
   "id": "9e9add91-b742-4e9e-b6d7-6a238b7fa694",
   "metadata": {},
   "source": [
    "Scheduling domain can be solved with compatible solver in the library scikit-decide. In the case of RCPSP, deterministic planning solver such as A* can be tried. This solver will onl work with tiny scheduling problem."
   ]
  },
  {
   "cell_type": "code",
   "execution_count": 6,
   "id": "6cbe3d8f-f4fe-466c-a5d8-085c4ec36a78",
   "metadata": {
    "editable": true,
    "slideshow": {
     "slide_type": ""
    },
    "tags": []
   },
   "outputs": [
    {
     "name": "stderr",
     "output_type": "stream",
     "text": [
      "2024-05-28 11:45:49,183 | skdecide.utils | INFO | The goal was reached in episode 1.\n"
     ]
    }
   ],
   "source": [
    "from skdecide.hub.solver.lazy_astar import LazyAstar\n",
    "\n",
    "solver = LazyAstar(domain_factory=lambda: domain, heuristic=None)\n",
    "solver.solve(from_memory=state)\n",
    "episode = rollout(\n",
    "    domain=domain, solver=solver, verbose=False, return_episodes=True, num_episodes=1\n",
    ")[0]"
   ]
  },
  {
   "cell_type": "code",
   "execution_count": 7,
   "id": "f3407b6c-0910-49b8-8afb-f9956dcd0c2a",
   "metadata": {
    "editable": true,
    "slideshow": {
     "slide_type": "subslide"
    },
    "tags": []
   },
   "outputs": [
    {
     "data": {
      "image/png": "[encoded data removed]",
      "text/plain": [
       "<Figure size 1000x1000 with 1 Axes>"
      ]
     },
     "metadata": {},
     "output_type": "display_data"
    },
    {
     "data": {
      "image/png": "[encoded data removed]",
      "text/plain": [
       "<Figure size 1000x500 with 1 Axes>"
      ]
     },
     "metadata": {},
     "output_type": "display_data"
    }
   ],
   "source": [
    "# Ploting solution\n",
    "states = episode[0]\n",
    "do_sol = from_last_state_to_solution(states[-1], domain)\n",
    "# Each line of the plot is a task\n",
    "fig_gantt = plot_task_gantt(do_sol.problem, do_sol)\n",
    "# Plot resource consumption plot\n",
    "fig_resource = plot_ressource_view(do_sol.problem, do_sol)"
   ]
  },
  {
   "cell_type": "markdown",
   "id": "5be627ef-0e78-4047-a4e3-703046b26a57",
   "metadata": {
    "editable": true,
    "slideshow": {
     "slide_type": "slide"
    },
    "tags": []
   },
   "source": [
    "## Solving with combinatorial optimization \n",
    "\n",
    "[Discrete Optimization](https://github.com/airbus/discrete-optimization) library is the scheduling engine to solve scikit-decide scheduling domains. It implements an extensive API similar to scikit-decide for combinatorial optimization problems.\n",
    "\n",
    "It implements a wide range of domain (optimisation problems):\n",
    "- knapsack, coloring, tsp, vrp, maximum independent set, facility location, rcpsp and variants.\n",
    "\n",
    "All problems have a complete set of solving solvers available : \n",
    "- Mathematical programming methods (Milp with open source solver and Gurobi, CP with Ortools, minizinc models..)\n",
    "- Local search and genetic algorithms\n",
    "- Custom heuristics (queue scheduling etc)"
   ]
  },
  {
   "cell_type": "code",
   "execution_count": 10,
   "id": "5494db2e-8118-4cdd-930a-55cbbbf34543",
   "metadata": {
    "editable": true,
    "slideshow": {
     "slide_type": "skip"
    },
    "tags": []
   },
   "outputs": [],
   "source": [
    "if len(get_data_available()) == 0:\n",
    "    fetch_data_from_psplib()\n",
    "file = [f for f in get_data_available() if \"j1201_1.sm\" in f][0]\n",
    "rcpsp_domain = load_domain(file)\n",
    "rcpsp_domain.set_inplace_environment(False)"
   ]
  },
  {
   "cell_type": "code",
   "execution_count": 11,
   "id": "6c10c8f5-22e2-455b-bf50-13ae11ebd145",
   "metadata": {
    "editable": true,
    "slideshow": {
     "slide_type": "subslide"
    },
    "tags": []
   },
   "outputs": [
    {
     "name": "stderr",
     "output_type": "stream",
     "text": [
      "2024-05-28 11:52:37,318 | skdecide.utils | INFO | The goal was reached in episode 1.\n"
     ]
    },
    {
     "name": "stdout",
     "output_type": "stream",
     "text": [
      "{'makespan': 143.0, 'mean_resource_reserve': 0.0, 'constraint_penalty': 0.0}\n"
     ]
    },
    {
     "data": {
      "image/png": "[encoded data removed]",
      "text/plain": [
       "<Figure size 1000x1000 with 1 Axes>"
      ]
     },
     "metadata": {},
     "output_type": "display_data"
    },
    {
     "data": {
      "image/png": "[encoded data removed]",
      "text/plain": [
       "<Figure size 1000x500 with 4 Axes>"
      ]
     },
     "metadata": {},
     "output_type": "display_data"
    }
   ],
   "source": [
    "# Setting a priority queue scheduling (based on Serial generation scheme and a priority queue) :\n",
    "params = PolicyMethodParams(\n",
    "    base_policy_method=BasePolicyMethod.SGS_INDEX_FREEDOM,\n",
    "    delta_index_freedom=10,\n",
    "    delta_time_freedom=0,\n",
    ")\n",
    "p = PolicyRCPSP(\n",
    "    domain=rcpsp_domain,\n",
    "    policy_method_params=params,\n",
    "    permutation_task=rcpsp_domain.task_ids,\n",
    "    modes_dictionnary={i + 1: 1 for i in range(len(rcpsp_domain.task_ids))},\n",
    ")\n",
    "episode = rollout(\n",
    "    domain=rcpsp_domain, solver=p, verbose=False, return_episodes=True, num_episodes=1\n",
    ")[0]\n",
    "states = episode[0]\n",
    "do_sol = from_last_state_to_solution(states[-1], rcpsp_domain)\n",
    "print(do_sol.problem.evaluate(do_sol))\n",
    "fig_gantt = plot_task_gantt(do_sol.problem, do_sol)\n",
    "fig_resource = plot_ressource_view(do_sol.problem, do_sol)"
   ]
  },
  {
   "cell_type": "code",
   "execution_count": 12,
   "id": "e48ee21b-5b2b-4441-9c75-30107b99ecfb",
   "metadata": {
    "editable": true,
    "slideshow": {
     "slide_type": "subslide"
    },
    "tags": []
   },
   "outputs": [],
   "source": [
    "# Solving with Constraint programming solver (Chuffed solver by default)\n",
    "p = ParametersCP.default_cpsat()\n",
    "p.time_limit = 5\n",
    "solver = DOSolver(\n",
    "    domain_factory=lambda: rcpsp_domain,\n",
    "    method=SolvingMethod.CP,\n",
    "    policy_method_params=PolicyMethodParams(\n",
    "        base_policy_method=BasePolicyMethod.FOLLOW_GANTT\n",
    "    ),\n",
    "    dict_params={\"parameters_cp\": p},\n",
    ")\n",
    "solver.solve()"
   ]
  },
  {
   "cell_type": "code",
   "execution_count": 13,
   "id": "8eb9533f-7eb6-4a56-8a61-28171aa0c327",
   "metadata": {
    "editable": true,
    "slideshow": {
     "slide_type": ""
    },
    "tags": []
   },
   "outputs": [
    {
     "name": "stderr",
     "output_type": "stream",
     "text": [
      "2024-05-28 11:53:24,198 | skdecide.utils | INFO | The goal was reached in episode 1.\n"
     ]
    }
   ],
   "source": [
    "episode = rollout(\n",
    "    domain=rcpsp_domain,\n",
    "    solver=solver,\n",
    "    verbose=False,\n",
    "    return_episodes=True,\n",
    "    num_episodes=1,\n",
    ")[0]"
   ]
  },
  {
   "cell_type": "code",
   "execution_count": 14,
   "id": "58ba457e-d03f-4d80-abae-d7cb128ed008",
   "metadata": {
    "editable": true,
    "slideshow": {
     "slide_type": "skip"
    },
    "tags": []
   },
   "outputs": [
    {
     "data": {
      "image/png": "[encoded data removed]",
      "text/plain": [
       "<Figure size 640x480 with 1 Axes>"
      ]
     },
     "metadata": {},
     "output_type": "display_data"
    }
   ],
   "source": [
    "from matplotlib.animation import FuncAnimation, PillowWriter\n",
    "from matplotlib.patches import Rectangle\n",
    "\n",
    "\n",
    "def plot_schedule(ax, state):\n",
    "    ax.clear()\n",
    "    ax.set_title(f\"Schedule at Time {state.t}\")\n",
    "    ax.set_xlabel(\"Time\")\n",
    "    ax.set_ylabel(\"Task ID\")\n",
    "    # Define colors for tasks\n",
    "    colors = plt.cm.tab10.colors\n",
    "    # Collect task IDs that are scheduled\n",
    "    scheduled_tasks = [\n",
    "        task_id\n",
    "        for task_id, task in state.tasks_full_details.items()\n",
    "        if task.start is not None\n",
    "    ]\n",
    "    # Plot each task as a rectangle\n",
    "    for idx, (task_id, task) in enumerate(state.tasks_full_details.items()):\n",
    "        if task.start is not None and task.end is not None:\n",
    "            rect = Rectangle(\n",
    "                (task.start, task_id - 0.4),\n",
    "                task.end - task.start,\n",
    "                0.8,\n",
    "                color=colors[idx % 10],\n",
    "                alpha=0.6,\n",
    "            )\n",
    "            ax.add_patch(rect)\n",
    "            ax.text(\n",
    "                (task.start + task.end) / 2,\n",
    "                task_id,\n",
    "                f\"T{task_id}\",\n",
    "                ha=\"center\",\n",
    "                va=\"center\",\n",
    "                color=\"black\",\n",
    "                fontsize=8,\n",
    "            )\n",
    "        if task.start is not None and task.end is None:\n",
    "            rect = Rectangle(\n",
    "                (task.start, task_id - 0.4),\n",
    "                state.t - task.start,\n",
    "                0.8,\n",
    "                color=colors[idx % 10],\n",
    "                alpha=0.6,\n",
    "                linestyle=\"dashed\",\n",
    "            )\n",
    "            ax.add_patch(rect)\n",
    "            ax.text(\n",
    "                (task.start + state.t) / 2,\n",
    "                task_id,\n",
    "                f\"T{task_id}\",\n",
    "                ha=\"center\",\n",
    "                va=\"center\",\n",
    "                color=\"black\",\n",
    "                fontsize=8,\n",
    "            )\n",
    "\n",
    "    # Plot the current time line\n",
    "    ax.axvline(state.t, color=\"r\", linestyle=\"--\", label=\"Current Time\")\n",
    "    ax.legend()\n",
    "    ax.grid(True)\n",
    "    ax.set_xlim(0, max(state.t + 1, 10))\n",
    "    if scheduled_tasks:\n",
    "        ax.set_ylim(min(scheduled_tasks) - 1.5, max(scheduled_tasks) + 1.5)\n",
    "\n",
    "\n",
    "# Function to animate the plot\n",
    "def animate(i):\n",
    "    plot_schedule(ax, episode[0][i])\n",
    "\n",
    "\n",
    "# Create the animation\n",
    "fig, ax = plt.subplots()\n",
    "ani = FuncAnimation(fig, animate, frames=len(episode[0]), repeat=False)\n",
    "gif_path = \"schedule_animation.gif\"\n",
    "ani.save(gif_path, writer=PillowWriter(fps=3))\n",
    "plt.show()"
   ]
  },
  {
   "cell_type": "markdown",
   "id": "46fae488-498e-461c-a4dc-9360c3125c2b",
   "metadata": {
    "editable": true,
    "slideshow": {
     "slide_type": "subslide"
    },
    "tags": []
   },
   "source": [
    "![Schedule Animation](images/schedule_animation.gif)"
   ]
  },
  {
   "cell_type": "markdown",
   "id": "05673d64-054b-428b-8735-a157db645366",
   "metadata": {
    "editable": true,
    "slideshow": {
     "slide_type": "subslide"
    },
    "tags": []
   },
   "source": [
    "## Hyperparameter optimisation\n",
    "Discrete Optimization solvers come with hyperparameters API opening the possibility to do hyperparam optimisation using the optuna library which is easily integrated to it.\n",
    "Hyperparams of solver can be for examples : \n",
    "- temperature, cooling factor for metaheuristics such as Simulated annealing\n",
    "- population size, mutation and crossover operators for genetic algorithms\n",
    "- solver backend or model variants for CP approaches etc."
   ]
  },
  {
   "cell_type": "code",
   "execution_count": 15,
   "id": "9c378197-af62-47c4-be2e-6ae5ee34fd15",
   "metadata": {
    "editable": true,
    "slideshow": {
     "slide_type": ""
    },
    "tags": []
   },
   "outputs": [
    {
     "name": "stdout",
     "output_type": "stream",
     "text": [
      "CP Solver hyperparams [] \n",
      "\n",
      "LNS hyperparams :  [] \n",
      "\n",
      "Local search hyperparams :  [] \n",
      "\n",
      "Genetic algorithms hyperparams :  [] \n",
      "\n"
     ]
    }
   ],
   "source": [
    "from discrete_optimization.generic_rcpsp_tools.large_neighborhood_search_scheduling import \\\n",
    "    LargeNeighborhoodSearchScheduling\n",
    "from discrete_optimization.generic_rcpsp_tools.ls_solver import LS_RCPSP_Solver\n",
    "from discrete_optimization.rcpsp.solver.cp_solvers import CP_RCPSP_MZN\n",
    "from discrete_optimization.rcpsp.solver.rcpsp_ga_solver import GA_RCPSP_Solver\n",
    "\n",
    "print(\"CP Solver hyperparams\", CP_RCPSP_MZN.hyperparameters, \"\\n\")\n",
    "print(\"LNS hyperparams : \", LargeNeighborhoodSearchScheduling.hyperparameters, \"\\n\")\n",
    "print(\"Local search hyperparams : \", LS_RCPSP_Solver.hyperparameters, \"\\n\")\n",
    "print(\"Genetic algorithms hyperparams : \", GA_RCPSP_Solver.hyperparameters, \"\\n\")"
   ]
  },
  {
   "cell_type": "code",
   "execution_count": 16,
   "id": "9e77be39-e0ed-47db-9862-e759a32e1b94",
   "metadata": {
    "editable": true,
    "slideshow": {
     "slide_type": "skip"
    },
    "tags": []
   },
   "outputs": [],
   "source": [
    "from rcpsp_domains.multi_solve_optuna import run_optuna_multisolve"
   ]
  },
  {
   "cell_type": "code",
   "execution_count": null,
   "id": "a3fb31de-ab23-444c-9841-55c462879eb3",
   "metadata": {
    "editable": true,
    "slideshow": {
     "slide_type": ""
    },
    "tags": []
   },
   "outputs": [],
   "source": [
    "run_optuna_multisolve(rcpsp_domain)"
   ]
  },
  {
   "cell_type": "code",
   "execution_count": 17,
   "id": "fc4a2171-eb59-4d73-a71e-bb7fab0e43c1",
   "metadata": {
    "editable": true,
    "slideshow": {
     "slide_type": "subslide"
    },
    "tags": []
   },
   "outputs": [],
   "source": [
    "import subprocess\n",
    "import threading\n",
    "\n",
    "from dash import Dash, html\n",
    "\n",
    "\n",
    "# Function to run the Optuna dashboard\n",
    "def run_dashboard():\n",
    "    subprocess.run([\"optuna-dashboard\", \"optuna-journal.log\"])\n",
    "\n",
    "\n",
    "# Start the dashboard server in a separate thread\n",
    "thread = threading.Thread(target=run_dashboard)\n",
    "thread.start()"
   ]
  },
  {
   "cell_type": "code",
   "execution_count": 21,
   "id": "e1fe656d-c986-434e-baea-983138288c01",
   "metadata": {},
   "outputs": [
    {
     "data": {
      "text/html": [
       "\n",
       "        <iframe\n",
       "            width=\"100%\"\n",
       "            height=\"650\"\n",
       "            src=\"http://127.0.0.1:8050/\"\n",
       "            frameborder=\"0\"\n",
       "            allowfullscreen\n",
       "            \n",
       "        ></iframe>\n",
       "        "
      ],
      "text/plain": [
       "<IPython.lib.display.IFrame at 0x2a91dca90>"
      ]
     },
     "metadata": {},
     "output_type": "display_data"
    },
    {
     "name": "stderr",
     "output_type": "stream",
     "text": [
      "127.0.0.1 - - [28/May/2024 11:56:03] \"GET / HTTP/1.1\" 302 0\n",
      "127.0.0.1 - - [28/May/2024 11:56:03] \"GET /dashboard HTTP/1.1\" 304 0\n",
      "127.0.0.1 - - [28/May/2024 11:56:03] \"GET /static/bundle.js HTTP/1.1\" 200 2986981\n",
      "127.0.0.1 - - [28/May/2024 11:56:03] \"GET /api/studies HTTP/1.1\" 200 4893\n",
      "127.0.0.1 - - [28/May/2024 11:56:05] \"GET /api/meta HTTP/1.1\" 200 63\n",
      "/Users/poveda_g/Library/Caches/pypoetry/virtualenvs/scikit-decide-A3wwHfZU-py3.10/lib/python3.10/site-packages/optuna_dashboard/_importance.py:75: ExperimentalWarning: PedAnovaImportanceEvaluator is experimental (supported from v3.6.0). The interface can change in the future.\n",
      "  return get_param_importances(study, target=target, evaluator=PedAnovaImportanceEvaluator())\n",
      "127.0.0.1 - - [28/May/2024 11:56:05] \"GET /api/studies/35?after=0 HTTP/1.1\" 200 238987\n",
      "/Users/poveda_g/Library/Caches/pypoetry/virtualenvs/scikit-decide-A3wwHfZU-py3.10/lib/python3.10/site-packages/optuna/importance/_ped_anova/evaluator.py:150: UserWarning: PedAnovaImportanceEvaluator computes the importances of params to achieve low `target` values. If this is not what you want, please modify target, e.g., by multiplying the output by -1.\n",
      "  warnings.warn(\n",
      "127.0.0.1 - - [28/May/2024 11:56:05] \"GET /api/studies/35/param_importances HTTP/1.1\" 200 107\n",
      "127.0.0.1 - - [28/May/2024 11:56:05] \"GET /api/studies/35/param_importances HTTP/1.1\" 200 107\n",
      "127.0.0.1 - - [28/May/2024 11:56:15] \"GET /api/studies/35?after=100 HTTP/1.1\" 200 5869\n",
      "127.0.0.1 - - [28/May/2024 11:56:23] \"GET /api/studies/35?after=100 HTTP/1.1\" 200 5869\n",
      "127.0.0.1 - - [28/May/2024 11:56:28] \"GET /api/studies/35?after=100 HTTP/1.1\" 200 5869\n",
      "127.0.0.1 - - [28/May/2024 11:56:33] \"GET /api/studies/35?after=100 HTTP/1.1\" 200 5869\n",
      "127.0.0.1 - - [28/May/2024 11:56:38] \"GET /api/studies/35?after=100 HTTP/1.1\" 200 5869\n",
      "127.0.0.1 - - [28/May/2024 11:56:43] \"GET /api/studies/35?after=100 HTTP/1.1\" 200 5869\n",
      "127.0.0.1 - - [28/May/2024 11:56:56] \"GET /api/studies/35?after=100 HTTP/1.1\" 200 5869\n",
      "127.0.0.1 - - [28/May/2024 11:57:06] \"GET /api/studies/35?after=100 HTTP/1.1\" 200 5869\n",
      "127.0.0.1 - - [28/May/2024 11:57:19] \"GET /api/studies/35?after=100 HTTP/1.1\" 200 5869\n",
      "127.0.0.1 - - [28/May/2024 11:57:24] \"GET /api/studies/35?after=100 HTTP/1.1\" 200 5869\n",
      "127.0.0.1 - - [28/May/2024 11:57:29] \"GET /api/studies/35?after=100 HTTP/1.1\" 200 5869\n",
      "127.0.0.1 - - [28/May/2024 11:57:35] \"GET /api/studies/35?after=100 HTTP/1.1\" 200 5869\n",
      "127.0.0.1 - - [28/May/2024 11:57:41] \"GET /api/studies/35?after=100 HTTP/1.1\" 200 5869\n",
      "127.0.0.1 - - [28/May/2024 11:57:47] \"GET /api/studies/35?after=100 HTTP/1.1\" 200 5869\n",
      "127.0.0.1 - - [28/May/2024 11:57:53] \"GET /api/studies/35?after=100 HTTP/1.1\" 200 5869\n",
      "127.0.0.1 - - [28/May/2024 11:57:59] \"GET /api/studies/35?after=100 HTTP/1.1\" 200 5869\n",
      "127.0.0.1 - - [28/May/2024 11:58:05] \"GET /api/studies/35?after=100 HTTP/1.1\" 200 5869\n",
      "127.0.0.1 - - [28/May/2024 11:58:11] \"GET /api/studies/35?after=100 HTTP/1.1\" 200 5869\n",
      "127.0.0.1 - - [28/May/2024 11:58:17] \"GET /api/studies/35?after=100 HTTP/1.1\" 200 5869\n",
      "127.0.0.1 - - [28/May/2024 11:58:23] \"GET /api/studies/35?after=100 HTTP/1.1\" 200 5869\n",
      "127.0.0.1 - - [28/May/2024 11:58:28] \"GET /api/studies/35?after=100 HTTP/1.1\" 200 5869\n",
      "127.0.0.1 - - [28/May/2024 11:58:33] \"GET /api/studies/35?after=100 HTTP/1.1\" 200 5869\n",
      "127.0.0.1 - - [28/May/2024 11:58:38] \"GET /api/studies/35?after=100 HTTP/1.1\" 200 5869\n",
      "127.0.0.1 - - [28/May/2024 11:58:43] \"GET /api/studies/35?after=100 HTTP/1.1\" 200 5869\n",
      "127.0.0.1 - - [28/May/2024 11:58:48] \"GET /api/studies/35?after=100 HTTP/1.1\" 200 5869\n",
      "127.0.0.1 - - [28/May/2024 11:58:53] \"GET /api/studies/35?after=100 HTTP/1.1\" 200 5869\n",
      "127.0.0.1 - - [28/May/2024 11:58:58] \"GET /api/studies/35?after=100 HTTP/1.1\" 200 5869\n",
      "127.0.0.1 - - [28/May/2024 11:59:04] \"GET /api/studies/35?after=100 HTTP/1.1\" 200 5869\n",
      "127.0.0.1 - - [28/May/2024 11:59:09] \"GET /api/studies/35?after=100 HTTP/1.1\" 200 5869\n",
      "127.0.0.1 - - [28/May/2024 11:59:15] \"GET /api/studies/35?after=100 HTTP/1.1\" 200 5869\n",
      "127.0.0.1 - - [28/May/2024 11:59:21] \"GET /api/studies/35?after=100 HTTP/1.1\" 200 5869\n",
      "127.0.0.1 - - [28/May/2024 11:59:27] \"GET /api/studies/35?after=100 HTTP/1.1\" 200 5869\n",
      "127.0.0.1 - - [28/May/2024 11:59:33] \"GET /api/studies/35?after=100 HTTP/1.1\" 200 5869\n",
      "127.0.0.1 - - [28/May/2024 11:59:39] \"GET /api/studies/35?after=100 HTTP/1.1\" 200 5869\n",
      "127.0.0.1 - - [28/May/2024 11:59:45] \"GET /api/studies/35?after=100 HTTP/1.1\" 200 5869\n",
      "127.0.0.1 - - [28/May/2024 11:59:51] \"GET /api/studies/35?after=100 HTTP/1.1\" 200 5869\n",
      "127.0.0.1 - - [28/May/2024 11:59:57] \"GET /api/studies/35?after=100 HTTP/1.1\" 200 5869\n",
      "127.0.0.1 - - [28/May/2024 12:00:03] \"GET /api/studies/35?after=100 HTTP/1.1\" 200 5869\n",
      "127.0.0.1 - - [28/May/2024 12:00:08] \"GET /api/studies/35?after=100 HTTP/1.1\" 200 5869\n",
      "127.0.0.1 - - [28/May/2024 12:00:13] \"GET /api/studies/35?after=100 HTTP/1.1\" 200 5869\n"
     ]
    }
   ],
   "source": [
    "# Create a Dash application\n",
    "app = Dash(__name__)\n",
    "# Define the layout of the app with an iframe to the Optuna dashboard\n",
    "app.layout = html.Div(\n",
    "    [\n",
    "        html.Iframe(\n",
    "            src=\"http://localhost:8080\", style={\"width\": \"100%\", \"height\": \"800px\"}\n",
    "        )\n",
    "    ]\n",
    ")\n",
    "# Function to run the Dash app in the notebook\n",
    "def run_app():\n",
    "    app.run_server(mode=\"notebook\")\n",
    "\n",
    "\n",
    "# Run the app in the notebook\n",
    "run_app()"
   ]
  },
  {
   "cell_type": "markdown",
   "id": "0e4709c2-97b0-4335-9018-304c99cc92b0",
   "metadata": {
    "editable": true,
    "slideshow": {
     "slide_type": "slide"
    },
    "tags": []
   },
   "source": [
    "## Reinforcement learning\n",
    "As additional (ongoing) works, we introduce new domains for specific scheduling problems, more adapted for reinforcement learning solvers to be run on.\n"
   ]
  },
  {
   "cell_type": "code",
   "execution_count": 22,
   "id": "b18df130-030c-4a2a-bd19-514c84033737",
   "metadata": {
    "editable": true,
    "slideshow": {
     "slide_type": "subslide"
    },
    "tags": []
   },
   "outputs": [
    {
     "name": "stderr",
     "output_type": "stream",
     "text": [
      "127.0.0.1 - - [28/May/2024 12:00:18] \"GET /api/studies/35?after=100 HTTP/1.1\" 200 5869\n",
      "127.0.0.1 - - [28/May/2024 12:00:23] \"GET /api/studies/35?after=100 HTTP/1.1\" 200 5869\n",
      "127.0.0.1 - - [28/May/2024 12:00:28] \"GET /api/studies/35?after=100 HTTP/1.1\" 200 5869\n",
      "127.0.0.1 - - [28/May/2024 12:00:33] \"GET /api/studies/35?after=100 HTTP/1.1\" 200 5869\n",
      "127.0.0.1 - - [28/May/2024 12:00:39] \"GET /api/studies/35?after=100 HTTP/1.1\" 200 5869\n",
      "127.0.0.1 - - [28/May/2024 12:00:44] \"GET /api/studies/35?after=100 HTTP/1.1\" 200 5869\n",
      "127.0.0.1 - - [28/May/2024 12:00:49] \"GET /api/studies/35?after=100 HTTP/1.1\" 200 5869\n",
      "127.0.0.1 - - [28/May/2024 12:00:55] \"GET /api/studies/35?after=100 HTTP/1.1\" 200 5869\n",
      "127.0.0.1 - - [28/May/2024 12:01:01] \"GET /api/studies/35?after=100 HTTP/1.1\" 200 5869\n",
      "127.0.0.1 - - [28/May/2024 12:01:07] \"GET /api/studies/35?after=100 HTTP/1.1\" 200 5869\n",
      "127.0.0.1 - - [28/May/2024 12:01:13] \"GET /api/studies/35?after=100 HTTP/1.1\" 200 5869\n",
      "127.0.0.1 - - [28/May/2024 12:01:19] \"GET /api/studies/35?after=100 HTTP/1.1\" 200 5869\n",
      "127.0.0.1 - - [28/May/2024 12:01:25] \"GET /api/studies/35?after=100 HTTP/1.1\" 200 5869\n",
      "127.0.0.1 - - [28/May/2024 12:01:31] \"GET /api/studies/35?after=100 HTTP/1.1\" 200 5869\n",
      "127.0.0.1 - - [28/May/2024 12:01:37] \"GET /api/studies/35?after=100 HTTP/1.1\" 200 5869\n"
     ]
    }
   ],
   "source": [
    "from discrete_optimization.rcpsp.rcpsp_parser import (get_data_available,\n",
    "                                                      parse_file)\n",
    "from rcpsp_domains.rcpsp_sk_domain import (ParamsDomainEncoding, RCPSPModel,\n",
    "                                           RCPSPSGSDomain)\n",
    "\n",
    "file = [f for f in get_data_available() if \"j301_1.sm\" in f][0]\n",
    "model: RCPSPModel = parse_file(file)\n",
    "domain_sk = RCPSPSGSDomain(\n",
    "    model,\n",
    "    params_domain_encoding=ParamsDomainEncoding(\n",
    "        return_times_in_state=True,\n",
    "        return_scheduled_in_state=True,\n",
    "        use_cpm_for_cost=False,\n",
    "        terminate_when_already_schedule=False,\n",
    "        dummy_cost_when_already_schedule=30,\n",
    "        use_additive_makespan_for_cost=True,\n",
    "        nb_min_task_inserted=8,\n",
    "        nb_max_task_inserted=25,\n",
    "        filter_tasks=True,\n",
    "        only_available_tasks=False,\n",
    "    ),\n",
    ")"
   ]
  },
  {
   "cell_type": "code",
   "execution_count": 23,
   "id": "c68d80fb-bbf7-4343-a332-6fbae6b5367d",
   "metadata": {
    "editable": true,
    "slideshow": {
     "slide_type": "skip"
    },
    "tags": []
   },
   "outputs": [
    {
     "name": "stderr",
     "output_type": "stream",
     "text": [
      "127.0.0.1 - - [28/May/2024 12:01:43] \"GET /api/studies/35?after=100 HTTP/1.1\" 200 5869\n"
     ]
    }
   ],
   "source": [
    "# Some utils functions\n",
    "def run_rollout(domain, solver=None, nb_rollout=100):\n",
    "    makespans = []\n",
    "    for i in range(1000):\n",
    "        episodes = rollout(\n",
    "            domain=domain,\n",
    "            solver=solver,\n",
    "            verbose=False,\n",
    "            num_episodes=1,\n",
    "            return_episodes=True,\n",
    "        )\n",
    "        if domain.state[-1, 0]:\n",
    "            solution_rcpsp = RCPSPSolution(\n",
    "                problem=model,\n",
    "                rcpsp_schedule={\n",
    "                    t: {\n",
    "                        \"start_time\": domain.state[domain.task_to_index[t], 1],\n",
    "                        \"end_time\": domain.state[domain.task_to_index[t], 1]\n",
    "                        + domain.dur[domain.task_to_index[t]],\n",
    "                    }\n",
    "                    for t in model.tasks_list\n",
    "                },\n",
    "            )\n",
    "            # print(model.evaluate(solution_rcpsp), model.satisfy(solution_rcpsp))\n",
    "            makespans.append(domain_sk.state[-1, 1])\n",
    "    return makespans\n",
    "\n",
    "\n",
    "def compute_statistics(arr):\n",
    "    if not isinstance(arr, np.ndarray):\n",
    "        raise ValueError(\"Input must be a numpy array\")\n",
    "    statistics = {\n",
    "        \"mean\": np.mean(arr),\n",
    "        \"median\": np.median(arr),\n",
    "        \"min\": np.min(arr),\n",
    "        \"max\": np.max(arr),\n",
    "        \"25th percentile\": np.percentile(arr, 25),\n",
    "        \"50th percentile\": np.percentile(arr, 50),\n",
    "        \"75th percentile\": np.percentile(arr, 75),\n",
    "    }\n",
    "    return statistics"
   ]
  },
  {
   "cell_type": "markdown",
   "id": "7c1ca97a-8e3a-4ad5-aadd-f7e65f91e567",
   "metadata": {
    "editable": true,
    "slideshow": {
     "slide_type": "subslide"
    },
    "tags": []
   },
   "source": [
    "### Random rollouts\n",
    "Let's run random rollout on this domain."
   ]
  },
  {
   "cell_type": "code",
   "execution_count": 24,
   "id": "8c1b61ed-c547-4149-aec9-a2a9e67f00f3",
   "metadata": {
    "editable": true,
    "slideshow": {
     "slide_type": ""
    },
    "tags": []
   },
   "outputs": [
    {
     "name": "stderr",
     "output_type": "stream",
     "text": [
      "127.0.0.1 - - [28/May/2024 12:01:49] \"GET /api/studies/35?after=100 HTTP/1.1\" 200 5869\n",
      "127.0.0.1 - - [28/May/2024 12:01:55] \"GET /api/studies/35?after=100 HTTP/1.1\" 200 5869\n",
      "127.0.0.1 - - [28/May/2024 12:02:01] \"GET /api/studies/35?after=100 HTTP/1.1\" 200 5869\n"
     ]
    }
   ],
   "source": [
    "makespans_random = run_rollout(domain_sk, solver=None, nb_rollout=100)"
   ]
  },
  {
   "cell_type": "code",
   "execution_count": 25,
   "id": "5ddb96a8-491a-45c2-ac5f-fde84846bdd0",
   "metadata": {
    "editable": true,
    "slideshow": {
     "slide_type": ""
    },
    "tags": []
   },
   "outputs": [
    {
     "name": "stdout",
     "output_type": "stream",
     "text": [
      "{'mean': 53.49, 'median': 53.0, 'min': 47, 'max': 64, '25th percentile': 51.0, '50th percentile': 53.0, '75th percentile': 56.0}\n"
     ]
    },
    {
     "data": {
      "text/plain": [
       "<seaborn.axisgrid.FacetGrid at 0x2a911bf70>"
      ]
     },
     "execution_count": 25,
     "metadata": {},
     "output_type": "execute_result"
    },
    {
     "data": {
      "image/png": "[encoded data removed]",
      "text/plain": [
       "<Figure size 500x500 with 1 Axes>"
      ]
     },
     "metadata": {},
     "output_type": "display_data"
    },
    {
     "name": "stderr",
     "output_type": "stream",
     "text": [
      "127.0.0.1 - - [28/May/2024 12:02:07] \"GET /api/studies/35?after=100 HTTP/1.1\" 200 5869\n",
      "127.0.0.1 - - [28/May/2024 12:02:13] \"GET /api/studies/35?after=100 HTTP/1.1\" 200 5869\n",
      "127.0.0.1 - - [28/May/2024 12:02:19] \"GET /api/studies/35?after=100 HTTP/1.1\" 200 5869\n",
      "127.0.0.1 - - [28/May/2024 12:02:25] \"GET /api/studies/35?after=100 HTTP/1.1\" 200 5869\n",
      "127.0.0.1 - - [28/May/2024 12:02:31] \"GET /api/studies/35?after=100 HTTP/1.1\" 200 5869\n"
     ]
    }
   ],
   "source": [
    "stats = compute_statistics(np.array(makespans_random))\n",
    "print(stats)\n",
    "sns.displot(makespans_random, bins=20)"
   ]
  },
  {
   "cell_type": "markdown",
   "id": "fc10f622-6e81-4886-b69a-b15d086d1edf",
   "metadata": {
    "editable": true,
    "slideshow": {
     "slide_type": "slide"
    },
    "tags": []
   },
   "source": [
    "### Few words on RL solvers\n",
    "Certainly! Here are brief descriptions of PPO, A2C, and DQN algorithms:\n",
    "\n",
    "#### Proximal Policy Optimization (PPO)\n",
    "- **Type**: Policy-based method.\n",
    "- **Mechanism**: Utilizes a clipped surrogate objective to update policies, balancing exploration and exploitation.\n",
    "- **Advantages**: \n",
    "  - More stable and reliable training compared to earlier policy gradient methods.\n",
    "  - Suitable for both discrete and continuous action spaces.\n",
    "- **Usage**: Popular in many reinforcement learning applications, including robotics and games.\n",
    "\n",
    "#### Advantage Actor-Critic (A2C)\n",
    "- **Type**: Actor-Critic method.\n",
    "- **Mechanism**: Combines value-based and policy-based methods, using an actor to decide actions and a critic to evaluate them.\n",
    "- **Advantages**: \n",
    "  - Efficient and relatively easy to implement.\n",
    "  - Good balance between bias and variance, leading to more stable learning.\n",
    "- **Usage**: Effective for various control problems and environments with continuous action spaces.\n",
    "\n",
    "#### Deep Q-Network (DQN)\n",
    "- **Type**: Value-based method.\n",
    "- **Mechanism**: Uses deep neural networks to approximate the Q-value function, enabling handling of high-dimensional state spaces.\n",
    "- **Advantages**: \n",
    "  - Demonstrated success in complex environments like Atari games.\n",
    "  - Employs techniques like experience replay and target networks for stable training.\n",
    "- **Usage**: Ideal for problems with discrete action spaces and where the state-action space can be effectively represented with deep learning."
   ]
  },
  {
   "cell_type": "markdown",
   "id": "f8d7b4bb-a350-4aef-8005-4adae2f79ca9",
   "metadata": {
    "editable": true,
    "slideshow": {
     "slide_type": "subslide"
    },
    "tags": []
   },
   "source": [
    "### A2C with stable baselines"
   ]
  },
  {
   "cell_type": "code",
   "execution_count": 26,
   "id": "87d6cd01-89c7-4217-b7ff-6bf41e115e17",
   "metadata": {
    "editable": true,
    "slideshow": {
     "slide_type": "skip"
    },
    "tags": []
   },
   "outputs": [
    {
     "name": "stdout",
     "output_type": "stream",
     "text": [
      "-43.0\n"
     ]
    },
    {
     "name": "stderr",
     "output_type": "stream",
     "text": [
      "127.0.0.1 - - [28/May/2024 12:02:37] \"GET /api/studies/35?after=100 HTTP/1.1\" 200 5869\n",
      "127.0.0.1 - - [28/May/2024 12:02:43] \"GET /api/studies/35?after=100 HTTP/1.1\" 200 5869\n",
      "127.0.0.1 - - [28/May/2024 12:02:49] \"GET /api/studies/35?after=100 HTTP/1.1\" 200 5869\n",
      "127.0.0.1 - - [28/May/2024 12:02:55] \"GET /api/studies/35?after=100 HTTP/1.1\" 200 5869\n"
     ]
    }
   ],
   "source": [
    "import nest_asyncio\n",
    "from discrete_optimization.rcpsp.solver.cp_solvers import (CP_RCPSP_MZN,\n",
    "                                                           ParametersCP)\n",
    "\n",
    "nest_asyncio.apply()\n",
    "solver = CP_RCPSP_MZN(model)\n",
    "p = ParametersCP.default_cpsat()\n",
    "p.time_limit = 2\n",
    "res = solver.solve(parameters_cp=p)\n",
    "sol, fit = res.get_best_solution_fit()\n",
    "print(fit)"
   ]
  },
  {
   "cell_type": "code",
   "execution_count": 27,
   "id": "e6ab96c6-d051-4277-8e0f-f1c5bd5419b1",
   "metadata": {
    "editable": true,
    "slideshow": {
     "slide_type": ""
    },
    "tags": []
   },
   "outputs": [
    {
     "name": "stderr",
     "output_type": "stream",
     "text": [
      "/Users/poveda_g/Library/Caches/pypoetry/virtualenvs/scikit-decide-A3wwHfZU-py3.10/lib/python3.10/site-packages/gymnasium/wrappers/compatibility.py:67: DeprecationWarning:\n",
      "\n",
      "\u001b[33mWARN: The `gymnasium.make(..., apply_api_compatibility=...)` parameter is deprecated and will be removed in v0.29. Instead use `gym.make('GymV21Environment-v0', env_name=...)` or `from shimmy import GymV21CompatibilityV0`\u001b[0m\n",
      "\n",
      "/Users/poveda_g/Library/Caches/pypoetry/virtualenvs/scikit-decide-A3wwHfZU-py3.10/lib/python3.10/site-packages/stable_baselines3/common/policies.py:486: UserWarning:\n",
      "\n",
      "As shared layers in the mlp_extractor are removed since SB3 v1.8.0, you should now pass directly a dictionary and not a list (net_arch=dict(pi=..., vf=...) instead of net_arch=[dict(pi=..., vf=...)])\n",
      "\n",
      "127.0.0.1 - - [28/May/2024 12:03:01] \"GET /api/studies/35?after=100 HTTP/1.1\" 200 5869\n",
      "127.0.0.1 - - [28/May/2024 12:03:07] \"GET /api/studies/35?after=100 HTTP/1.1\" 200 5869\n",
      "127.0.0.1 - - [28/May/2024 12:03:13] \"GET /api/studies/35?after=100 HTTP/1.1\" 200 5869\n",
      "127.0.0.1 - - [28/May/2024 12:03:19] \"GET /api/studies/35?after=100 HTTP/1.1\" 200 5869\n",
      "127.0.0.1 - - [28/May/2024 12:03:25] \"GET /api/studies/35?after=100 HTTP/1.1\" 200 5869\n",
      "127.0.0.1 - - [28/May/2024 12:03:31] \"GET /api/studies/35?after=100 HTTP/1.1\" 200 5869\n",
      "127.0.0.1 - - [28/May/2024 12:03:37] \"GET /api/studies/35?after=100 HTTP/1.1\" 200 5869\n",
      "127.0.0.1 - - [28/May/2024 12:03:43] \"GET /api/studies/35?after=100 HTTP/1.1\" 200 5869\n",
      "127.0.0.1 - - [28/May/2024 12:03:49] \"GET /api/studies/35?after=100 HTTP/1.1\" 200 5869\n",
      "127.0.0.1 - - [28/May/2024 12:03:55] \"GET /api/studies/35?after=100 HTTP/1.1\" 200 5869\n",
      "127.0.0.1 - - [28/May/2024 12:04:01] \"GET /api/studies/35?after=100 HTTP/1.1\" 200 5869\n",
      "127.0.0.1 - - [28/May/2024 12:04:07] \"GET /api/studies/35?after=100 HTTP/1.1\" 200 5869\n",
      "127.0.0.1 - - [28/May/2024 12:04:13] \"GET /api/studies/35?after=100 HTTP/1.1\" 200 5869\n"
     ]
    }
   ],
   "source": [
    "from rcpsp_domains.rcpsp_sk_domain import RCPSPSGSDomain, records\n",
    "\n",
    "records.clear()\n",
    "domain_sk = RCPSPSGSDomain(\n",
    "    model,\n",
    "    params_domain_encoding=ParamsDomainEncoding(\n",
    "        return_times_in_state=True,\n",
    "        return_scheduled_in_state=True,\n",
    "        use_cpm_for_cost=True,\n",
    "        terminate_when_already_schedule=False,\n",
    "        dummy_cost_when_already_schedule=1,\n",
    "        use_additive_makespan_for_cost=False,\n",
    "        nb_min_task_inserted=1,\n",
    "        nb_max_task_inserted=None,\n",
    "        filter_tasks=False,\n",
    "        only_available_tasks=False,\n",
    "    ),\n",
    ")\n",
    "from stable_baselines3 import A2C, DQN, PPO\n",
    "\n",
    "solver_args = {\n",
    "    \"baselines_policy\": \"MlpPolicy\",\n",
    "    \"learn_config\": {\"total_timesteps\": 100000},\n",
    "    \"verbose\": 0,\n",
    "    \"n_steps\": 300,\n",
    "    # \"batch_size\": 100\n",
    "}\n",
    "solver_args.update(\n",
    "    {\n",
    "        \"policy_kwargs\": dict(\n",
    "            net_arch=[dict(pi=[256, 256, 128, 128], vf=[256, 256, 128, 128])]\n",
    "        )\n",
    "    }\n",
    ")\n",
    "solver_args[\"algo_class\"] = A2C\n",
    "solver = StableBaseline(domain_factory=lambda: domain_sk, **solver_args)\n",
    "# Start solving\n",
    "solver.solve()\n",
    "makespans_a2c = run_rollout(domain_sk, solver=solver, nb_rollout=100)"
   ]
  },
  {
   "cell_type": "code",
   "execution_count": 28,
   "id": "8a503c4e-16c1-44a6-a572-ae1d45579322",
   "metadata": {
    "editable": true,
    "slideshow": {
     "slide_type": "subslide"
    },
    "tags": []
   },
   "outputs": [
    {
     "name": "stdout",
     "output_type": "stream",
     "text": [
      "{'mean': 43.002, 'median': 43.0, 'min': 43, 'max': 45, '25th percentile': 43.0, '50th percentile': 43.0, '75th percentile': 43.0}\n"
     ]
    },
    {
     "data": {
      "image/png": "[encoded data removed]",
      "text/plain": [
       "<Figure size 640x480 with 1 Axes>"
      ]
     },
     "metadata": {},
     "output_type": "display_data"
    },
    {
     "data": {
      "image/png": "[encoded data removed]",
      "text/plain": [
       "<Figure size 500x500 with 1 Axes>"
      ]
     },
     "metadata": {},
     "output_type": "display_data"
    },
    {
     "name": "stderr",
     "output_type": "stream",
     "text": [
      "127.0.0.1 - - [28/May/2024 12:04:19] \"GET /api/studies/35?after=100 HTTP/1.1\" 200 5869\n",
      "127.0.0.1 - - [28/May/2024 12:04:25] \"GET /api/studies/35?after=100 HTTP/1.1\" 200 5869\n",
      "127.0.0.1 - - [28/May/2024 12:04:31] \"GET /api/studies/35?after=100 HTTP/1.1\" 200 5869\n",
      "127.0.0.1 - - [28/May/2024 12:04:37] \"GET /api/studies/35?after=100 HTTP/1.1\" 200 5869\n",
      "127.0.0.1 - - [28/May/2024 12:04:43] \"GET /api/studies/35?after=100 HTTP/1.1\" 200 5869\n",
      "127.0.0.1 - - [28/May/2024 12:04:49] \"GET /api/studies/35?after=100 HTTP/1.1\" 200 5869\n",
      "127.0.0.1 - - [28/May/2024 12:04:55] \"GET /api/studies/35?after=100 HTTP/1.1\" 200 5869\n",
      "127.0.0.1 - - [28/May/2024 12:05:01] \"GET /api/studies/35?after=100 HTTP/1.1\" 200 5869\n",
      "127.0.0.1 - - [28/May/2024 12:05:07] \"GET /api/studies/35?after=100 HTTP/1.1\" 200 5869\n",
      "127.0.0.1 - - [28/May/2024 12:05:13] \"GET /api/studies/35?after=100 HTTP/1.1\" 200 5869\n",
      "127.0.0.1 - - [28/May/2024 12:05:19] \"GET /api/studies/35?after=100 HTTP/1.1\" 200 5869\n",
      "127.0.0.1 - - [28/May/2024 12:05:25] \"GET /api/studies/35?after=100 HTTP/1.1\" 200 5869\n",
      "127.0.0.1 - - [28/May/2024 12:05:31] \"GET /api/studies/35?after=100 HTTP/1.1\" 200 5869\n",
      "127.0.0.1 - - [28/May/2024 12:05:37] \"GET /api/studies/35?after=100 HTTP/1.1\" 200 5869\n",
      "127.0.0.1 - - [28/May/2024 12:05:43] \"GET /api/studies/35?after=100 HTTP/1.1\" 200 5869\n",
      "127.0.0.1 - - [28/May/2024 12:05:49] \"GET /api/studies/35?after=100 HTTP/1.1\" 200 5869\n",
      "127.0.0.1 - - [28/May/2024 12:05:55] \"GET /api/studies/35?after=100 HTTP/1.1\" 200 5869\n",
      "127.0.0.1 - - [28/May/2024 12:06:01] \"GET /api/studies/35?after=100 HTTP/1.1\" 200 5869\n",
      "127.0.0.1 - - [28/May/2024 12:06:07] \"GET /api/studies/35?after=100 HTTP/1.1\" 200 5869\n",
      "127.0.0.1 - - [28/May/2024 12:06:13] \"GET /api/studies/35?after=100 HTTP/1.1\" 200 5869\n",
      "127.0.0.1 - - [28/May/2024 12:06:19] \"GET /api/studies/35?after=100 HTTP/1.1\" 200 5869\n",
      "127.0.0.1 - - [28/May/2024 12:06:25] \"GET /api/studies/35?after=100 HTTP/1.1\" 200 5869\n",
      "127.0.0.1 - - [28/May/2024 12:06:31] \"GET /api/studies/35?after=100 HTTP/1.1\" 200 5869\n",
      "127.0.0.1 - - [28/May/2024 12:06:37] \"GET /api/studies/35?after=100 HTTP/1.1\" 200 5869\n",
      "127.0.0.1 - - [28/May/2024 12:06:43] \"GET /api/studies/35?after=100 HTTP/1.1\" 200 5869\n",
      "127.0.0.1 - - [28/May/2024 12:06:49] \"GET /api/studies/35?after=100 HTTP/1.1\" 200 5869\n",
      "127.0.0.1 - - [28/May/2024 12:06:55] \"GET /api/studies/35?after=100 HTTP/1.1\" 200 5869\n",
      "127.0.0.1 - - [28/May/2024 12:07:01] \"GET /api/studies/35?after=100 HTTP/1.1\" 200 5869\n",
      "127.0.0.1 - - [28/May/2024 12:07:07] \"GET /api/studies/35?after=100 HTTP/1.1\" 200 5869\n",
      "127.0.0.1 - - [28/May/2024 12:07:13] \"GET /api/studies/35?after=100 HTTP/1.1\" 200 5869\n",
      "127.0.0.1 - - [28/May/2024 12:07:19] \"GET /api/studies/35?after=100 HTTP/1.1\" 200 5869\n",
      "127.0.0.1 - - [28/May/2024 12:07:25] \"GET /api/studies/35?after=100 HTTP/1.1\" 200 5869\n",
      "127.0.0.1 - - [28/May/2024 12:07:31] \"GET /api/studies/35?after=100 HTTP/1.1\" 200 5869\n",
      "127.0.0.1 - - [28/May/2024 12:07:37] \"GET /api/studies/35?after=100 HTTP/1.1\" 200 5869\n",
      "127.0.0.1 - - [28/May/2024 12:07:43] \"GET /api/studies/35?after=100 HTTP/1.1\" 200 5869\n",
      "127.0.0.1 - - [28/May/2024 12:07:49] \"GET /api/studies/35?after=100 HTTP/1.1\" 200 5869\n",
      "127.0.0.1 - - [28/May/2024 12:07:55] \"GET /api/studies/35?after=100 HTTP/1.1\" 200 5869\n",
      "127.0.0.1 - - [28/May/2024 12:08:01] \"GET /api/studies/35?after=100 HTTP/1.1\" 200 5869\n",
      "127.0.0.1 - - [28/May/2024 12:08:07] \"GET /api/studies/35?after=100 HTTP/1.1\" 200 5869\n",
      "127.0.0.1 - - [28/May/2024 12:08:13] \"GET /api/studies/35?after=100 HTTP/1.1\" 200 5869\n",
      "127.0.0.1 - - [28/May/2024 12:08:19] \"GET /api/studies/35?after=100 HTTP/1.1\" 200 5869\n",
      "127.0.0.1 - - [28/May/2024 12:08:25] \"GET /api/studies/35?after=100 HTTP/1.1\" 200 5869\n",
      "127.0.0.1 - - [28/May/2024 12:08:31] \"GET /api/studies/35?after=100 HTTP/1.1\" 200 5869\n",
      "127.0.0.1 - - [28/May/2024 12:08:37] \"GET /api/studies/35?after=100 HTTP/1.1\" 200 5869\n",
      "127.0.0.1 - - [28/May/2024 12:08:43] \"GET /api/studies/35?after=100 HTTP/1.1\" 200 5869\n",
      "127.0.0.1 - - [28/May/2024 12:08:49] \"GET /api/studies/35?after=100 HTTP/1.1\" 200 5869\n",
      "127.0.0.1 - - [28/May/2024 12:08:55] \"GET /api/studies/35?after=100 HTTP/1.1\" 200 5869\n",
      "127.0.0.1 - - [28/May/2024 12:09:01] \"GET /api/studies/35?after=100 HTTP/1.1\" 200 5869\n",
      "127.0.0.1 - - [28/May/2024 12:09:07] \"GET /api/studies/35?after=100 HTTP/1.1\" 200 5869\n",
      "127.0.0.1 - - [28/May/2024 12:09:13] \"GET /api/studies/35?after=100 HTTP/1.1\" 200 5869\n",
      "127.0.0.1 - - [28/May/2024 12:09:19] \"GET /api/studies/35?after=100 HTTP/1.1\" 200 5869\n",
      "127.0.0.1 - - [28/May/2024 12:09:25] \"GET /api/studies/35?after=100 HTTP/1.1\" 200 5869\n",
      "127.0.0.1 - - [28/May/2024 12:09:31] \"GET /api/studies/35?after=100 HTTP/1.1\" 200 5869\n",
      "127.0.0.1 - - [28/May/2024 12:09:37] \"GET /api/studies/35?after=100 HTTP/1.1\" 200 5869\n",
      "127.0.0.1 - - [28/May/2024 12:09:43] \"GET /api/studies/35?after=100 HTTP/1.1\" 200 5869\n",
      "127.0.0.1 - - [28/May/2024 12:09:49] \"GET /api/studies/35?after=100 HTTP/1.1\" 200 5869\n",
      "127.0.0.1 - - [28/May/2024 12:09:55] \"GET /api/studies/35?after=100 HTTP/1.1\" 200 5869\n",
      "127.0.0.1 - - [28/May/2024 12:10:01] \"GET /api/studies/35?after=100 HTTP/1.1\" 200 5869\n",
      "127.0.0.1 - - [28/May/2024 12:10:07] \"GET /api/studies/35?after=100 HTTP/1.1\" 200 5869\n",
      "127.0.0.1 - - [28/May/2024 12:10:13] \"GET /api/studies/35?after=100 HTTP/1.1\" 200 5869\n",
      "127.0.0.1 - - [28/May/2024 12:10:19] \"GET /api/studies/35?after=100 HTTP/1.1\" 200 5869\n",
      "127.0.0.1 - - [28/May/2024 12:10:25] \"GET /api/studies/35?after=100 HTTP/1.1\" 200 5869\n",
      "127.0.0.1 - - [28/May/2024 12:10:31] \"GET /api/studies/35?after=100 HTTP/1.1\" 200 5869\n",
      "127.0.0.1 - - [28/May/2024 12:10:37] \"GET /api/studies/35?after=100 HTTP/1.1\" 200 5869\n",
      "127.0.0.1 - - [28/May/2024 12:10:43] \"GET /api/studies/35?after=100 HTTP/1.1\" 200 5869\n",
      "127.0.0.1 - - [28/May/2024 12:10:49] \"GET /api/studies/35?after=100 HTTP/1.1\" 200 5869\n",
      "127.0.0.1 - - [28/May/2024 12:10:55] \"GET /api/studies/35?after=100 HTTP/1.1\" 200 5869\n",
      "127.0.0.1 - - [28/May/2024 12:11:01] \"GET /api/studies/35?after=100 HTTP/1.1\" 200 5869\n"
     ]
    }
   ],
   "source": [
    "fig, ax = plt.subplots(1)\n",
    "records_a2c = np.array(records)\n",
    "ax.plot(np.convolve(records_a2c, np.ones(30) / 30, mode=\"valid\"))\n",
    "ax.set_title(\"quality of rollout through time, A2C\")\n",
    "sns.displot(makespans_a2c, bins=20)\n",
    "print(compute_statistics(np.array(makespans_a2c)))\n",
    "plt.show()"
   ]
  },
  {
   "cell_type": "markdown",
   "id": "8d069992-be3b-4277-8d06-a3b152b2b881",
   "metadata": {
    "editable": true,
    "slideshow": {
     "slide_type": "slide"
    },
    "tags": []
   },
   "source": [
    "### DQN with stable baselines"
   ]
  },
  {
   "cell_type": "code",
   "execution_count": 29,
   "id": "cc4e8ddd-e756-46f7-8b19-7d2a9e29610b",
   "metadata": {
    "editable": true,
    "slideshow": {
     "slide_type": ""
    },
    "tags": []
   },
   "outputs": [
    {
     "name": "stderr",
     "output_type": "stream",
     "text": [
      "/Users/poveda_g/Library/Caches/pypoetry/virtualenvs/scikit-decide-A3wwHfZU-py3.10/lib/python3.10/site-packages/gymnasium/wrappers/compatibility.py:67: DeprecationWarning:\n",
      "\n",
      "\u001b[33mWARN: The `gymnasium.make(..., apply_api_compatibility=...)` parameter is deprecated and will be removed in v0.29. Instead use `gym.make('GymV21Environment-v0', env_name=...)` or `from shimmy import GymV21CompatibilityV0`\u001b[0m\n",
      "\n",
      "127.0.0.1 - - [28/May/2024 12:11:07] \"GET /api/studies/35?after=100 HTTP/1.1\" 200 5869\n",
      "127.0.0.1 - - [28/May/2024 12:11:13] \"GET /api/studies/35?after=100 HTTP/1.1\" 200 5869\n",
      "127.0.0.1 - - [28/May/2024 12:11:19] \"GET /api/studies/35?after=100 HTTP/1.1\" 200 5869\n",
      "127.0.0.1 - - [28/May/2024 12:11:25] \"GET /api/studies/35?after=100 HTTP/1.1\" 200 5869\n",
      "127.0.0.1 - - [28/May/2024 12:11:31] \"GET /api/studies/35?after=100 HTTP/1.1\" 200 5869\n",
      "127.0.0.1 - - [28/May/2024 12:11:37] \"GET /api/studies/35?after=100 HTTP/1.1\" 200 5869\n",
      "127.0.0.1 - - [28/May/2024 12:11:43] \"GET /api/studies/35?after=100 HTTP/1.1\" 200 5869\n",
      "127.0.0.1 - - [28/May/2024 12:11:49] \"GET /api/studies/35?after=100 HTTP/1.1\" 200 5869\n",
      "127.0.0.1 - - [28/May/2024 12:11:55] \"GET /api/studies/35?after=100 HTTP/1.1\" 200 5869\n",
      "127.0.0.1 - - [28/May/2024 12:12:01] \"GET /api/studies/35?after=100 HTTP/1.1\" 200 5869\n",
      "127.0.0.1 - - [28/May/2024 12:12:07] \"GET /api/studies/35?after=100 HTTP/1.1\" 200 5869\n",
      "127.0.0.1 - - [28/May/2024 12:12:13] \"GET /api/studies/35?after=100 HTTP/1.1\" 200 5869\n",
      "127.0.0.1 - - [28/May/2024 12:12:19] \"GET /api/studies/35?after=100 HTTP/1.1\" 200 5869\n",
      "127.0.0.1 - - [28/May/2024 12:12:25] \"GET /api/studies/35?after=100 HTTP/1.1\" 200 5869\n",
      "127.0.0.1 - - [28/May/2024 12:12:31] \"GET /api/studies/35?after=100 HTTP/1.1\" 200 5869\n",
      "127.0.0.1 - - [28/May/2024 12:12:37] \"GET /api/studies/35?after=100 HTTP/1.1\" 200 5869\n",
      "127.0.0.1 - - [28/May/2024 12:12:43] \"GET /api/studies/35?after=100 HTTP/1.1\" 200 5869\n"
     ]
    }
   ],
   "source": [
    "from rcpsp_domains.rcpsp_sk_domain import RCPSPSGSDomain, records\n",
    "\n",
    "records.clear()\n",
    "domain_sk = RCPSPSGSDomain(\n",
    "    model,\n",
    "    params_domain_encoding=ParamsDomainEncoding(\n",
    "        return_times_in_state=True,\n",
    "        return_scheduled_in_state=True,\n",
    "        use_cpm_for_cost=True,\n",
    "        terminate_when_already_schedule=False,\n",
    "        dummy_cost_when_already_schedule=1,\n",
    "        use_additive_makespan_for_cost=False,\n",
    "        nb_min_task_inserted=1,\n",
    "        nb_max_task_inserted=None,\n",
    "        filter_tasks=False,\n",
    "        only_available_tasks=False,\n",
    "    ),\n",
    ")\n",
    "from stable_baselines3 import A2C, DQN, PPO\n",
    "\n",
    "solver_args = {\n",
    "    \"baselines_policy\": \"MlpPolicy\",\n",
    "    \"learn_config\": {\"total_timesteps\": 100000},\n",
    "    \"verbose\": 0,\n",
    "}\n",
    "solver_args[\"algo_class\"] = DQN\n",
    "solver = StableBaseline(domain_factory=lambda: domain_sk, **solver_args)\n",
    "# Start solving\n",
    "solver.solve()\n",
    "makespans_dqn = run_rollout(domain_sk, solver=solver, nb_rollout=100)"
   ]
  },
  {
   "cell_type": "code",
   "execution_count": 30,
   "id": "2fc947ca-c2c2-4e86-8bed-b8a9d68712b2",
   "metadata": {
    "editable": true,
    "slideshow": {
     "slide_type": "subslide"
    },
    "tags": []
   },
   "outputs": [
    {
     "name": "stdout",
     "output_type": "stream",
     "text": [
      "{'mean': 55.201, 'median': 58.0, 'min': 43, 'max': 64, '25th percentile': 51.0, '50th percentile': 58.0, '75th percentile': 58.0}\n"
     ]
    },
    {
     "data": {
      "image/png": "[encoded data removed]",
      "text/plain": [
       "<Figure size 640x480 with 1 Axes>"
      ]
     },
     "metadata": {},
     "output_type": "display_data"
    },
    {
     "data": {
      "image/png": "[encoded data removed]",
      "text/plain": [
       "<Figure size 500x500 with 1 Axes>"
      ]
     },
     "metadata": {},
     "output_type": "display_data"
    },
    {
     "name": "stderr",
     "output_type": "stream",
     "text": [
      "127.0.0.1 - - [28/May/2024 12:12:49] \"GET /api/studies/35?after=100 HTTP/1.1\" 200 5869\n",
      "127.0.0.1 - - [28/May/2024 12:12:55] \"GET /api/studies/35?after=100 HTTP/1.1\" 200 5869\n",
      "127.0.0.1 - - [28/May/2024 12:13:01] \"GET /api/studies/35?after=100 HTTP/1.1\" 200 5869\n",
      "127.0.0.1 - - [28/May/2024 12:13:07] \"GET /api/studies/35?after=100 HTTP/1.1\" 200 5869\n"
     ]
    }
   ],
   "source": [
    "fig, ax = plt.subplots(1)\n",
    "records_dqn = np.array(records)\n",
    "ax.plot(np.convolve(records_dqn, np.ones(30) / 30, mode=\"valid\"))\n",
    "ax.set_title(\"quality of rollout through time, DQN\")\n",
    "sns.displot(makespans_dqn, bins=20)\n",
    "print(compute_statistics(np.array(makespans_dqn)))\n",
    "plt.show()"
   ]
  },
  {
   "cell_type": "markdown",
   "id": "e4a7961f-3482-46e1-a600-4d522ddfdea3",
   "metadata": {
    "editable": true,
    "slideshow": {
     "slide_type": "slide"
    },
    "tags": []
   },
   "source": [
    "### PPO with stable baselines"
   ]
  },
  {
   "cell_type": "code",
   "execution_count": null,
   "id": "d12014c1-7174-4735-b405-3aa85922767d",
   "metadata": {
    "editable": true,
    "slideshow": {
     "slide_type": ""
    },
    "tags": []
   },
   "outputs": [],
   "source": [
    "from rcpsp_domains.rcpsp_sk_domain import RCPSPSGSDomain, records\n",
    "from skdecide.hub.solver.ray_rllib import RayRLlib\n",
    "from skdecide.hub.solver.stable_baselines import StableBaseline\n",
    "\n",
    "records.clear()\n",
    "domain_sk = RCPSPSGSDomain(\n",
    "    model,\n",
    "    params_domain_encoding=ParamsDomainEncoding(\n",
    "        return_times_in_state=True,\n",
    "        return_scheduled_in_state=True,\n",
    "        use_cpm_for_cost=True,\n",
    "        terminate_when_already_schedule=False,\n",
    "        dummy_cost_when_already_schedule=1,\n",
    "        use_additive_makespan_for_cost=False,\n",
    "        nb_min_task_inserted=1,\n",
    "        nb_max_task_inserted=None,\n",
    "        filter_tasks=False,\n",
    "        only_available_tasks=False,\n",
    "    ),\n",
    ")\n",
    "from stable_baselines3 import A2C, DQN, PPO\n",
    "\n",
    "solver_args = {\n",
    "    \"baselines_policy\": \"MlpPolicy\",\n",
    "    \"learn_config\": {\"total_timesteps\": 100000},\n",
    "    \"verbose\": 0,\n",
    "    \"learning_rate\": 0.0001,\n",
    "    \"n_steps\": 300,\n",
    "    # \"batch_size\": 100\n",
    "}\n",
    "solver_args.update(\n",
    "    {\n",
    "        \"policy_kwargs\": dict(\n",
    "            net_arch=[dict(pi=[256, 256, 128, 128], vf=[256, 256, 128, 128])]\n",
    "        )\n",
    "    }\n",
    ")\n",
    "solver_args[\"algo_class\"] = PPO\n",
    "solver = StableBaseline(domain_factory=lambda: domain_sk, **solver_args)\n",
    "# Start solving\n",
    "solver.solve()\n",
    "print(\"Solve finished : \")\n",
    "makespans_ppo = run_rollout(domain_sk, solver=solver, nb_rollout=100)"
   ]
  },
  {
   "cell_type": "code",
   "execution_count": null,
   "id": "60ecc623-4a35-4072-91e5-068e040ce03a",
   "metadata": {
    "editable": true,
    "slideshow": {
     "slide_type": "subslide"
    },
    "tags": []
   },
   "outputs": [],
   "source": [
    "fig, ax = plt.subplots(1)\n",
    "records_ppo = np.array(records)\n",
    "ax.plot(np.convolve(records_ppo, np.ones(30) / 30, mode=\"valid\"))\n",
    "ax.set_title(\"quality of rollout through time, PPO\")\n",
    "print(compute_statistics(np.array(makespans_ppo)))\n",
    "plt.show()"
   ]
  },
  {
   "cell_type": "markdown",
   "id": "f96b1c35-7350-42b7-a790-6574a29677fc",
   "metadata": {
    "editable": true,
    "slideshow": {
     "slide_type": ""
    },
    "tags": []
   },
   "source": [
    "### DQN With RLLIB"
   ]
  },
  {
   "cell_type": "code",
   "execution_count": 31,
   "id": "2438f20f-085b-45cb-9ba0-60777eb019fe",
   "metadata": {
    "editable": true,
    "slideshow": {
     "slide_type": ""
    },
    "tags": []
   },
   "outputs": [
    {
     "name": "stderr",
     "output_type": "stream",
     "text": [
      "2024-05-28 12:13:12,637\tINFO worker.py:1749 -- Started a local Ray instance.\n",
      "/Users/poveda_g/Library/Caches/pypoetry/virtualenvs/scikit-decide-A3wwHfZU-py3.10/lib/python3.10/site-packages/ray/rllib/algorithms/algorithm.py:525: RayDeprecationWarning:\n",
      "\n",
      "This API is deprecated and may be removed in future Ray releases. You could suppress this warning by setting env variable PYTHONWARNINGS=\"ignore::DeprecationWarning\"\n",
      "`UnifiedLogger` will be removed in Ray 2.7.\n",
      "\n",
      "/Users/poveda_g/Library/Caches/pypoetry/virtualenvs/scikit-decide-A3wwHfZU-py3.10/lib/python3.10/site-packages/ray/tune/logger/unified.py:53: RayDeprecationWarning:\n",
      "\n",
      "This API is deprecated and may be removed in future Ray releases. You could suppress this warning by setting env variable PYTHONWARNINGS=\"ignore::DeprecationWarning\"\n",
      "The `JsonLogger interface is deprecated in favor of the `ray.tune.json.JsonLoggerCallback` interface and will be removed in Ray 2.7.\n",
      "\n",
      "/Users/poveda_g/Library/Caches/pypoetry/virtualenvs/scikit-decide-A3wwHfZU-py3.10/lib/python3.10/site-packages/ray/tune/logger/unified.py:53: RayDeprecationWarning:\n",
      "\n",
      "This API is deprecated and may be removed in future Ray releases. You could suppress this warning by setting env variable PYTHONWARNINGS=\"ignore::DeprecationWarning\"\n",
      "The `CSVLogger interface is deprecated in favor of the `ray.tune.csv.CSVLoggerCallback` interface and will be removed in Ray 2.7.\n",
      "\n",
      "/Users/poveda_g/Library/Caches/pypoetry/virtualenvs/scikit-decide-A3wwHfZU-py3.10/lib/python3.10/site-packages/ray/tune/logger/unified.py:53: RayDeprecationWarning:\n",
      "\n",
      "This API is deprecated and may be removed in future Ray releases. You could suppress this warning by setting env variable PYTHONWARNINGS=\"ignore::DeprecationWarning\"\n",
      "The `TBXLogger interface is deprecated in favor of the `ray.tune.tensorboardx.TBXLoggerCallback` interface and will be removed in Ray 2.7.\n",
      "\n",
      "2024-05-28 12:13:13,524\tWARNING deprecation.py:50 -- DeprecationWarning: `max_num_worker_restarts` has been deprecated. Use `AlgorithmConfig.max_num_env_runner_restarts` instead. This will raise an error in the future!\n",
      "2024-05-28 12:13:13,537\tWARNING catalog.py:740 -- Custom ModelV2 should accept all custom options as **kwargs, instead of expecting them in config['custom_model_config']!\n",
      "2024-05-28 12:13:13,540\tWARNING catalog.py:740 -- Custom ModelV2 should accept all custom options as **kwargs, instead of expecting them in config['custom_model_config']!\n",
      "2024-05-28 12:13:13,554\tWARNING util.py:61 -- Install gputil for GPU system monitoring.\n",
      "2024-05-28 12:13:13,559\tWARNING deprecation.py:50 -- DeprecationWarning: `num_envs_per_worker` has been deprecated. Use `AlgorithmConfig.num_envs_per_env_runner` instead. This will raise an error in the future!\n",
      "127.0.0.1 - - [28/May/2024 12:13:13] \"GET /api/studies/35?after=100 HTTP/1.1\" 200 5869\n",
      "2024-05-28 12:13:14,742\tWARNING deprecation.py:50 -- DeprecationWarning: `ray.rllib.execution.train_ops.multi_gpu_train_one_step` has been deprecated. This will raise an error in the future!\n",
      "127.0.0.1 - - [28/May/2024 12:13:19] \"GET /api/studies/35?after=100 HTTP/1.1\" 200 5869\n",
      "127.0.0.1 - - [28/May/2024 12:13:25] \"GET /api/studies/35?after=100 HTTP/1.1\" 200 5869\n",
      "127.0.0.1 - - [28/May/2024 12:13:31] \"GET /api/studies/35?after=100 HTTP/1.1\" 200 5869\n",
      "127.0.0.1 - - [28/May/2024 12:13:37] \"GET /api/studies/35?after=100 HTTP/1.1\" 200 5869\n",
      "127.0.0.1 - - [28/May/2024 12:13:43] \"GET /api/studies/35?after=100 HTTP/1.1\" 200 5869\n",
      "127.0.0.1 - - [28/May/2024 12:13:49] \"GET /api/studies/35?after=100 HTTP/1.1\" 200 5869\n",
      "127.0.0.1 - - [28/May/2024 12:13:55] \"GET /api/studies/35?after=100 HTTP/1.1\" 200 5869\n",
      "127.0.0.1 - - [28/May/2024 12:14:01] \"GET /api/studies/35?after=100 HTTP/1.1\" 200 5869\n",
      "127.0.0.1 - - [28/May/2024 12:14:07] \"GET /api/studies/35?after=100 HTTP/1.1\" 200 5869\n",
      "127.0.0.1 - - [28/May/2024 12:14:13] \"GET /api/studies/35?after=100 HTTP/1.1\" 200 5869\n",
      "127.0.0.1 - - [28/May/2024 12:14:19] \"GET /api/studies/35?after=100 HTTP/1.1\" 200 5869\n",
      "127.0.0.1 - - [28/May/2024 12:14:25] \"GET /api/studies/35?after=100 HTTP/1.1\" 200 5869\n",
      "127.0.0.1 - - [28/May/2024 12:14:31] \"GET /api/studies/35?after=100 HTTP/1.1\" 200 5869\n",
      "127.0.0.1 - - [28/May/2024 12:14:37] \"GET /api/studies/35?after=100 HTTP/1.1\" 200 5869\n",
      "127.0.0.1 - - [28/May/2024 12:14:43] \"GET /api/studies/35?after=100 HTTP/1.1\" 200 5869\n",
      "127.0.0.1 - - [28/May/2024 12:14:49] \"GET /api/studies/35?after=100 HTTP/1.1\" 200 5869\n",
      "127.0.0.1 - - [28/May/2024 12:14:55] \"GET /api/studies/35?after=100 HTTP/1.1\" 200 5869\n",
      "127.0.0.1 - - [28/May/2024 12:15:01] \"GET /api/studies/35?after=100 HTTP/1.1\" 200 5869\n",
      "127.0.0.1 - - [28/May/2024 12:15:07] \"GET /api/studies/35?after=100 HTTP/1.1\" 200 5869\n",
      "127.0.0.1 - - [28/May/2024 12:15:13] \"GET /api/studies/35?after=100 HTTP/1.1\" 200 5869\n",
      "127.0.0.1 - - [28/May/2024 12:15:19] \"GET /api/studies/35?after=100 HTTP/1.1\" 200 5869\n",
      "127.0.0.1 - - [28/May/2024 12:15:25] \"GET /api/studies/35?after=100 HTTP/1.1\" 200 5869\n",
      "127.0.0.1 - - [28/May/2024 12:15:31] \"GET /api/studies/35?after=100 HTTP/1.1\" 200 5869\n",
      "127.0.0.1 - - [28/May/2024 12:15:37] \"GET /api/studies/35?after=100 HTTP/1.1\" 200 5869\n",
      "127.0.0.1 - - [28/May/2024 12:15:43] \"GET /api/studies/35?after=100 HTTP/1.1\" 200 5869\n",
      "127.0.0.1 - - [28/May/2024 12:15:49] \"GET /api/studies/35?after=100 HTTP/1.1\" 200 5869\n",
      "127.0.0.1 - - [28/May/2024 12:15:55] \"GET /api/studies/35?after=100 HTTP/1.1\" 200 5869\n",
      "127.0.0.1 - - [28/May/2024 12:16:01] \"GET /api/studies/35?after=100 HTTP/1.1\" 200 5869\n",
      "127.0.0.1 - - [28/May/2024 12:16:07] \"GET /api/studies/35?after=100 HTTP/1.1\" 200 5869\n",
      "127.0.0.1 - - [28/May/2024 12:16:13] \"GET /api/studies/35?after=100 HTTP/1.1\" 200 5869\n",
      "127.0.0.1 - - [28/May/2024 12:16:19] \"GET /api/studies/35?after=100 HTTP/1.1\" 200 5869\n",
      "127.0.0.1 - - [28/May/2024 12:16:25] \"GET /api/studies/35?after=100 HTTP/1.1\" 200 5869\n",
      "127.0.0.1 - - [28/May/2024 12:16:31] \"GET /api/studies/35?after=100 HTTP/1.1\" 200 5869\n",
      "127.0.0.1 - - [28/May/2024 12:16:37] \"GET /api/studies/35?after=100 HTTP/1.1\" 200 5869\n",
      "127.0.0.1 - - [28/May/2024 12:16:43] \"GET /api/studies/35?after=100 HTTP/1.1\" 200 5869\n"
     ]
    }
   ],
   "source": [
    "from ray.rllib.algorithms.dqn import DQN\n",
    "from ray.rllib.algorithms.ppo import PPO\n",
    "from rcpsp_domains.rcpsp_sk_domain import RCPSPSGSDomain, records\n",
    "\n",
    "records.clear()\n",
    "from skdecide.hub.solver.ray_rllib import RayRLlib\n",
    "\n",
    "ac = DQN.get_default_config()\n",
    "ac.lr = 1e-4\n",
    "# ac.framework(\"torch\")\n",
    "# ac.num_env_runners = 8\n",
    "# ac.num_workers = 1\n",
    "# ac.num_env_runners = 1\n",
    "# ac.sgd_minibatch_size = 16\n",
    "# ac.rollout_fragment_length = \"auto\"\n",
    "domain_sk = RCPSPSGSDomain(\n",
    "    model,\n",
    "    params_domain_encoding=ParamsDomainEncoding(\n",
    "        return_times_in_state=True,\n",
    "        return_scheduled_in_state=True,\n",
    "        use_cpm_for_cost=False,\n",
    "        terminate_when_already_schedule=False,\n",
    "        dummy_cost_when_already_schedule=30,\n",
    "        use_additive_makespan_for_cost=True,\n",
    "        nb_min_task_inserted=1,\n",
    "        nb_max_task_inserted=25,\n",
    "        filter_tasks=True,\n",
    "        only_available_tasks=False,\n",
    "    ),\n",
    ")\n",
    "solver = RayRLlib(\n",
    "    domain_factory=lambda: domain_sk.shallow_copy(),\n",
    "    algo_class=DQN,\n",
    "    config=ac,\n",
    "    train_iterations=20,\n",
    ")\n",
    "assert RayRLlib.check_domain(domain_sk)\n",
    "solver.solve()\n",
    "makespan_rllib = run_rollout(domain_sk, solver=solver, nb_rollout=100)\n",
    "records_rllib = np.array(records)"
   ]
  },
  {
   "cell_type": "markdown",
   "id": "a8c4472e-07ee-4b00-beae-33124bdb951a",
   "metadata": {
    "editable": true,
    "slideshow": {
     "slide_type": "subslide"
    },
    "tags": []
   },
   "source": [
    "### Compare different solvers ? "
   ]
  },
  {
   "cell_type": "code",
   "execution_count": 33,
   "id": "9a1550f8-5489-4cd8-bce0-188bb70a912c",
   "metadata": {
    "editable": true,
    "slideshow": {
     "slide_type": ""
    },
    "tags": []
   },
   "outputs": [
    {
     "data": {
      "text/plain": [
       "<matplotlib.legend.Legend at 0x2c49d7220>"
      ]
     },
     "execution_count": 33,
     "metadata": {},
     "output_type": "execute_result"
    },
    {
     "data": {
      "image/png": "[encoded data removed]",
      "text/plain": [
       "<Figure size 640x480 with 1 Axes>"
      ]
     },
     "metadata": {},
     "output_type": "display_data"
    },
    {
     "name": "stderr",
     "output_type": "stream",
     "text": [
      "127.0.0.1 - - [28/May/2024 12:17:19] \"GET /api/studies/35?after=100 HTTP/1.1\" 200 5869\n",
      "127.0.0.1 - - [28/May/2024 12:17:25] \"GET /api/studies/35?after=100 HTTP/1.1\" 200 5869\n",
      "127.0.0.1 - - [28/May/2024 12:17:31] \"GET /api/studies/35?after=100 HTTP/1.1\" 200 5869\n",
      "127.0.0.1 - - [28/May/2024 12:17:37] \"GET /api/studies/35?after=100 HTTP/1.1\" 200 5869\n",
      "127.0.0.1 - - [28/May/2024 12:17:43] \"GET /api/studies/35?after=100 HTTP/1.1\" 200 5869\n",
      "127.0.0.1 - - [28/May/2024 12:17:49] \"GET /api/studies/35?after=100 HTTP/1.1\" 200 5869\n",
      "127.0.0.1 - - [28/May/2024 12:17:55] \"GET /api/studies/35?after=100 HTTP/1.1\" 200 5869\n",
      "127.0.0.1 - - [28/May/2024 12:18:01] \"GET /api/studies/35?after=100 HTTP/1.1\" 200 5869\n",
      "127.0.0.1 - - [28/May/2024 12:18:07] \"GET /api/studies/35?after=100 HTTP/1.1\" 200 5869\n",
      "127.0.0.1 - - [28/May/2024 12:18:13] \"GET /api/studies/35?after=100 HTTP/1.1\" 200 5869\n",
      "127.0.0.1 - - [28/May/2024 12:18:19] \"GET /api/studies/35?after=100 HTTP/1.1\" 200 5869\n",
      "127.0.0.1 - - [28/May/2024 12:18:25] \"GET /api/studies/35?after=100 HTTP/1.1\" 200 5869\n",
      "127.0.0.1 - - [28/May/2024 12:18:31] \"GET /api/studies/35?after=100 HTTP/1.1\" 200 5869\n",
      "127.0.0.1 - - [28/May/2024 12:18:37] \"GET /api/studies/35?after=100 HTTP/1.1\" 200 5869\n",
      "127.0.0.1 - - [28/May/2024 12:18:43] \"GET /api/studies/35?after=100 HTTP/1.1\" 200 5869\n",
      "127.0.0.1 - - [28/May/2024 12:18:49] \"GET /api/studies/35?after=100 HTTP/1.1\" 200 5869\n",
      "127.0.0.1 - - [28/May/2024 12:18:55] \"GET /api/studies/35?after=100 HTTP/1.1\" 200 5869\n",
      "127.0.0.1 - - [28/May/2024 12:19:01] \"GET /api/studies/35?after=100 HTTP/1.1\" 200 5869\n",
      "127.0.0.1 - - [28/May/2024 12:19:07] \"GET /api/studies/35?after=100 HTTP/1.1\" 200 5869\n",
      "127.0.0.1 - - [28/May/2024 12:19:13] \"GET /api/studies/35?after=100 HTTP/1.1\" 200 5869\n",
      "127.0.0.1 - - [28/May/2024 12:19:19] \"GET /api/studies/35?after=100 HTTP/1.1\" 200 5869\n",
      "127.0.0.1 - - [28/May/2024 12:19:25] \"GET /api/studies/35?after=100 HTTP/1.1\" 200 5869\n",
      "127.0.0.1 - - [28/May/2024 12:19:31] \"GET /api/studies/35?after=100 HTTP/1.1\" 200 5869\n",
      "127.0.0.1 - - [28/May/2024 12:19:37] \"GET /api/studies/35?after=100 HTTP/1.1\" 200 5869\n",
      "127.0.0.1 - - [28/May/2024 12:19:43] \"GET /api/studies/35?after=100 HTTP/1.1\" 200 5869\n"
     ]
    }
   ],
   "source": [
    "fig, ax = plt.subplots(1)\n",
    "#ax.plot(np.convolve(records_ppo, np.ones(30) / 30, mode=\"valid\"), label=\"ppo\")\n",
    "#ax.plot(np.convolve(records_a2c, np.ones(30) / 30, mode=\"valid\"), label=\"a2c\")\n",
    "#ax.plot(np.convolve(records_dqn, np.ones(30) / 30, mode=\"valid\"), label=\"dqn\")\n",
    "ax.plot(np.convolve(records_rllib, np.ones(30) / 30, mode=\"valid\"), label=\"rllib-dqn\")\n",
    "ax.legend()"
   ]
  },
  {
   "cell_type": "markdown",
   "id": "1b441df6-4de0-49e6-937e-74257593fbe1",
   "metadata": {
    "editable": true,
    "slideshow": {
     "slide_type": "slide"
    },
    "tags": []
   },
   "source": [
    "### RL on stochastic domain\n",
    "RL is particularly suited for stochastic domains."
   ]
  },
  {
   "cell_type": "code",
   "execution_count": null,
   "id": "b1d1ce1d-7664-491c-8af6-ae139a4ddefb",
   "metadata": {
    "editable": true,
    "slideshow": {
     "slide_type": ""
    },
    "tags": []
   },
   "outputs": [],
   "source": [
    "from discrete_optimization.rcpsp.rcpsp_model import RCPSPSolution\n",
    "from rcpsp_domains.stochastic_rcpsp_sk_domain import (StochasticRCPSPSGSDomain,\n",
    "                                                      records)\n",
    "from skdecide.hub.solver.stable_baselines import StableBaseline\n",
    "from skdecide.utils import rollout\n",
    "\n",
    "records.clear()\n",
    "domain_sk = StochasticRCPSPSGSDomain(\n",
    "    model,\n",
    "    params_domain_encoding=ParamsDomainEncoding(\n",
    "        return_times_in_state=True,\n",
    "        return_scheduled_in_state=True,\n",
    "        use_cpm_for_cost=True,\n",
    "        terminate_when_already_schedule=False,\n",
    "        dummy_cost_when_already_schedule=1,\n",
    "        use_additive_makespan_for_cost=False,\n",
    "        nb_min_task_inserted=1,\n",
    "        nb_max_task_inserted=None,\n",
    "        filter_tasks=False,\n",
    "        only_available_tasks=False,\n",
    "    ),\n",
    ")\n",
    "from stable_baselines3 import A2C, DQN, PPO\n",
    "\n",
    "solver_args = {\n",
    "    \"baselines_policy\": \"MlpPolicy\",\n",
    "    \"learn_config\": {\"total_timesteps\": 100000},\n",
    "    \"verbose\": 0,\n",
    "    # \"learning_rate\": 0.05,\n",
    "    \"n_steps\": 300,\n",
    "    # \"batch_size\": 100\n",
    "}\n",
    "solver_args.update(\n",
    "    {\n",
    "        \"policy_kwargs\": dict(\n",
    "            net_arch=[dict(pi=[256, 256, 128, 128], vf=[256, 256, 128, 128])]\n",
    "        )\n",
    "    }\n",
    ")\n",
    "solver_args[\"algo_class\"] = A2C\n",
    "solver = StableBaseline(domain_factory=lambda: domain_sk, **solver_args)\n",
    "# Start solving\n",
    "solver.solve()\n",
    "makespan_stochastic = []\n",
    "for k in range(100):\n",
    "    episodes = rollout(\n",
    "        domain=domain_sk,\n",
    "        solver=solver,\n",
    "        num_episodes=1,\n",
    "        verbose=False,\n",
    "        return_episodes=True,\n",
    "    )\n",
    "    if domain_sk.state[-1, 0]:\n",
    "        solution_rcpsp = RCPSPSolution(\n",
    "            problem=model,\n",
    "            rcpsp_schedule={\n",
    "                t: {\n",
    "                    \"start_time\": domain_sk.state[domain_sk.task_to_index[t], 1],\n",
    "                    \"end_time\": domain_sk.state[domain_sk.task_to_index[t], 1]\n",
    "                    + domain_sk.dur[domain_sk.task_to_index[t]],\n",
    "                }\n",
    "                for t in model.tasks_list\n",
    "            },\n",
    "        )\n",
    "        makespan_stochastic.append(domain_sk.state[-1, 1])"
   ]
  },
  {
   "cell_type": "code",
   "execution_count": null,
   "id": "97f49fe3-ba88-4916-85fb-d7990db973dc",
   "metadata": {
    "editable": true,
    "slideshow": {
     "slide_type": ""
    },
    "tags": []
   },
   "outputs": [],
   "source": [
    "fig, ax = plt.subplots(1)\n",
    "records_stochastic = np.array(records)\n",
    "ax.plot(np.convolve(records_stochastic, np.ones(30) / 30, mode=\"valid\"))\n",
    "print(compute_statistics(np.array(makespan_stochastic)))\n",
    "plt.show()"
   ]
  },
  {
   "cell_type": "markdown",
   "id": "fd9ad910-bc50-4def-81da-a8975551a9d4",
   "metadata": {
    "editable": true,
    "slideshow": {
     "slide_type": "slide"
    },
    "tags": []
   },
   "source": [
    "### Other approaches with RL\n",
    "One natural way of using RL is to combine it with a local search domain. Actions consists in moving an existing schedule by local moves, and the goal is to apply a sequence of local move that minimizes the fitness."
   ]
  },
  {
   "cell_type": "code",
   "execution_count": null,
   "id": "2c11436d-0cdc-4902-9539-35ceb7d15067",
   "metadata": {
    "editable": true,
    "slideshow": {
     "slide_type": "skip"
    },
    "tags": []
   },
   "outputs": [],
   "source": [
    "def run_rollout_ls(domain, solver=None, nb_rollout=100):\n",
    "    makespans = []\n",
    "    for i in range(1000):\n",
    "        episodes = rollout(\n",
    "            domain=domain,\n",
    "            solver=solver,\n",
    "            verbose=False,\n",
    "            num_episodes=1,\n",
    "            return_episodes=True,\n",
    "        )\n",
    "        solution_rcpsp = RCPSPSolution(\n",
    "            problem=model,\n",
    "            rcpsp_schedule={\n",
    "                t: {\n",
    "                    \"start_time\": domain.state[domain.task_to_index[t]],\n",
    "                    \"end_time\": domain.state[domain.task_to_index[t]]\n",
    "                    + domain.dur[domain.task_to_index[t]],\n",
    "                }\n",
    "                for t in model.tasks_list\n",
    "            },\n",
    "        )\n",
    "        makespans.append(domain_sk.state[-1])\n",
    "    return makespans"
   ]
  },
  {
   "cell_type": "markdown",
   "id": "ae7bd258-78b8-43c3-9477-3424c8542f7e",
   "metadata": {
    "editable": true,
    "slideshow": {
     "slide_type": "subslide"
    },
    "tags": []
   },
   "source": [
    "#### Local search\n",
    "Moves are basic 2-Opt on the permutation (priority queue) of tasks."
   ]
  },
  {
   "cell_type": "code",
   "execution_count": null,
   "id": "43ae0a58-7900-432b-b1ed-8cd857a18ec6",
   "metadata": {
    "editable": true,
    "slideshow": {
     "slide_type": ""
    },
    "tags": []
   },
   "outputs": [],
   "source": [
    "from rcpsp_domains.rcpsp_sk_domain_local_search import (ParamsDomainEncodingLS,\n",
    "                                                        RCPSP_LS_Domain,\n",
    "                                                        records)\n",
    "\n",
    "records.clear()\n",
    "params = ParamsDomainEncodingLS(\n",
    "    use_multidiscrete=True, use_boxspace=False, depth_terminal=10\n",
    ")\n",
    "domain_sk = RCPSP_LS_Domain(model, params_domain_encoding=params)\n",
    "from stable_baselines3 import A2C, DQN, PPO\n",
    "\n",
    "solver_args = {\n",
    "    \"baselines_policy\": \"MlpPolicy\",\n",
    "    \"learn_config\": {\"total_timesteps\": 50000},\n",
    "    \"verbose\": 0,\n",
    "}\n",
    "solver_args.update(\n",
    "    {\n",
    "        \"policy_kwargs\": dict(\n",
    "            net_arch=[dict(pi=[128, 128, 128, 128], vf=[128, 128, 128, 128])]\n",
    "        )\n",
    "    }\n",
    ")\n",
    "solver_args[\"algo_class\"] = A2C\n",
    "solver = StableBaseline(domain_factory=lambda: domain_sk, **solver_args)\n",
    "solver.solve()"
   ]
  },
  {
   "cell_type": "code",
   "execution_count": null,
   "id": "759f6423-e22a-4fe0-95bc-634a85cd22e7",
   "metadata": {
    "editable": true,
    "slideshow": {
     "slide_type": ""
    },
    "tags": []
   },
   "outputs": [],
   "source": [
    "fig, ax = plt.subplots(1)\n",
    "records_ = np.array(records)\n",
    "ax.plot(np.convolve(records_, np.ones(30) / 30, mode=\"valid\"))\n",
    "plt.show()"
   ]
  },
  {
   "cell_type": "markdown",
   "id": "8e834846-588e-487f-8e7a-3bfaae86673d",
   "metadata": {
    "editable": true,
    "slideshow": {
     "slide_type": "subslide"
    },
    "tags": []
   },
   "source": [
    "#### Permutation optimisation in 1 step\n",
    "We can also use RL to optimize directly the full permutation"
   ]
  },
  {
   "cell_type": "code",
   "execution_count": null,
   "id": "e533c1ef-d375-42a4-a706-16519e463980",
   "metadata": {
    "editable": true,
    "slideshow": {
     "slide_type": ""
    },
    "tags": []
   },
   "outputs": [],
   "source": [
    "import os\n",
    "\n",
    "os.environ[\"RAY_DEDUP_LOGS\"] = \"0\"\n",
    "from rcpsp_domains.rcpsp_sk_domain_local_search import (\n",
    "    ParamsDomainEncodingLSOneStep, RCPSP_LS_Domain, RCPSP_LS_Domain_OneStep,\n",
    "    records)\n",
    "\n",
    "records.clear()\n",
    "domain_sk = RCPSP_LS_Domain_OneStep(model)\n",
    "from ray.rllib.algorithms.ppo import PPO\n",
    "\n",
    "config = PPO.get_default_config()\n",
    "config.num_rollout_workers = 5\n",
    "config.num_env_runners = 5\n",
    "config.log_level = \"INFO\"\n",
    "solver = RayRLlib(\n",
    "    domain_factory=lambda: domain_sk.shallow_copy(),\n",
    "    config=config,\n",
    "    algo_class=PPO,\n",
    "    train_iterations=20,\n",
    ")\n",
    "solver.solve()\n",
    "makespans_rllib_one_step = run_rollout_ls(domain_sk, solver, 100)\n",
    "records_rllib = np.array(records)\n",
    "print(compute_statistics(np.array(makespans_rllib_one_step)))"
   ]
  },
  {
   "cell_type": "code",
   "execution_count": null,
   "id": "08073fbf-88be-4729-a0c0-eae9377cb552",
   "metadata": {
    "editable": true,
    "slideshow": {
     "slide_type": ""
    },
    "tags": []
   },
   "outputs": [],
   "source": [
    "from rcpsp_domains.rcpsp_sk_domain_local_search import (\n",
    "    ParamsDomainEncodingLSOneStep, RCPSP_LS_Domain, RCPSP_LS_Domain_OneStep,\n",
    "    records)\n",
    "\n",
    "records.clear()\n",
    "params = ParamsDomainEncodingLSOneStep(action_as_float=False, action_as_int=True)\n",
    "domain_sk = RCPSP_LS_Domain_OneStep(model, params_domain_encoding=params)\n",
    "from stable_baselines3 import A2C, DQN, PPO\n",
    "\n",
    "solver_args = {\n",
    "    \"baselines_policy\": \"MlpPolicy\",\n",
    "    \"learn_config\": {\"total_timesteps\": 50000},\n",
    "    \"verbose\": 0,\n",
    "}\n",
    "solver_args.update(\n",
    "    {\n",
    "        \"policy_kwargs\": dict(\n",
    "            net_arch=[dict(pi=[128, 128, 128, 128], vf=[128, 128, 128, 128])]\n",
    "        )\n",
    "    }\n",
    ")\n",
    "solver_args[\"algo_class\"] = A2C\n",
    "solver = StableBaseline(domain_factory=lambda: domain_sk, **solver_args)\n",
    "solver.solve()\n",
    "makespans_sb_one_step = run_rollout_ls(domain_sk, solver, 100)\n",
    "print(compute_statistics(np.array(makespans_sb_one_step)))"
   ]
  },
  {
   "cell_type": "code",
   "execution_count": null,
   "id": "ee8776fa-e197-45c3-81a3-3c161759c39c",
   "metadata": {
    "editable": true,
    "slideshow": {
     "slide_type": "subslide"
    },
    "tags": []
   },
   "outputs": [],
   "source": [
    "fig, ax = plt.subplots(1)\n",
    "records_sb = np.array(records)\n",
    "ax.plot(np.convolve(records_sb, np.ones(30) / 30, mode=\"valid\"), label=\"sb\")\n",
    "ax.plot(np.convolve(records_rllib, np.ones(30) / 30, mode=\"valid\"), label=\"rllib\")\n",
    "ax.legend()"
   ]
  },
  {
   "cell_type": "code",
   "execution_count": null,
   "id": "04f7af8e-1cce-4e86-89fb-957970056f81",
   "metadata": {
    "editable": true,
    "slideshow": {
     "slide_type": ""
    },
    "tags": []
   },
   "outputs": [],
   "source": []
  }
 ],
 "metadata": {
  "celltoolbar": "Slideshow",
  "kernelspec": {
   "display_name": "Python 3 (ipykernel)",
   "language": "python",
   "name": "python3"
  },
  "language_info": {
   "codemirror_mode": {
    "name": "ipython",
    "version": 3
   },
   "file_extension": ".py",
   "mimetype": "text/x-python",
   "name": "python",
   "nbconvert_exporter": "python",
   "pygments_lexer": "ipython3",
   "version": "3.10.13"
  }
 },
 "nbformat": 4,
 "nbformat_minor": 5
}
